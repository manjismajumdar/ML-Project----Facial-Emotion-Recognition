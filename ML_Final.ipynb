{
 "cells": [
  {
   "cell_type": "code",
   "execution_count": 1,
   "id": "9af5e1ec",
   "metadata": {},
   "outputs": [],
   "source": [
    "import cv2\n",
    "import os\n",
    "import matplotlib.pyplot as plt\n",
    "import seaborn as sns\n",
    "import pandas as pd\n",
    "import numpy as np\n",
    "import math"
   ]
  },
  {
   "cell_type": "markdown",
   "id": "486cf498",
   "metadata": {},
   "source": [
    "## Splitting image for a single image:"
   ]
  },
  {
   "cell_type": "code",
   "execution_count": 2,
   "id": "6f80d4af",
   "metadata": {},
   "outputs": [],
   "source": [
    "# image = cv2.imread(\"Training_3908.jpg\")"
   ]
  },
  {
   "cell_type": "code",
   "execution_count": 3,
   "id": "19cfd9e8",
   "metadata": {},
   "outputs": [],
   "source": [
    "# image_2d = cv2.cvtColor(image, cv2.COLOR_BGR2GRAY)\n",
    "# plt.imshow(image_2d)"
   ]
  },
  {
   "cell_type": "code",
   "execution_count": 4,
   "id": "3ea06d66",
   "metadata": {},
   "outputs": [],
   "source": [
    "# left, right = image_2d.shape\n",
    "# half = right//2"
   ]
  },
  {
   "cell_type": "code",
   "execution_count": 5,
   "id": "06bb23ef",
   "metadata": {},
   "outputs": [],
   "source": [
    "# lef_top=image_2d[:half, :half]\n",
    "# right_top=image_2d[:half, half:]\n",
    "# left_bottom=image_2d[half:,:half]\n",
    "# right_bottom=image_2d[half:,half:]"
   ]
  },
  {
   "cell_type": "code",
   "execution_count": 6,
   "id": "edf3daf0",
   "metadata": {},
   "outputs": [],
   "source": [
    "# fig,ax = plt.subplots(2,2)\n",
    "# ax[0,0].imshow(lef_top)\n",
    "# ax[0,1].imshow(right_top)\n",
    "# ax[1,0].imshow(left_bottom)\n",
    "# ax[1,1].imshow(right_bottom)"
   ]
  },
  {
   "cell_type": "code",
   "execution_count": 7,
   "id": "8fe04e01",
   "metadata": {},
   "outputs": [],
   "source": [
    "# fig,ax = plt.subplots(4,2)\n",
    "# ax[0,0].imshow(l_top[0])\n",
    "# ax[0,1].imshow(r_top[0])\n",
    "# ax[1,0].imshow(l_bottom[0])\n",
    "# ax[1,1].imshow(r_bottom[0])\n",
    "# ax[2,0].imshow(l_top[1])\n",
    "# ax[2,1].imshow(r_top[1])\n",
    "# ax[3,0].imshow(l_bottom[1])\n",
    "# ax[3,1].imshow(r_bottom[1])\n",
    "# plt.show()"
   ]
  },
  {
   "cell_type": "markdown",
   "id": "169fe0da",
   "metadata": {},
   "source": [
    "## All the functions:"
   ]
  },
  {
   "cell_type": "code",
   "execution_count": 2,
   "id": "64b341bf",
   "metadata": {},
   "outputs": [],
   "source": [
    "# 2D CONVERSION FUNCTION:\n",
    "\n",
    "def convert_2d(img):\n",
    "    image_2d = cv2.cvtColor(img, cv2.COLOR_BGR2GRAY)\n",
    "    return image_2d"
   ]
  },
  {
   "cell_type": "code",
   "execution_count": 3,
   "id": "f4a1450f",
   "metadata": {},
   "outputs": [],
   "source": [
    "# IMAGE GRADIENT FUNCTION:\n",
    "\n",
    "def IG(img):\n",
    "    sobelX = cv2.Sobel(img, cv2.CV_64F, 1, 0)\n",
    "    sobelY = cv2.Sobel(img, cv2.CV_64F, 0, 1)\n",
    "    img_grad=np.sqrt(sobelX**2+sobelY**2)\n",
    "    return img_grad"
   ]
  },
  {
   "cell_type": "code",
   "execution_count": 4,
   "id": "07568cc7",
   "metadata": {},
   "outputs": [],
   "source": [
    "# THETA FUNCTION:\n",
    "\n",
    "def theta(img):\n",
    "    sobelX = cv2.Sobel(img, cv2.CV_64F, 1, 0)\n",
    "    sobelY = cv2.Sobel(img, cv2.CV_64F, 0, 1)\n",
    "    slope = sobelY/sobelX\n",
    "    slope1 = np.nan_to_num(slope, copy = True, nan = float('inf'))\n",
    "    theta = np.arctan(slope1)\n",
    "    return theta"
   ]
  },
  {
   "cell_type": "code",
   "execution_count": 5,
   "id": "7a814d9d",
   "metadata": {},
   "outputs": [],
   "source": [
    "# ANGLE INTERVAL CONVERSION FUNCTION:\n",
    "def convert_angle_to_0_pi_interval(angle):\n",
    "    new_angle = np.arctan2(np.sin(angle), np.cos(angle))\n",
    "    if new_angle < 0:\n",
    "        new_angle = abs(new_angle) + (np.pi - abs(new_angle))\n",
    "    return new_angle"
   ]
  },
  {
   "cell_type": "code",
   "execution_count": 6,
   "id": "e91a167a",
   "metadata": {},
   "outputs": [],
   "source": [
    "# FINAL THETA FUNCTION:\n",
    "\n",
    "def final_theta(theta_arr):\n",
    "    conv_theta = np.rad2deg([[[convert_angle_to_0_pi_interval(np.deg2rad(j)) for j in i] for i in a] for a in theta_arr])\n",
    "    conv_theta[conv_theta == 180] = np.pi\n",
    "    conv_theta = np.absolute(conv_theta)\n",
    "    return conv_theta"
   ]
  },
  {
   "cell_type": "code",
   "execution_count": 7,
   "id": "0afd2315",
   "metadata": {},
   "outputs": [],
   "source": [
    "# HISTOGRAM FUNCTION:\n",
    "\n",
    "def histograms(grad,theta):\n",
    "    hiss = np.zeros(16)\n",
    "    theta = np.array(theta)\n",
    "    theta = np.rad2deg(theta)\n",
    "    thet = np.int32(theta/11.25)\n",
    "    for i in range(grad.shape[0]):\n",
    "        for j in range(grad.shape[1]):\n",
    "            grd = grad[i][j]\n",
    "            ind = thet[i][j]\n",
    "            if ind == 16: \n",
    "                ind-= 1\n",
    "            hiss[ind] += grd\n",
    "    return hiss"
   ]
  },
  {
   "cell_type": "code",
   "execution_count": 8,
   "id": "f621aac4",
   "metadata": {},
   "outputs": [],
   "source": [
    "# PLOTTING FUNCTION:\n",
    "\n",
    "def plotting(hiss):\n",
    "    label = ['{}-{}'.format(i,j) for i,j in zip(np.arange(0,181-11.25,11.25), np.arange(11.25,181,11.25))]\n",
    "    plt.bar(label, height = hiss, width = 0.9)\n",
    "    plt.xticks(rotation = 90)\n",
    "    plt.xlabel(\"Theta\")\n",
    "    plt.ylabel(\"Image Gradient\")\n",
    "    plt.title('Bar plot')\n",
    "    plt.show()\n",
    "\n",
    "\n",
    "def plotting4(hiss):\n",
    "    plt.figure(figsize=(16,10))\n",
    "    label_lt = ['{}-{}lt'.format(i,j) for i,j in zip(np.arange(0,181-11.25,11.25), np.arange(11.25,181,11.25))]\n",
    "    label_rt = ['{}-{}rt'.format(i,j) for i,j in zip(np.arange(0,181-11.25,11.25), np.arange(11.25,181,11.25))]\n",
    "    label_lb = ['{}-{}lb'.format(i,j) for i,j in zip(np.arange(0,181-11.25,11.25), np.arange(11.25,181,11.25))]\n",
    "    label_rb = ['{}-{}rb'.format(i,j) for i,j in zip(np.arange(0,181-11.25,11.25), np.arange(11.25,181,11.25))]\n",
    "    label = label_lt+label_rt+label_lb+label_rb\n",
    "    plt.bar(label, height = hiss, width = 0.9)\n",
    "    plt.xticks(rotation = 90)\n",
    "    plt.xlabel(\"Theta\")\n",
    "    plt.ylabel(\"Image Gradient\")\n",
    "    plt.title('Bar plot')\n",
    "    plt.show()"
   ]
  },
  {
   "cell_type": "code",
   "execution_count": 9,
   "id": "ab4abcd0",
   "metadata": {},
   "outputs": [],
   "source": [
    "def plotting_f(hiss):\n",
    "    plt.figure(figsize=(16,10))\n",
    "    label_lt = ['{}-{}lt'.format(i,j) for i,j in zip(np.arange(0,181-11.25,11.25), np.arange(11.25,181,11.25))]\n",
    "    label_rt = ['{}-{}rt'.format(i,j) for i,j in zip(np.arange(0,181-11.25,11.25), np.arange(11.25,181,11.25))]\n",
    "    label_lb = ['{}-{}lb'.format(i,j) for i,j in zip(np.arange(0,181-11.25,11.25), np.arange(11.25,181,11.25))]\n",
    "    label_rb = ['{}-{}rb'.format(i,j) for i,j in zip(np.arange(0,181-11.25,11.25), np.arange(11.25,181,11.25))]\n",
    "    label_gb = ['{}-{}gb'.format(i,j) for i,j in zip(np.arange(0,181-11.25,11.25), np.arange(11.25,181,11.25))]\n",
    "    label = label_lt + label_rt + label_lb + label_rb + label_gb\n",
    "    plt.bar(label, height = hiss, width = 0.9)\n",
    "    plt.xticks(rotation = 90)\n",
    "    plt.xlabel(\"Theta\")\n",
    "    plt.ylabel(\"Image Gradient\")\n",
    "    plt.title('Bar plot')\n",
    "    plt.show()"
   ]
  },
  {
   "cell_type": "markdown",
   "id": "ada00de5",
   "metadata": {},
   "source": [
    "## Making a dict of all the expressions:"
   ]
  },
  {
   "cell_type": "code",
   "execution_count": 10,
   "id": "2782712e",
   "metadata": {},
   "outputs": [],
   "source": [
    "train_exp_dict = {\"Angry\":[], \"Disgust\":[], \"Fear\":[], \"Happy\":[], \"Neutral\":[], \"Sad\":[], \"Surprise\":[]}\n",
    "train_paths = ['train_angry', 'train_disgust', 'train_fear', 'train_happy', 'train_neutral', 'train_sad', 'train_surprise']\n",
    "for (i,j) in zip(train_exp_dict.keys(),train_paths):\n",
    "    train_exp_dict[i] = os.listdir(j)"
   ]
  },
  {
   "cell_type": "code",
   "execution_count": 11,
   "id": "a8f0b569",
   "metadata": {},
   "outputs": [],
   "source": [
    "test_exp_dict = {\"Angry\":[], \"Disgust\":[], \"Fear\":[], \"Happy\":[], \"Neutral\":[], \"Sad\":[], \"Surprise\":[]}\n",
    "test_paths = ['test_angry', 'test_disgust', 'test_fear', 'test_happy', 'test_neutral', 'test_sad', 'test_surprise']\n",
    "for (i,j) in zip(test_exp_dict.keys(),test_paths):\n",
    "    test_exp_dict[i] = os.listdir(j)"
   ]
  },
  {
   "cell_type": "markdown",
   "id": "ac972aed",
   "metadata": {},
   "source": [
    "### Angry:"
   ]
  },
  {
   "cell_type": "code",
   "execution_count": 12,
   "id": "db6c873d",
   "metadata": {},
   "outputs": [],
   "source": [
    "train_full_list_angry = []\n",
    "for img in train_exp_dict[\"Angry\"]:\n",
    "    img_arr = cv2.imread(os.path.join(train_paths[0], img))\n",
    "#     img_arr = img_arr/255\n",
    "#     plt.figure()\n",
    "#     plt.imshow(img_arr)\n",
    "    train_full_list_angry.append(img_arr)"
   ]
  },
  {
   "cell_type": "code",
   "execution_count": 13,
   "id": "04e472e9",
   "metadata": {},
   "outputs": [],
   "source": [
    "test_full_list_angry = []\n",
    "for img in test_exp_dict[\"Angry\"]:\n",
    "    img_arr = cv2.imread(os.path.join(test_paths[0], img))\n",
    "#     img_arr = img_arr/255\n",
    "#     plt.figure()\n",
    "#     plt.imshow(img_arr)\n",
    "    test_full_list_angry.append(img_arr)"
   ]
  },
  {
   "cell_type": "markdown",
   "id": "3095d523",
   "metadata": {},
   "source": [
    "### Disgust:"
   ]
  },
  {
   "cell_type": "code",
   "execution_count": 14,
   "id": "c9574662",
   "metadata": {},
   "outputs": [],
   "source": [
    "train_full_list_disgust = []\n",
    "for img in train_exp_dict[\"Disgust\"]:\n",
    "    img_arr = cv2.imread(os.path.join(train_paths[1], img))\n",
    "#     img_arr = img_arr/255\n",
    "#     plt.figure()\n",
    "#     plt.imshow(img_arr)\n",
    "    train_full_list_disgust.append(img_arr)"
   ]
  },
  {
   "cell_type": "code",
   "execution_count": 15,
   "id": "d50b1250",
   "metadata": {},
   "outputs": [],
   "source": [
    "test_full_list_disgust = []\n",
    "for img in test_exp_dict[\"Disgust\"]:\n",
    "    img_arr = cv2.imread(os.path.join(test_paths[1], img))\n",
    "#     img_arr = img_arr/255\n",
    "#     plt.figure()\n",
    "#     plt.imshow(img_arr)\n",
    "    test_full_list_disgust.append(img_arr)"
   ]
  },
  {
   "cell_type": "markdown",
   "id": "d6506084",
   "metadata": {},
   "source": [
    "### Fear:"
   ]
  },
  {
   "cell_type": "code",
   "execution_count": 16,
   "id": "1069f75d",
   "metadata": {},
   "outputs": [],
   "source": [
    "train_full_list_fear = []\n",
    "for img in train_exp_dict[\"Fear\"]:\n",
    "    img_arr = cv2.imread(os.path.join(train_paths[2], img))\n",
    "#     img_arr = img_arr/255\n",
    "#     plt.figure()\n",
    "#     plt.imshow(img_arr)\n",
    "    train_full_list_fear.append(img_arr)"
   ]
  },
  {
   "cell_type": "code",
   "execution_count": 17,
   "id": "b1a873de",
   "metadata": {},
   "outputs": [],
   "source": [
    "test_full_list_fear = []\n",
    "for img in test_exp_dict[\"Fear\"]:\n",
    "    img_arr = cv2.imread(os.path.join(test_paths[2], img))\n",
    "#     img_arr = img_arr/255\n",
    "#     plt.figure()\n",
    "#     plt.imshow(img_arr)\n",
    "    test_full_list_fear.append(img_arr)"
   ]
  },
  {
   "cell_type": "markdown",
   "id": "16497c1b",
   "metadata": {},
   "source": [
    "### Happy:"
   ]
  },
  {
   "cell_type": "code",
   "execution_count": 18,
   "id": "eb561c7e",
   "metadata": {},
   "outputs": [],
   "source": [
    "train_full_list_happy = []\n",
    "for img in train_exp_dict[\"Happy\"]:\n",
    "    img_arr = cv2.imread(os.path.join(train_paths[3], img))\n",
    "#     img_arr = img_arr/255\n",
    "#     plt.figure()\n",
    "#     plt.imshow(img_arr)\n",
    "    train_full_list_happy.append(img_arr)"
   ]
  },
  {
   "cell_type": "code",
   "execution_count": 19,
   "id": "f656ff1a",
   "metadata": {},
   "outputs": [],
   "source": [
    "test_full_list_happy = []\n",
    "for img in test_exp_dict[\"Happy\"]:\n",
    "    img_arr = cv2.imread(os.path.join(test_paths[3], img))\n",
    "#     img_arr = img_arr/255\n",
    "#     plt.figure()\n",
    "#     plt.imshow(img_arr)\n",
    "    test_full_list_happy.append(img_arr)"
   ]
  },
  {
   "cell_type": "markdown",
   "id": "059ff54e",
   "metadata": {},
   "source": [
    "### Neutral:"
   ]
  },
  {
   "cell_type": "code",
   "execution_count": 20,
   "id": "d97a4580",
   "metadata": {},
   "outputs": [],
   "source": [
    "train_full_list_neutral = []\n",
    "for img in train_exp_dict[\"Neutral\"]:\n",
    "    img_arr = cv2.imread(os.path.join(train_paths[4], img))\n",
    "#     img_arr = img_arr/255\n",
    "#     plt.figure()\n",
    "#     plt.imshow(img_arr)\n",
    "    train_full_list_neutral.append(img_arr)"
   ]
  },
  {
   "cell_type": "code",
   "execution_count": 21,
   "id": "b4f59ed7",
   "metadata": {},
   "outputs": [],
   "source": [
    "test_full_list_neutral = []\n",
    "for img in test_exp_dict[\"Neutral\"]:\n",
    "    img_arr = cv2.imread(os.path.join(test_paths[4], img))\n",
    "#     img_arr = img_arr/255\n",
    "#     plt.figure()\n",
    "#     plt.imshow(img_arr)\n",
    "    test_full_list_neutral.append(img_arr)"
   ]
  },
  {
   "cell_type": "markdown",
   "id": "0736e242",
   "metadata": {},
   "source": [
    "### Sad:"
   ]
  },
  {
   "cell_type": "code",
   "execution_count": 22,
   "id": "77f47d69",
   "metadata": {},
   "outputs": [],
   "source": [
    "train_full_list_sad = []\n",
    "for img in train_exp_dict[\"Sad\"]:\n",
    "    img_arr = cv2.imread(os.path.join(train_paths[5], img))\n",
    "#     img_arr = img_arr/255\n",
    "#     plt.figure()\n",
    "#     plt.imshow(img_arr)\n",
    "    train_full_list_sad.append(img_arr)"
   ]
  },
  {
   "cell_type": "code",
   "execution_count": 23,
   "id": "72ea17e4",
   "metadata": {},
   "outputs": [],
   "source": [
    "test_full_list_sad = []\n",
    "for img in test_exp_dict[\"Sad\"]:\n",
    "    img_arr = cv2.imread(os.path.join(test_paths[5], img))\n",
    "#     img_arr = img_arr/255\n",
    "#     plt.figure()\n",
    "#     plt.imshow(img_arr)\n",
    "    test_full_list_sad.append(img_arr)"
   ]
  },
  {
   "cell_type": "markdown",
   "id": "3335702d",
   "metadata": {},
   "source": [
    "### Surprise:"
   ]
  },
  {
   "cell_type": "code",
   "execution_count": 24,
   "id": "2425cf1b",
   "metadata": {},
   "outputs": [],
   "source": [
    "train_full_list_surprise = []\n",
    "for img in train_exp_dict[\"Surprise\"]:\n",
    "    img_arr = cv2.imread(os.path.join(train_paths[6], img))\n",
    "#     img_arr = img_arr/255\n",
    "#     plt.figure()\n",
    "#     plt.imshow(img_arr)\n",
    "    train_full_list_surprise.append(img_arr)"
   ]
  },
  {
   "cell_type": "code",
   "execution_count": 25,
   "id": "ad56031a",
   "metadata": {},
   "outputs": [],
   "source": [
    "test_full_list_surprise = []\n",
    "for img in test_exp_dict[\"Surprise\"]:\n",
    "    img_arr = cv2.imread(os.path.join(test_paths[6], img))\n",
    "#     img_arr = img_arr/255\n",
    "#     plt.figure()\n",
    "#     plt.imshow(img_arr)\n",
    "    test_full_list_surprise.append(img_arr)"
   ]
  },
  {
   "cell_type": "markdown",
   "id": "07e473d6",
   "metadata": {},
   "source": [
    "## Appending all the expressions in a single list for train and test:"
   ]
  },
  {
   "cell_type": "code",
   "execution_count": 26,
   "id": "d2f2f3ae",
   "metadata": {},
   "outputs": [],
   "source": [
    "l1 = [train_full_list_angry,train_full_list_disgust,train_full_list_fear,train_full_list_happy,\n",
    "      train_full_list_neutral,train_full_list_sad,train_full_list_surprise]\n",
    "\n",
    "l2 = [test_full_list_angry,test_full_list_disgust,test_full_list_fear,test_full_list_happy,\n",
    "      test_full_list_neutral,test_full_list_sad,test_full_list_surprise]"
   ]
  },
  {
   "cell_type": "code",
   "execution_count": 27,
   "id": "83a331f7",
   "metadata": {},
   "outputs": [],
   "source": [
    "lis = []\n",
    "for i in l1:\n",
    "    lis.extend(i)\n",
    "\n",
    "lis1 = []\n",
    "for i in l2:\n",
    "    lis1.extend(i)"
   ]
  },
  {
   "cell_type": "code",
   "execution_count": 28,
   "id": "aed3ad3f",
   "metadata": {},
   "outputs": [],
   "source": [
    "train_list = lis\n",
    "\n",
    "test_list = lis1"
   ]
  },
  {
   "cell_type": "code",
   "execution_count": 29,
   "id": "20ea230f",
   "metadata": {},
   "outputs": [],
   "source": [
    "train_list_upd = [convert_2d(i) for i in train_list]\n",
    "test_list_upd = [convert_2d(i) for i in test_list]"
   ]
  },
  {
   "cell_type": "code",
   "execution_count": 30,
   "id": "d8fa1f31",
   "metadata": {},
   "outputs": [
    {
     "data": {
      "text/plain": [
       "(48, 48)"
      ]
     },
     "execution_count": 30,
     "metadata": {},
     "output_type": "execute_result"
    }
   ],
   "source": [
    "train_list_upd[0].shape"
   ]
  },
  {
   "cell_type": "markdown",
   "id": "430eb64c",
   "metadata": {},
   "source": [
    "# GLOBAL:"
   ]
  },
  {
   "cell_type": "code",
   "execution_count": 32,
   "id": "fb58681c",
   "metadata": {},
   "outputs": [],
   "source": [
    "# Image Gradient calculation (train data)\n",
    "IG_train = [IG(i) for i in train_list_upd]"
   ]
  },
  {
   "cell_type": "code",
   "execution_count": 33,
   "id": "8a5ffadf",
   "metadata": {},
   "outputs": [],
   "source": [
    "# Image Gradient calculation (test data)\n",
    "IG_test = [IG(i) for i in test_list_upd]"
   ]
  },
  {
   "cell_type": "code",
   "execution_count": 34,
   "id": "0541ee77",
   "metadata": {
    "scrolled": true
   },
   "outputs": [
    {
     "name": "stderr",
     "output_type": "stream",
     "text": [
      "<ipython-input-5-b6348c9701f0>:6: RuntimeWarning: divide by zero encountered in true_divide\n",
      "  slope = sobelY/sobelX\n",
      "<ipython-input-5-b6348c9701f0>:6: RuntimeWarning: invalid value encountered in true_divide\n",
      "  slope = sobelY/sobelX\n"
     ]
    }
   ],
   "source": [
    "# calculating theta (train)\n",
    "theta_train=[theta(i) for i in train_list_upd]\n",
    "final_theta_train = final_theta(theta_train)"
   ]
  },
  {
   "cell_type": "code",
   "execution_count": 35,
   "id": "3669e25d",
   "metadata": {},
   "outputs": [
    {
     "name": "stderr",
     "output_type": "stream",
     "text": [
      "<ipython-input-5-b6348c9701f0>:6: RuntimeWarning: divide by zero encountered in true_divide\n",
      "  slope = sobelY/sobelX\n",
      "<ipython-input-5-b6348c9701f0>:6: RuntimeWarning: invalid value encountered in true_divide\n",
      "  slope = sobelY/sobelX\n"
     ]
    }
   ],
   "source": [
    "# calculating theta (test)\n",
    "theta_test=[theta(i) for i in test_list_upd]\n",
    "final_theta_test = final_theta(theta_test)"
   ]
  },
  {
   "cell_type": "code",
   "execution_count": 36,
   "id": "34ab9dd1",
   "metadata": {},
   "outputs": [],
   "source": [
    "# Histogram Calculation\n",
    "hist_train = [histograms(item1,item2) for (item1, item2) in zip(IG_train, final_theta_train)]"
   ]
  },
  {
   "cell_type": "code",
   "execution_count": 37,
   "id": "6b9456be",
   "metadata": {},
   "outputs": [],
   "source": [
    "# Histogram Calculation\n",
    "hist_test = [histograms(item1,item2) for (item1, item2) in zip(IG_test, final_theta_test)]"
   ]
  },
  {
   "cell_type": "code",
   "execution_count": 38,
   "id": "4c686150",
   "metadata": {},
   "outputs": [],
   "source": [
    "label = 1\n",
    "y_train = []\n",
    "for i in l1:\n",
    "    y_train.extend(np.repeat(label , len(i)))\n",
    "    label += 1\n",
    "\n",
    "label1 = 1\n",
    "y_test = []\n",
    "for i in l2:\n",
    "    y_test.extend(np.repeat(label1 , len(i)))\n",
    "    label1 += 1"
   ]
  },
  {
   "cell_type": "code",
   "execution_count": 39,
   "id": "93ef8b8d",
   "metadata": {},
   "outputs": [],
   "source": [
    "X_train_global = hist_train\n",
    "Y_train = y_train\n",
    "X_test_global = hist_test\n",
    "Y_test = y_test"
   ]
  },
  {
   "cell_type": "code",
   "execution_count": 40,
   "id": "a5c985be",
   "metadata": {},
   "outputs": [],
   "source": [
    "hist_train1 = np.array(hist_train)\n",
    "hist_train_norm = hist_train1/(hist_train1.sum())\n",
    "hist_train_norm = np.absolute(hist_train_norm)"
   ]
  },
  {
   "cell_type": "code",
   "execution_count": 41,
   "id": "181d18f0",
   "metadata": {},
   "outputs": [],
   "source": [
    "hist_test1 = np.array(hist_test)\n",
    "hist_test_norm = hist_test1/(hist_test1.sum())\n",
    "hist_test_norm = np.absolute(hist_test_norm)"
   ]
  },
  {
   "cell_type": "code",
   "execution_count": 42,
   "id": "1a01c0ae",
   "metadata": {},
   "outputs": [],
   "source": [
    "X_train_global_norm = hist_train_norm\n",
    "X_test_global_norm = hist_test_norm"
   ]
  },
  {
   "cell_type": "code",
   "execution_count": 43,
   "id": "647ed638",
   "metadata": {},
   "outputs": [
    {
     "data": {
      "image/png": "[encoded data removed]",
      "text/plain": [
       "<Figure size 432x288 with 1 Axes>"
      ]
     },
     "metadata": {
      "needs_background": "light"
     },
     "output_type": "display_data"
    },
    {
     "data": {
      "image/png": "[encoded data removed]",
      "text/plain": [
       "<Figure size 432x288 with 1 Axes>"
      ]
     },
     "metadata": {
      "needs_background": "light"
     },
     "output_type": "display_data"
    }
   ],
   "source": [
    "for i in hist_train_norm[0:2]:\n",
    "    plotting(i)"
   ]
  },
  {
   "cell_type": "markdown",
   "id": "3563fbc4",
   "metadata": {},
   "source": [
    "## KNN:"
   ]
  },
  {
   "cell_type": "markdown",
   "id": "fa5e2fb9",
   "metadata": {},
   "source": [
    "### For simple histogram:"
   ]
  },
  {
   "cell_type": "code",
   "execution_count": 49,
   "id": "61ad47f5",
   "metadata": {},
   "outputs": [],
   "source": [
    "from sklearn.neighbors import KNeighborsClassifier"
   ]
  },
  {
   "cell_type": "code",
   "execution_count": 50,
   "id": "84430c24",
   "metadata": {},
   "outputs": [],
   "source": [
    "k =[KNeighborsClassifier(n_neighbors=i+1) for i in range(25)]"
   ]
  },
  {
   "cell_type": "code",
   "execution_count": 51,
   "id": "78c57311",
   "metadata": {},
   "outputs": [],
   "source": [
    "f_global = [i.fit(X_train_global, Y_train) for i in k]"
   ]
  },
  {
   "cell_type": "code",
   "execution_count": 273,
   "id": "b7eb40eb",
   "metadata": {},
   "outputs": [],
   "source": [
    "s_global_train = [i.score(X_train_global,Y_train) for i in f_global]"
   ]
  },
  {
   "cell_type": "code",
   "execution_count": 274,
   "id": "259a3df8",
   "metadata": {},
   "outputs": [
    {
     "name": "stdout",
     "output_type": "stream",
     "text": [
      "           0\n",
      "0   0.998084\n",
      "1   0.647706\n",
      "2   0.564248\n",
      "3   0.524818\n",
      "4   0.493608\n",
      "5   0.465150\n",
      "6   0.446341\n",
      "7   0.432687\n",
      "8   0.420530\n",
      "9   0.407155\n",
      "10  0.398203\n",
      "11  0.391271\n",
      "12  0.382876\n",
      "13  0.379951\n",
      "14  0.374865\n",
      "15  0.371556\n",
      "16  0.366993\n",
      "17  0.362082\n",
      "18  0.356334\n",
      "19  0.352050\n",
      "20  0.350935\n",
      "21  0.349263\n",
      "22  0.345188\n",
      "23  0.342227\n",
      "24  0.339406\n"
     ]
    },
    {
     "data": {
      "image/png": "[encoded data removed]",
      "text/plain": [
       "<Figure size 432x288 with 1 Axes>"
      ]
     },
     "metadata": {
      "needs_background": "light"
     },
     "output_type": "display_data"
    }
   ],
   "source": [
    "df_global_train = pd.DataFrame(s_global_train)\n",
    "print(df_global_train)\n",
    "plt.plot(df_global_train)\n",
    "plt.show()"
   ]
  },
  {
   "cell_type": "code",
   "execution_count": 275,
   "id": "a4310c44",
   "metadata": {},
   "outputs": [],
   "source": [
    "knn_accuracy_global_train = s_global_train[1]\n",
    "### train_accuracy"
   ]
  },
  {
   "cell_type": "code",
   "execution_count": 52,
   "id": "d3b27493",
   "metadata": {},
   "outputs": [],
   "source": [
    "s_global = [i.score(X_test_global,Y_test) for i in f_global]"
   ]
  },
  {
   "cell_type": "code",
   "execution_count": 53,
   "id": "26c6bb64",
   "metadata": {},
   "outputs": [
    {
     "name": "stdout",
     "output_type": "stream",
     "text": [
      "           0\n",
      "0   0.301337\n",
      "1   0.259125\n",
      "2   0.250348\n",
      "3   0.257314\n",
      "4   0.266927\n",
      "5   0.267623\n",
      "6   0.264558\n",
      "7   0.263165\n",
      "8   0.264001\n",
      "9   0.258568\n",
      "10  0.264837\n",
      "11  0.260379\n",
      "12  0.263583\n",
      "13  0.264419\n",
      "14  0.264976\n",
      "15  0.266369\n",
      "16  0.265673\n",
      "17  0.263862\n",
      "18  0.262469\n",
      "19  0.261633\n",
      "20  0.258707\n",
      "21  0.256060\n",
      "22  0.253831\n",
      "23  0.252717\n",
      "24  0.256339\n"
     ]
    },
    {
     "data": {
      "image/png": "[encoded data removed]",
      "text/plain": [
       "<Figure size 432x288 with 1 Axes>"
      ]
     },
     "metadata": {
      "needs_background": "light"
     },
     "output_type": "display_data"
    }
   ],
   "source": [
    "df_global = pd.DataFrame(s_global)\n",
    "print(df_global)\n",
    "plt.plot(df_global)\n",
    "plt.show()"
   ]
  },
  {
   "cell_type": "code",
   "execution_count": 54,
   "id": "999ed360",
   "metadata": {},
   "outputs": [],
   "source": [
    "knn_accuracy_global = s_global[1]"
   ]
  },
  {
   "cell_type": "code",
   "execution_count": 55,
   "id": "947e56d2",
   "metadata": {},
   "outputs": [
    {
     "data": {
      "text/plain": [
       "array([4, 4, 6, ..., 6, 7, 4])"
      ]
     },
     "execution_count": 55,
     "metadata": {},
     "output_type": "execute_result"
    }
   ],
   "source": [
    "y_pred_global = f_global[0].predict(X_test_global)\n",
    "y_pred_global"
   ]
  },
  {
   "cell_type": "code",
   "execution_count": 56,
   "id": "797f4dce",
   "metadata": {},
   "outputs": [],
   "source": [
    "from sklearn.metrics import confusion_matrix"
   ]
  },
  {
   "cell_type": "code",
   "execution_count": 57,
   "id": "2e29b7f8",
   "metadata": {},
   "outputs": [
    {
     "name": "stdout",
     "output_type": "stream",
     "text": [
      "[[258  14 123 255 178 149  66]\n",
      " [  5  42  15  16  14  10   9]\n",
      " [117  10 322 231 155 179  87]\n",
      " [208  15 202 550 323 293 120]\n",
      " [135  13 142 294 278 197  89]\n",
      " [150  12 142 265 188 324  71]\n",
      " [ 85   5  78 163  97  95 389]]\n"
     ]
    }
   ],
   "source": [
    "print(confusion_matrix(y_pred_global, Y_test))"
   ]
  },
  {
   "cell_type": "markdown",
   "id": "45278ab0",
   "metadata": {},
   "source": [
    "### For normalized histogram:"
   ]
  },
  {
   "cell_type": "code",
   "execution_count": 58,
   "id": "24c11f37",
   "metadata": {},
   "outputs": [],
   "source": [
    "k =[KNeighborsClassifier(n_neighbors=i+1) for i in range(25)]"
   ]
  },
  {
   "cell_type": "code",
   "execution_count": 59,
   "id": "319fb0b6",
   "metadata": {},
   "outputs": [],
   "source": [
    "f_global_norm = [i.fit(X_train_global_norm, Y_train) for i in k]"
   ]
  },
  {
   "cell_type": "code",
   "execution_count": 277,
   "id": "e2c3bab5",
   "metadata": {},
   "outputs": [],
   "source": [
    "s_global_norm_train = [i.score(X_train_global_norm,Y_train) for i in f_global_norm]"
   ]
  },
  {
   "cell_type": "code",
   "execution_count": 278,
   "id": "84a93828",
   "metadata": {},
   "outputs": [
    {
     "name": "stdout",
     "output_type": "stream",
     "text": [
      "           0\n",
      "0   0.998502\n",
      "1   0.647706\n",
      "2   0.564248\n",
      "3   0.524818\n",
      "4   0.493608\n",
      "5   0.465150\n",
      "6   0.446341\n",
      "7   0.432687\n",
      "8   0.420530\n",
      "9   0.407155\n",
      "10  0.398203\n",
      "11  0.391271\n",
      "12  0.382876\n",
      "13  0.379951\n",
      "14  0.374865\n",
      "15  0.371556\n",
      "16  0.366993\n",
      "17  0.362082\n",
      "18  0.356334\n",
      "19  0.352050\n",
      "20  0.350935\n",
      "21  0.349263\n",
      "22  0.345188\n",
      "23  0.342227\n",
      "24  0.339406\n"
     ]
    },
    {
     "data": {
      "image/png": "[encoded data removed]",
      "text/plain": [
       "<Figure size 432x288 with 1 Axes>"
      ]
     },
     "metadata": {
      "needs_background": "light"
     },
     "output_type": "display_data"
    }
   ],
   "source": [
    "df_global_norm_train = pd.DataFrame(s_global_norm_train)\n",
    "print(df_global_norm_train)\n",
    "plt.plot(df_global_norm_train)\n",
    "plt.show()"
   ]
  },
  {
   "cell_type": "code",
   "execution_count": 279,
   "id": "1bfab27c",
   "metadata": {},
   "outputs": [],
   "source": [
    "knn_accuracy_global_norm = s_global_norm_train[1]"
   ]
  },
  {
   "cell_type": "code",
   "execution_count": 60,
   "id": "7fad5e1f",
   "metadata": {},
   "outputs": [],
   "source": [
    "s_global_norm = [i.score(X_test_global_norm,Y_test) for i in f_global_norm]"
   ]
  },
  {
   "cell_type": "code",
   "execution_count": 61,
   "id": "dd69a759",
   "metadata": {},
   "outputs": [
    {
     "name": "stdout",
     "output_type": "stream",
     "text": [
      "           0\n",
      "0   0.149206\n",
      "1   0.135135\n",
      "2   0.141404\n",
      "3   0.148509\n",
      "4   0.132349\n",
      "5   0.140290\n",
      "6   0.128169\n",
      "7   0.134439\n",
      "8   0.132627\n",
      "9   0.132488\n",
      "10  0.135135\n",
      "11  0.140847\n",
      "12  0.136110\n",
      "13  0.133463\n",
      "14  0.135832\n",
      "15  0.140011\n",
      "16  0.135971\n",
      "17  0.139315\n",
      "18  0.142101\n",
      "19  0.143773\n",
      "20  0.142519\n",
      "21  0.143355\n",
      "22  0.143494\n",
      "23  0.144051\n",
      "24  0.144330\n"
     ]
    },
    {
     "data": {
      "image/png": "[encoded data removed]",
      "text/plain": [
       "<Figure size 432x288 with 1 Axes>"
      ]
     },
     "metadata": {
      "needs_background": "light"
     },
     "output_type": "display_data"
    }
   ],
   "source": [
    "df_global_norm = pd.DataFrame(s_global_norm)\n",
    "print(df_global_norm)\n",
    "plt.plot(df_global_norm)\n",
    "plt.show()"
   ]
  },
  {
   "cell_type": "code",
   "execution_count": 62,
   "id": "21c31d99",
   "metadata": {},
   "outputs": [
    {
     "name": "stdout",
     "output_type": "stream",
     "text": [
      "0.1485093340763444\n"
     ]
    }
   ],
   "source": [
    "knn_accuracy_global_norm = s_global_norm[3]\n",
    "print(knn_accuracy_global_norm)"
   ]
  },
  {
   "cell_type": "code",
   "execution_count": 63,
   "id": "808223fe",
   "metadata": {},
   "outputs": [
    {
     "data": {
      "text/plain": [
       "array([6, 6, 1, ..., 6, 6, 6])"
      ]
     },
     "execution_count": 63,
     "metadata": {},
     "output_type": "execute_result"
    }
   ],
   "source": [
    "y_pred_global_norm = f_global_norm[0].predict(X_test_global_norm)\n",
    "y_pred_global_norm"
   ]
  },
  {
   "cell_type": "code",
   "execution_count": 64,
   "id": "1bb13142",
   "metadata": {},
   "outputs": [
    {
     "name": "stdout",
     "output_type": "stream",
     "text": [
      "[[ 204   22  222  399  310  279  192]\n",
      " [   0    0    0    1    0    1    0]\n",
      " [  95   12   86  225  138  195   68]\n",
      " [  10    0   11   11    8   12    5]\n",
      " [   8    0    2    2    9    8    0]\n",
      " [ 609   74  658 1071  716  693  498]\n",
      " [  32    3   45   65   52   59   68]]\n"
     ]
    }
   ],
   "source": [
    "print(confusion_matrix(y_pred_global_norm, Y_test))"
   ]
  },
  {
   "cell_type": "markdown",
   "id": "364690d0",
   "metadata": {},
   "source": [
    "## SVM:"
   ]
  },
  {
   "cell_type": "markdown",
   "id": "0e3f0796",
   "metadata": {},
   "source": [
    "### For simple histogram:"
   ]
  },
  {
   "cell_type": "code",
   "execution_count": 65,
   "id": "475eb3f2",
   "metadata": {},
   "outputs": [],
   "source": [
    "from sklearn.svm import SVC"
   ]
  },
  {
   "cell_type": "markdown",
   "id": "66fdb364",
   "metadata": {},
   "source": [
    "### Sigmoid kernel:"
   ]
  },
  {
   "cell_type": "code",
   "execution_count": 287,
   "id": "7e43e6c4",
   "metadata": {},
   "outputs": [
    {
     "data": {
      "text/plain": [
       "SVC(kernel='sigmoid', random_state=0)"
      ]
     },
     "execution_count": 287,
     "metadata": {},
     "output_type": "execute_result"
    }
   ],
   "source": [
    "classifier_sigmoid_global = SVC(kernel='sigmoid', random_state = 0)\n",
    "classifier_sigmoid_global.fit(X_train_global,Y_train)"
   ]
  },
  {
   "cell_type": "code",
   "execution_count": 288,
   "id": "4a2f3393",
   "metadata": {},
   "outputs": [],
   "source": [
    "sigmoid_pred_global_train = classifier_sigmoid_global.predict(X_train_global)"
   ]
  },
  {
   "cell_type": "code",
   "execution_count": 289,
   "id": "39f01690",
   "metadata": {},
   "outputs": [
    {
     "name": "stdout",
     "output_type": "stream",
     "text": [
      "\n",
      "Accuracy Of SVM with sigmoid kernel for train data :  0.18826848723396844\n"
     ]
    }
   ],
   "source": [
    "cm1_global_train = confusion_matrix(Y_train,sigmoid_pred_global_train)\n",
    "accuracy_sigmoid_global_train = float(cm1_global_train.diagonal().sum())/len(Y_train)\n",
    "print(\"\\nAccuracy Of SVM with sigmoid kernel for train data : \", accuracy_sigmoid_global_train)"
   ]
  },
  {
   "cell_type": "code",
   "execution_count": 285,
   "id": "f7c411aa",
   "metadata": {},
   "outputs": [],
   "source": [
    "sigmoid_pred_global = classifier_sigmoid_global.predict(X_test_global)"
   ]
  },
  {
   "cell_type": "code",
   "execution_count": 286,
   "id": "185a73cb",
   "metadata": {},
   "outputs": [
    {
     "name": "stdout",
     "output_type": "stream",
     "text": [
      "\n",
      "Accuracy Of SVM with sigmoid kernel :  0.1918361660629702\n"
     ]
    }
   ],
   "source": [
    "cm1_global = confusion_matrix(Y_test,sigmoid_pred_global)\n",
    "accuracy_sigmoid_global = float(cm1_global.diagonal().sum())/len(Y_test)\n",
    "print(\"\\nAccuracy Of SVM with sigmoid kernel : \", accuracy_sigmoid_global)"
   ]
  },
  {
   "cell_type": "markdown",
   "id": "c7a2b1e3",
   "metadata": {},
   "source": [
    "### Polynomial kernel (with degree 1) :"
   ]
  },
  {
   "cell_type": "code",
   "execution_count": 69,
   "id": "cb16b27c",
   "metadata": {},
   "outputs": [
    {
     "data": {
      "text/plain": [
       "SVC(degree=1, kernel='poly', random_state=0)"
      ]
     },
     "execution_count": 69,
     "metadata": {},
     "output_type": "execute_result"
    }
   ],
   "source": [
    "classifier_pol_1_global = SVC(kernel='poly', degree = 1, random_state = 0)\n",
    "classifier_pol_1_global.fit(X_train_global,Y_train)"
   ]
  },
  {
   "cell_type": "code",
   "execution_count": 290,
   "id": "576fafb1",
   "metadata": {},
   "outputs": [],
   "source": [
    "pol_1_pred_global_train = classifier_pol_1_global.predict(X_train_global)"
   ]
  },
  {
   "cell_type": "code",
   "execution_count": 294,
   "id": "ea6a44f1",
   "metadata": {},
   "outputs": [
    {
     "name": "stdout",
     "output_type": "stream",
     "text": [
      "\n",
      "Accuracy Of SVM with polynomial kernel having deg 1 for train data :  0.2513149186666202\n"
     ]
    }
   ],
   "source": [
    "cm2_global_train = confusion_matrix(Y_train,pol_1_pred_global_train)\n",
    "accuracy_pol_1_global_train = float(cm2_global_train.diagonal().sum())/len(Y_train)\n",
    "print(\"\\nAccuracy Of SVM with polynomial kernel having deg 1 for train data : \", accuracy_pol_1_global_train)"
   ]
  },
  {
   "cell_type": "code",
   "execution_count": 70,
   "id": "32d1abb2",
   "metadata": {},
   "outputs": [],
   "source": [
    "pol_1_pred_global = classifier_pol_1_global.predict(X_test_global)"
   ]
  },
  {
   "cell_type": "code",
   "execution_count": 71,
   "id": "6818bf45",
   "metadata": {},
   "outputs": [
    {
     "name": "stdout",
     "output_type": "stream",
     "text": [
      "\n",
      "Accuracy Of SVM with polynomial kernel having deg 1 :  0.24714405126776262\n"
     ]
    }
   ],
   "source": [
    "cm2_global = confusion_matrix(Y_test,pol_1_pred_global)\n",
    "accuracy_pol_1_global = float(cm2_global.diagonal().sum())/len(Y_test)\n",
    "print(\"\\nAccuracy Of SVM with polynomial kernel having deg 1 : \", accuracy_pol_1_global)"
   ]
  },
  {
   "cell_type": "markdown",
   "id": "bdda92d9",
   "metadata": {},
   "source": [
    "### Polynomial kernel (with degree 3):"
   ]
  },
  {
   "cell_type": "code",
   "execution_count": 72,
   "id": "72afa145",
   "metadata": {},
   "outputs": [
    {
     "data": {
      "text/plain": [
       "SVC(kernel='poly', random_state=0)"
      ]
     },
     "execution_count": 72,
     "metadata": {},
     "output_type": "execute_result"
    }
   ],
   "source": [
    "classifier_pol_3_global = SVC(kernel='poly', degree = 3, random_state = 0)\n",
    "classifier_pol_3_global.fit(X_train_global,Y_train)"
   ]
  },
  {
   "cell_type": "code",
   "execution_count": 295,
   "id": "0137a6ea",
   "metadata": {},
   "outputs": [],
   "source": [
    "pol_3_pred_global_train = classifier_pol_3_global.predict(X_train_global)"
   ]
  },
  {
   "cell_type": "code",
   "execution_count": 297,
   "id": "d825b9ce",
   "metadata": {},
   "outputs": [
    {
     "name": "stdout",
     "output_type": "stream",
     "text": [
      "\n",
      "Accuracy Of SVM with polynomial kernel having deg 3 for train data :  0.25754989724476646\n"
     ]
    }
   ],
   "source": [
    "cm3_global_train = confusion_matrix(Y_train,pol_3_pred_global_train)\n",
    "accuracy_pol_3_global_train = float(cm3_global_train.diagonal().sum())/len(Y_train)\n",
    "print(\"\\nAccuracy Of SVM with polynomial kernel having deg 3 for train data : \", accuracy_pol_3_global_train)"
   ]
  },
  {
   "cell_type": "code",
   "execution_count": 298,
   "id": "b67f079f",
   "metadata": {},
   "outputs": [],
   "source": [
    "pol_3_pred_global = classifier_pol_3_global.predict(X_test_global)"
   ]
  },
  {
   "cell_type": "code",
   "execution_count": 299,
   "id": "b9614224",
   "metadata": {},
   "outputs": [
    {
     "name": "stdout",
     "output_type": "stream",
     "text": [
      "\n",
      "Accuracy Of SVM with polynomial kernel having deg 3 :  0.2539704653106715\n"
     ]
    }
   ],
   "source": [
    "cm3_global = confusion_matrix(Y_test,pol_3_pred_global)\n",
    "accuracy_pol_3_global = float(cm3_global.diagonal().sum())/len(Y_test)\n",
    "print(\"\\nAccuracy Of SVM with polynomial kernel having deg 3 : \", accuracy_pol_3_global)"
   ]
  },
  {
   "cell_type": "markdown",
   "id": "a06156ce",
   "metadata": {},
   "source": [
    "### Linear kernel:"
   ]
  },
  {
   "cell_type": "code",
   "execution_count": 75,
   "id": "b285e177",
   "metadata": {},
   "outputs": [],
   "source": [
    "# classifier_linear = SVC(kernel='linear', random_state = 0)\n",
    "# classifier_linear.fit(X_train,Y_train)"
   ]
  },
  {
   "cell_type": "markdown",
   "id": "a2072724",
   "metadata": {},
   "source": [
    "### RBF kernel:"
   ]
  },
  {
   "cell_type": "code",
   "execution_count": 76,
   "id": "e7f9d653",
   "metadata": {},
   "outputs": [
    {
     "data": {
      "text/plain": [
       "SVC(random_state=0)"
      ]
     },
     "execution_count": 76,
     "metadata": {},
     "output_type": "execute_result"
    }
   ],
   "source": [
    "classifier_rbf_global = SVC(kernel='rbf', random_state = 0)\n",
    "classifier_rbf_global.fit(X_train_global,Y_train)"
   ]
  },
  {
   "cell_type": "code",
   "execution_count": 300,
   "id": "a036c341",
   "metadata": {},
   "outputs": [],
   "source": [
    "rbf_pred_global_train = classifier_rbf_global.predict(X_train_global)"
   ]
  },
  {
   "cell_type": "code",
   "execution_count": 304,
   "id": "3ca7e266",
   "metadata": {},
   "outputs": [
    {
     "name": "stdout",
     "output_type": "stream",
     "text": [
      "\n",
      "Accuracy Of SVM with rbf kernel for train data :  0.26016231843672716\n"
     ]
    }
   ],
   "source": [
    "cm4_global_train = confusion_matrix(Y_train,rbf_pred_global_train)\n",
    "accuracy_rbf_global_train = float(cm4_global_train.diagonal().sum())/len(Y_train)\n",
    "print(\"\\nAccuracy Of SVM with rbf kernel for train data : \", accuracy_rbf_global_train)"
   ]
  },
  {
   "cell_type": "code",
   "execution_count": 305,
   "id": "79c4da00",
   "metadata": {},
   "outputs": [],
   "source": [
    "rbf_pred_global = classifier_rbf_global.predict(X_test_global)"
   ]
  },
  {
   "cell_type": "code",
   "execution_count": 306,
   "id": "e609f88f",
   "metadata": {},
   "outputs": [
    {
     "name": "stdout",
     "output_type": "stream",
     "text": [
      "\n",
      "Accuracy Of SVM with rbf kernel :  0.2559208693229312\n"
     ]
    }
   ],
   "source": [
    "cm4_global = confusion_matrix(Y_test,rbf_pred_global)\n",
    "accuracy_rbf_global = float(cm4_global.diagonal().sum())/len(Y_test)\n",
    "print(\"\\nAccuracy Of SVM with rbf kernel : \", accuracy_rbf_global)"
   ]
  },
  {
   "cell_type": "code",
   "execution_count": 415,
   "id": "fab5c2f8",
   "metadata": {},
   "outputs": [
    {
     "data": {
      "text/html": [
       "<div>\n",
       "<style scoped>\n",
       "    .dataframe tbody tr th:only-of-type {\n",
       "        vertical-align: middle;\n",
       "    }\n",
       "\n",
       "    .dataframe tbody tr th {\n",
       "        vertical-align: top;\n",
       "    }\n",
       "\n",
       "    .dataframe thead th {\n",
       "        text-align: right;\n",
       "    }\n",
       "</style>\n",
       "<table border=\"1\" class=\"dataframe\">\n",
       "  <thead>\n",
       "    <tr style=\"text-align: right;\">\n",
       "      <th></th>\n",
       "      <th>Accuracy</th>\n",
       "    </tr>\n",
       "  </thead>\n",
       "  <tbody>\n",
       "    <tr>\n",
       "      <th>sigmoid</th>\n",
       "      <td>0.188268</td>\n",
       "    </tr>\n",
       "    <tr>\n",
       "      <th>pol_1</th>\n",
       "      <td>0.251315</td>\n",
       "    </tr>\n",
       "    <tr>\n",
       "      <th>pol_3</th>\n",
       "      <td>0.257550</td>\n",
       "    </tr>\n",
       "    <tr>\n",
       "      <th>rbf</th>\n",
       "      <td>0.260162</td>\n",
       "    </tr>\n",
       "  </tbody>\n",
       "</table>\n",
       "</div>"
      ],
      "text/plain": [
       "         Accuracy\n",
       "sigmoid  0.188268\n",
       "pol_1    0.251315\n",
       "pol_3    0.257550\n",
       "rbf      0.260162"
      ]
     },
     "execution_count": 415,
     "metadata": {},
     "output_type": "execute_result"
    }
   ],
   "source": [
    "df_svm_global_train = pd.DataFrame([accuracy_sigmoid_global_train, accuracy_pol_1_global_train, accuracy_pol_3_global_train, accuracy_rbf_global_train],\n",
    "                      columns = [\"Accuracy\"], index = [\"sigmoid\", \"pol_1\", \"pol_3\", \"rbf\"])\n",
    "df_svm_global_train"
   ]
  },
  {
   "cell_type": "code",
   "execution_count": 79,
   "id": "c37f77ec",
   "metadata": {},
   "outputs": [
    {
     "data": {
      "text/html": [
       "<div>\n",
       "<style scoped>\n",
       "    .dataframe tbody tr th:only-of-type {\n",
       "        vertical-align: middle;\n",
       "    }\n",
       "\n",
       "    .dataframe tbody tr th {\n",
       "        vertical-align: top;\n",
       "    }\n",
       "\n",
       "    .dataframe thead th {\n",
       "        text-align: right;\n",
       "    }\n",
       "</style>\n",
       "<table border=\"1\" class=\"dataframe\">\n",
       "  <thead>\n",
       "    <tr style=\"text-align: right;\">\n",
       "      <th></th>\n",
       "      <th>Accuracy</th>\n",
       "    </tr>\n",
       "  </thead>\n",
       "  <tbody>\n",
       "    <tr>\n",
       "      <th>sigmoid</th>\n",
       "      <td>0.191836</td>\n",
       "    </tr>\n",
       "    <tr>\n",
       "      <th>pol_1</th>\n",
       "      <td>0.247144</td>\n",
       "    </tr>\n",
       "    <tr>\n",
       "      <th>pol_3</th>\n",
       "      <td>0.253970</td>\n",
       "    </tr>\n",
       "    <tr>\n",
       "      <th>rbf</th>\n",
       "      <td>0.255921</td>\n",
       "    </tr>\n",
       "  </tbody>\n",
       "</table>\n",
       "</div>"
      ],
      "text/plain": [
       "         Accuracy\n",
       "sigmoid  0.191836\n",
       "pol_1    0.247144\n",
       "pol_3    0.253970\n",
       "rbf      0.255921"
      ]
     },
     "execution_count": 79,
     "metadata": {},
     "output_type": "execute_result"
    }
   ],
   "source": [
    "df_svm_global = pd.DataFrame([accuracy_sigmoid_global, accuracy_pol_1_global, accuracy_pol_3_global, accuracy_rbf_global],\n",
    "                      columns = [\"Accuracy\"], index = [\"sigmoid\", \"pol_1\", \"pol_3\", \"rbf\"])\n",
    "df_svm_global"
   ]
  },
  {
   "cell_type": "code",
   "execution_count": 80,
   "id": "9028517e",
   "metadata": {},
   "outputs": [
    {
     "data": {
      "text/plain": [
       "[<matplotlib.lines.Line2D at 0x7f462f9bf1c0>]"
      ]
     },
     "execution_count": 80,
     "metadata": {},
     "output_type": "execute_result"
    },
    {
     "data": {
      "image/png": "[encoded data removed]",
      "text/plain": [
       "<Figure size 432x288 with 1 Axes>"
      ]
     },
     "metadata": {
      "needs_background": "light"
     },
     "output_type": "display_data"
    }
   ],
   "source": [
    "plt.plot(df_svm_global)"
   ]
  },
  {
   "cell_type": "markdown",
   "id": "1996c47d",
   "metadata": {},
   "source": [
    "### For normalized histogram:"
   ]
  },
  {
   "cell_type": "markdown",
   "id": "c469906e",
   "metadata": {},
   "source": [
    "### Sigmoid kernel:"
   ]
  },
  {
   "cell_type": "code",
   "execution_count": 81,
   "id": "870639ac",
   "metadata": {},
   "outputs": [
    {
     "data": {
      "text/plain": [
       "SVC(kernel='sigmoid', random_state=0)"
      ]
     },
     "execution_count": 81,
     "metadata": {},
     "output_type": "execute_result"
    }
   ],
   "source": [
    "classifier_sigmoid_global_norm = SVC(kernel='sigmoid', random_state = 0)\n",
    "classifier_sigmoid_global_norm.fit(X_train_global_norm,Y_train)"
   ]
  },
  {
   "cell_type": "code",
   "execution_count": 309,
   "id": "90226d43",
   "metadata": {},
   "outputs": [],
   "source": [
    "sigmoid_pred_global_norm_train = classifier_sigmoid_global_norm.predict(X_train_global_norm)"
   ]
  },
  {
   "cell_type": "code",
   "execution_count": 310,
   "id": "85648c00",
   "metadata": {},
   "outputs": [
    {
     "name": "stdout",
     "output_type": "stream",
     "text": [
      "\n",
      "Accuracy Of SVM with sigmoid kernel :  0.18826848723396844\n"
     ]
    }
   ],
   "source": [
    "cm1_global_norm_train = confusion_matrix(Y_train,sigmoid_pred_global_norm_train)\n",
    "accuracy_sigmoid_global_norm_train = float(cm1_global_norm_train.diagonal().sum())/len(Y_train)\n",
    "print(\"\\nAccuracy Of SVM with sigmoid kernel for train data : \", accuracy_sigmoid_global_norm_train)"
   ]
  },
  {
   "cell_type": "code",
   "execution_count": 311,
   "id": "df0461ba",
   "metadata": {},
   "outputs": [],
   "source": [
    "sigmoid_pred_global_norm = classifier_sigmoid_global_norm.predict(X_test_global_norm)"
   ]
  },
  {
   "cell_type": "code",
   "execution_count": 312,
   "id": "04c874ba",
   "metadata": {},
   "outputs": [
    {
     "name": "stdout",
     "output_type": "stream",
     "text": [
      "\n",
      "Accuracy Of SVM with sigmoid kernel :  0.1337419894120925\n"
     ]
    }
   ],
   "source": [
    "cm1_global_norm = confusion_matrix(Y_test,sigmoid_pred_global_norm)\n",
    "accuracy_sigmoid_global_norm = float(cm1_global_norm.diagonal().sum())/len(Y_test)\n",
    "print(\"\\nAccuracy Of SVM with sigmoid kernel : \", accuracy_sigmoid_global_norm)"
   ]
  },
  {
   "cell_type": "markdown",
   "id": "7e5fc7a0",
   "metadata": {},
   "source": [
    "### Polynomial kernel (with degree 1) :"
   ]
  },
  {
   "cell_type": "code",
   "execution_count": 84,
   "id": "22ae9b6d",
   "metadata": {},
   "outputs": [
    {
     "data": {
      "text/plain": [
       "SVC(degree=1, kernel='poly', random_state=0)"
      ]
     },
     "execution_count": 84,
     "metadata": {},
     "output_type": "execute_result"
    }
   ],
   "source": [
    "classifier_pol_1_global_norm = SVC(kernel='poly', degree = 1, random_state = 0)\n",
    "classifier_pol_1_global_norm.fit(X_train_global_norm,Y_train)"
   ]
  },
  {
   "cell_type": "code",
   "execution_count": 313,
   "id": "fd5e2aac",
   "metadata": {},
   "outputs": [],
   "source": [
    "pol_1_pred_global_norm_train = classifier_pol_1_global_norm.predict(X_train_global_norm)"
   ]
  },
  {
   "cell_type": "code",
   "execution_count": 314,
   "id": "f7fac87a",
   "metadata": {},
   "outputs": [
    {
     "name": "stdout",
     "output_type": "stream",
     "text": [
      "\n",
      "Accuracy Of SVM with polynomial kernel having deg 1 for train data :  0.2513149186666202\n"
     ]
    }
   ],
   "source": [
    "cm2_global_norm_train = confusion_matrix(Y_train,pol_1_pred_global_norm_train)\n",
    "accuracy_pol_1_global_norm_train = float(cm2_global_norm_train.diagonal().sum())/len(Y_train)\n",
    "print(\"\\nAccuracy Of SVM with polynomial kernel having deg 1 for train data : \", accuracy_pol_1_global_norm_train)"
   ]
  },
  {
   "cell_type": "code",
   "execution_count": 315,
   "id": "79393591",
   "metadata": {},
   "outputs": [],
   "source": [
    "pol_1_pred_global_norm = classifier_pol_1_global_norm.predict(X_test_global_norm)"
   ]
  },
  {
   "cell_type": "code",
   "execution_count": 316,
   "id": "370590a6",
   "metadata": {},
   "outputs": [
    {
     "name": "stdout",
     "output_type": "stream",
     "text": [
      "\n",
      "Accuracy Of SVM with polynomial kernel having deg 1 :  0.24714405126776262\n"
     ]
    }
   ],
   "source": [
    "cm2_global_norm = confusion_matrix(Y_test,pol_1_pred_global_norm)\n",
    "accuracy_pol_1_global_norm = float(cm2_global_norm.diagonal().sum())/len(Y_test)\n",
    "print(\"\\nAccuracy Of SVM with polynomial kernel having deg 1 : \", accuracy_pol_1_global_norm)"
   ]
  },
  {
   "cell_type": "markdown",
   "id": "9156fb10",
   "metadata": {},
   "source": [
    "### Polynomial kernel (with degree 3):"
   ]
  },
  {
   "cell_type": "code",
   "execution_count": 87,
   "id": "edb86ead",
   "metadata": {},
   "outputs": [
    {
     "data": {
      "text/plain": [
       "SVC(kernel='poly', random_state=0)"
      ]
     },
     "execution_count": 87,
     "metadata": {},
     "output_type": "execute_result"
    }
   ],
   "source": [
    "classifier_pol_3_global_norm = SVC(kernel='poly', degree = 3, random_state = 0)\n",
    "classifier_pol_3_global_norm.fit(X_train_global_norm,Y_train)"
   ]
  },
  {
   "cell_type": "code",
   "execution_count": 317,
   "id": "7712b707",
   "metadata": {},
   "outputs": [],
   "source": [
    "pol_3_pred_global_norm_train = classifier_pol_3_global_norm.predict(X_train_global_norm)"
   ]
  },
  {
   "cell_type": "code",
   "execution_count": 411,
   "id": "c86da6ac",
   "metadata": {},
   "outputs": [
    {
     "name": "stdout",
     "output_type": "stream",
     "text": [
      "\n",
      "Accuracy Of SVM with polynomial kernel having deg 3 for train data:  0.25754989724476646\n"
     ]
    }
   ],
   "source": [
    "cm3_global_norm_train = confusion_matrix(Y_train,pol_3_pred_global_norm_train)\n",
    "accuracy_pol_3_global_norm_train = float(cm3_global_norm_train.diagonal().sum())/len(Y_train)\n",
    "print(\"\\nAccuracy Of SVM with polynomial kernel having deg 3 for train data: \", accuracy_pol_3_global_norm_train)"
   ]
  },
  {
   "cell_type": "code",
   "execution_count": 319,
   "id": "11cf2629",
   "metadata": {},
   "outputs": [],
   "source": [
    "pol_3_pred_global_norm = classifier_pol_3_global_norm.predict(X_test_global_norm)"
   ]
  },
  {
   "cell_type": "code",
   "execution_count": 320,
   "id": "ae503deb",
   "metadata": {},
   "outputs": [
    {
     "name": "stdout",
     "output_type": "stream",
     "text": [
      "\n",
      "Accuracy Of SVM with polynomial kernel having deg 3 :  0.1861242685984954\n"
     ]
    }
   ],
   "source": [
    "cm3_global_norm = confusion_matrix(Y_test,pol_3_pred_global_norm)\n",
    "accuracy_pol_3_global_norm = float(cm3_global_norm.diagonal().sum())/len(Y_test)\n",
    "print(\"\\nAccuracy Of SVM with polynomial kernel having deg 3 : \", accuracy_pol_3_global_norm)"
   ]
  },
  {
   "cell_type": "markdown",
   "id": "413fc028",
   "metadata": {},
   "source": [
    "### Linear kernel:"
   ]
  },
  {
   "cell_type": "code",
   "execution_count": 90,
   "id": "4259efad",
   "metadata": {},
   "outputs": [],
   "source": [
    "# classifier_linear = SVC(kernel='linear', random_state = 0)\n",
    "# classifier_linear.fit(X_train,Y_train)"
   ]
  },
  {
   "cell_type": "markdown",
   "id": "b7dc56e4",
   "metadata": {},
   "source": [
    "### RBF kernel:"
   ]
  },
  {
   "cell_type": "code",
   "execution_count": 91,
   "id": "71f0a3d4",
   "metadata": {},
   "outputs": [
    {
     "data": {
      "text/plain": [
       "SVC(random_state=0)"
      ]
     },
     "execution_count": 91,
     "metadata": {},
     "output_type": "execute_result"
    }
   ],
   "source": [
    "classifier_rbf_global_norm = SVC(kernel='rbf', random_state = 0)\n",
    "classifier_rbf_global_norm.fit(X_train_global_norm,Y_train)"
   ]
  },
  {
   "cell_type": "code",
   "execution_count": 321,
   "id": "8b40922b",
   "metadata": {},
   "outputs": [],
   "source": [
    "rbf_pred_global_norm_train = classifier_rbf_global_norm.predict(X_train_global_norm)"
   ]
  },
  {
   "cell_type": "code",
   "execution_count": 410,
   "id": "1b321096",
   "metadata": {},
   "outputs": [
    {
     "name": "stdout",
     "output_type": "stream",
     "text": [
      "\n",
      "Accuracy Of SVM with rbf kernel for train data:  0.26016231843672716\n"
     ]
    }
   ],
   "source": [
    "cm4_global_norm_train = confusion_matrix(Y_train,rbf_pred_global_norm_train)\n",
    "accuracy_rbf_global_norm_train = float(cm4_global_norm_train.diagonal().sum())/len(Y_train)\n",
    "print(\"\\nAccuracy Of SVM with rbf kernel for train data: \", accuracy_rbf_global_norm_train)"
   ]
  },
  {
   "cell_type": "code",
   "execution_count": 323,
   "id": "3ad62aff",
   "metadata": {},
   "outputs": [],
   "source": [
    "rbf_pred_global_norm = classifier_rbf_global_norm.predict(X_test_global_norm)"
   ]
  },
  {
   "cell_type": "code",
   "execution_count": 324,
   "id": "23e36bb5",
   "metadata": {},
   "outputs": [
    {
     "name": "stdout",
     "output_type": "stream",
     "text": [
      "\n",
      "Accuracy Of SVM with rbf kernel :  0.1586792978545556\n"
     ]
    }
   ],
   "source": [
    "cm4_global_norm = confusion_matrix(Y_test,rbf_pred_global_norm)\n",
    "accuracy_rbf_global_norm = float(cm4_global_norm.diagonal().sum())/len(Y_test)\n",
    "print(\"\\nAccuracy Of SVM with rbf kernel : \", accuracy_rbf_global_norm)"
   ]
  },
  {
   "cell_type": "code",
   "execution_count": 414,
   "id": "7bc5203b",
   "metadata": {},
   "outputs": [
    {
     "data": {
      "text/html": [
       "<div>\n",
       "<style scoped>\n",
       "    .dataframe tbody tr th:only-of-type {\n",
       "        vertical-align: middle;\n",
       "    }\n",
       "\n",
       "    .dataframe tbody tr th {\n",
       "        vertical-align: top;\n",
       "    }\n",
       "\n",
       "    .dataframe thead th {\n",
       "        text-align: right;\n",
       "    }\n",
       "</style>\n",
       "<table border=\"1\" class=\"dataframe\">\n",
       "  <thead>\n",
       "    <tr style=\"text-align: right;\">\n",
       "      <th></th>\n",
       "      <th>Accuracy</th>\n",
       "    </tr>\n",
       "  </thead>\n",
       "  <tbody>\n",
       "    <tr>\n",
       "      <th>sigmoid</th>\n",
       "      <td>0.188268</td>\n",
       "    </tr>\n",
       "    <tr>\n",
       "      <th>pol_1</th>\n",
       "      <td>0.251315</td>\n",
       "    </tr>\n",
       "    <tr>\n",
       "      <th>pol_3</th>\n",
       "      <td>0.257550</td>\n",
       "    </tr>\n",
       "    <tr>\n",
       "      <th>rbf</th>\n",
       "      <td>0.260162</td>\n",
       "    </tr>\n",
       "  </tbody>\n",
       "</table>\n",
       "</div>"
      ],
      "text/plain": [
       "         Accuracy\n",
       "sigmoid  0.188268\n",
       "pol_1    0.251315\n",
       "pol_3    0.257550\n",
       "rbf      0.260162"
      ]
     },
     "execution_count": 414,
     "metadata": {},
     "output_type": "execute_result"
    }
   ],
   "source": [
    "df_svm_global_norm_train = pd.DataFrame([accuracy_sigmoid_global_norm_train, accuracy_pol_1_global_norm_train, accuracy_pol_3_global_norm_train, accuracy_rbf_global_norm_train],\n",
    "                      columns = [\"Accuracy\"], index = [\"sigmoid\", \"pol_1\", \"pol_3\", \"rbf\"])\n",
    "df_svm_global_norm_train"
   ]
  },
  {
   "cell_type": "code",
   "execution_count": 94,
   "id": "3a3e81de",
   "metadata": {},
   "outputs": [
    {
     "data": {
      "text/html": [
       "<div>\n",
       "<style scoped>\n",
       "    .dataframe tbody tr th:only-of-type {\n",
       "        vertical-align: middle;\n",
       "    }\n",
       "\n",
       "    .dataframe tbody tr th {\n",
       "        vertical-align: top;\n",
       "    }\n",
       "\n",
       "    .dataframe thead th {\n",
       "        text-align: right;\n",
       "    }\n",
       "</style>\n",
       "<table border=\"1\" class=\"dataframe\">\n",
       "  <thead>\n",
       "    <tr style=\"text-align: right;\">\n",
       "      <th></th>\n",
       "      <th>Accuracy</th>\n",
       "    </tr>\n",
       "  </thead>\n",
       "  <tbody>\n",
       "    <tr>\n",
       "      <th>sigmoid</th>\n",
       "      <td>0.133742</td>\n",
       "    </tr>\n",
       "    <tr>\n",
       "      <th>pol_1</th>\n",
       "      <td>0.247144</td>\n",
       "    </tr>\n",
       "    <tr>\n",
       "      <th>pol_3</th>\n",
       "      <td>0.186124</td>\n",
       "    </tr>\n",
       "    <tr>\n",
       "      <th>rbf</th>\n",
       "      <td>0.158679</td>\n",
       "    </tr>\n",
       "  </tbody>\n",
       "</table>\n",
       "</div>"
      ],
      "text/plain": [
       "         Accuracy\n",
       "sigmoid  0.133742\n",
       "pol_1    0.247144\n",
       "pol_3    0.186124\n",
       "rbf      0.158679"
      ]
     },
     "execution_count": 94,
     "metadata": {},
     "output_type": "execute_result"
    }
   ],
   "source": [
    "df_svm_global_norm = pd.DataFrame([accuracy_sigmoid_global_norm, accuracy_pol_1_global_norm, accuracy_pol_3_global_norm, accuracy_rbf_global_norm],\n",
    "                      columns = [\"Accuracy\"], index = [\"sigmoid\", \"pol_1\", \"pol_3\", \"rbf\"])\n",
    "df_svm_global_norm"
   ]
  },
  {
   "cell_type": "code",
   "execution_count": 95,
   "id": "db90bce6",
   "metadata": {},
   "outputs": [
    {
     "data": {
      "text/plain": [
       "[<matplotlib.lines.Line2D at 0x7f462f930520>]"
      ]
     },
     "execution_count": 95,
     "metadata": {},
     "output_type": "execute_result"
    },
    {
     "data": {
      "image/png": "[encoded data removed]",
      "text/plain": [
       "<Figure size 432x288 with 1 Axes>"
      ]
     },
     "metadata": {
      "needs_background": "light"
     },
     "output_type": "display_data"
    }
   ],
   "source": [
    "plt.plot(df_svm_global_norm)"
   ]
  },
  {
   "cell_type": "markdown",
   "id": "cc5e74ba",
   "metadata": {},
   "source": [
    "## Logistic Regression:"
   ]
  },
  {
   "cell_type": "markdown",
   "id": "b0f505c0",
   "metadata": {},
   "source": [
    "### For simple histogram:"
   ]
  },
  {
   "cell_type": "code",
   "execution_count": 96,
   "id": "492be148",
   "metadata": {},
   "outputs": [],
   "source": [
    "from sklearn.linear_model import LogisticRegression"
   ]
  },
  {
   "cell_type": "code",
   "execution_count": 97,
   "id": "6c6e72e3",
   "metadata": {},
   "outputs": [
    {
     "name": "stderr",
     "output_type": "stream",
     "text": [
      "/home/aravind_sundarraj0112/.local/lib/python3.8/site-packages/scipy/optimize/_linesearch.py:456: LineSearchWarning: The line search algorithm did not converge\n",
      "  warn('The line search algorithm did not converge', LineSearchWarning)\n",
      "/home/aravind_sundarraj0112/.local/lib/python3.8/site-packages/scipy/optimize/_linesearch.py:305: LineSearchWarning: The line search algorithm did not converge\n",
      "  warn('The line search algorithm did not converge', LineSearchWarning)\n",
      "/home/aravind_sundarraj0112/.local/lib/python3.8/site-packages/sklearn/utils/optimize.py:210: ConvergenceWarning: newton-cg failed to converge. Increase the number of iterations.\n",
      "  warnings.warn(\n"
     ]
    },
    {
     "data": {
      "text/plain": [
       "LogisticRegression(random_state=0, solver='newton-cg')"
      ]
     },
     "execution_count": 97,
     "metadata": {},
     "output_type": "execute_result"
    }
   ],
   "source": [
    "model_global = LogisticRegression(solver='newton-cg', random_state=0)\n",
    "model_global.fit(X_train_global, Y_train)"
   ]
  },
  {
   "cell_type": "code",
   "execution_count": 325,
   "id": "8fdc2058",
   "metadata": {},
   "outputs": [
    {
     "data": {
      "text/plain": [
       "4    25927\n",
       "7     1868\n",
       "5      708\n",
       "3      128\n",
       "1       63\n",
       "6       15\n",
       "dtype: int64"
      ]
     },
     "execution_count": 325,
     "metadata": {},
     "output_type": "execute_result"
    }
   ],
   "source": [
    "y_log_pred_global_train = model_global.predict(X_train_global)\n",
    "pd.value_counts(y_log_pred_global_train)"
   ]
  },
  {
   "cell_type": "code",
   "execution_count": 326,
   "id": "774bd218",
   "metadata": {},
   "outputs": [
    {
     "data": {
      "text/plain": [
       "0.2607196349576788"
      ]
     },
     "execution_count": 326,
     "metadata": {},
     "output_type": "execute_result"
    }
   ],
   "source": [
    "logistic_acc_global_train = model_global.score(X_train_global, Y_train)\n",
    "logistic_acc_global_train"
   ]
  },
  {
   "cell_type": "code",
   "execution_count": 327,
   "id": "c34cc104",
   "metadata": {},
   "outputs": [
    {
     "data": {
      "text/plain": [
       "4    6511\n",
       "7     433\n",
       "5     178\n",
       "3      36\n",
       "1      16\n",
       "6       4\n",
       "dtype: int64"
      ]
     },
     "execution_count": 327,
     "metadata": {},
     "output_type": "execute_result"
    }
   ],
   "source": [
    "y_log_pred_global = model_global.predict(X_test_global)\n",
    "pd.value_counts(y_log_pred_global)"
   ]
  },
  {
   "cell_type": "code",
   "execution_count": 328,
   "id": "7845bc2c",
   "metadata": {},
   "outputs": [
    {
     "data": {
      "text/plain": [
       "0.25745332961827805"
      ]
     },
     "execution_count": 328,
     "metadata": {},
     "output_type": "execute_result"
    }
   ],
   "source": [
    "logistic_acc_global = model_global.score(X_test_global, Y_test)\n",
    "logistic_acc_global"
   ]
  },
  {
   "cell_type": "markdown",
   "id": "38f2af38",
   "metadata": {},
   "source": [
    "### For normalized histogram:"
   ]
  },
  {
   "cell_type": "code",
   "execution_count": 100,
   "id": "621fc1e6",
   "metadata": {},
   "outputs": [
    {
     "data": {
      "text/plain": [
       "LogisticRegression(random_state=0, solver='newton-cg')"
      ]
     },
     "execution_count": 100,
     "metadata": {},
     "output_type": "execute_result"
    }
   ],
   "source": [
    "model_global_norm = LogisticRegression(solver='newton-cg', random_state=0)\n",
    "model_global_norm.fit(X_train_global_norm, Y_train)"
   ]
  },
  {
   "cell_type": "code",
   "execution_count": 329,
   "id": "5769ffcc",
   "metadata": {},
   "outputs": [
    {
     "data": {
      "text/plain": [
       "4    28709\n",
       "dtype: int64"
      ]
     },
     "execution_count": 329,
     "metadata": {},
     "output_type": "execute_result"
    }
   ],
   "source": [
    "y_log_pred_global_norm_train = model_global_norm.predict(X_train_global_norm)\n",
    "pd.value_counts(y_log_pred_global_norm_train)"
   ]
  },
  {
   "cell_type": "code",
   "execution_count": 330,
   "id": "3e3cbbea",
   "metadata": {},
   "outputs": [
    {
     "data": {
      "text/plain": [
       "0.2513149186666202"
      ]
     },
     "execution_count": 330,
     "metadata": {},
     "output_type": "execute_result"
    }
   ],
   "source": [
    "logistic_acc_global_norm_train = model_global_norm.score(X_train_global_norm, Y_train)\n",
    "logistic_acc_global_norm_train"
   ]
  },
  {
   "cell_type": "code",
   "execution_count": 101,
   "id": "04ea4f47",
   "metadata": {},
   "outputs": [
    {
     "data": {
      "text/plain": [
       "4    7178\n",
       "dtype: int64"
      ]
     },
     "execution_count": 101,
     "metadata": {},
     "output_type": "execute_result"
    }
   ],
   "source": [
    "y_log_pred_global_norm = model_global_norm.predict(X_test_global_norm)\n",
    "pd.value_counts(y_log_pred_global_norm)"
   ]
  },
  {
   "cell_type": "code",
   "execution_count": 102,
   "id": "ed11b150",
   "metadata": {},
   "outputs": [
    {
     "data": {
      "text/plain": [
       "0.24714405126776262"
      ]
     },
     "execution_count": 102,
     "metadata": {},
     "output_type": "execute_result"
    }
   ],
   "source": [
    "logistic_acc_global_norm = model_global_norm.score(X_test_global_norm, Y_test)\n",
    "logistic_acc_global_norm"
   ]
  },
  {
   "cell_type": "markdown",
   "id": "ca963b08",
   "metadata": {},
   "source": [
    "## Decision tree:"
   ]
  },
  {
   "cell_type": "markdown",
   "id": "9d64224c",
   "metadata": {},
   "source": [
    "### For simple histogram:"
   ]
  },
  {
   "cell_type": "code",
   "execution_count": 103,
   "id": "03613650",
   "metadata": {},
   "outputs": [],
   "source": [
    "from sklearn.tree import DecisionTreeClassifier\n",
    "from sklearn import metrics"
   ]
  },
  {
   "cell_type": "code",
   "execution_count": 104,
   "id": "3b0efd0f",
   "metadata": {},
   "outputs": [],
   "source": [
    "# Function to perform training with giniIndex.\n",
    "def train_using_gini(X_train, X_test, y_train):\n",
    "  \n",
    "    # Creating the classifier object\n",
    "    clf_gini = DecisionTreeClassifier(criterion = \"gini\",\n",
    "            random_state = 100,max_depth=3, min_samples_leaf=5)\n",
    "  \n",
    "    # Performing training\n",
    "    clf_gini.fit(X_train, y_train)\n",
    "    return clf_gini\n",
    "      "
   ]
  },
  {
   "cell_type": "code",
   "execution_count": 105,
   "id": "755ffe79",
   "metadata": {},
   "outputs": [],
   "source": [
    "# Function to perform training with entropy.\n",
    "def tarin_using_entropy(X_train, X_test, y_train):\n",
    "  \n",
    "    # Decision tree with entropy\n",
    "    clf_entropy = DecisionTreeClassifier(\n",
    "            criterion = \"entropy\", random_state = 100,\n",
    "            max_depth = 3, min_samples_leaf = 5)\n",
    "  \n",
    "    # Performing training\n",
    "    clf_entropy.fit(X_train, y_train)\n",
    "    return clf_entropy\n",
    "  \n",
    "  "
   ]
  },
  {
   "cell_type": "code",
   "execution_count": 106,
   "id": "5c3c6105",
   "metadata": {},
   "outputs": [],
   "source": [
    "# Function to make predictions\n",
    "def prediction(X_test, clf_object):\n",
    "  \n",
    "    # Predicton on test with giniIndex\n",
    "    y_pred = clf_object.predict(X_test)\n",
    "    print(\"Predicted values:\")\n",
    "    print(y_pred)\n",
    "    return y_pred\n",
    "      \n",
    "# Function to calculate accuracy\n",
    "def cal_accuracy(y_test, y_pred):\n",
    "      \n",
    "    print(\"Confusion Matrix: \",\n",
    "        confusion_matrix(y_test, y_pred))\n",
    "      \n",
    "    print (\"Accuracy : \",\n",
    "    metrics.accuracy_score(y_test,y_pred)*100)"
   ]
  },
  {
   "cell_type": "code",
   "execution_count": 107,
   "id": "ebac5944",
   "metadata": {},
   "outputs": [],
   "source": [
    "clf_gini_global = train_using_gini(X_train_global, X_test_global, Y_train)\n",
    "clf_entropy_global = tarin_using_entropy(X_train_global, X_test_global, Y_train)"
   ]
  },
  {
   "cell_type": "code",
   "execution_count": 331,
   "id": "65eef84c",
   "metadata": {},
   "outputs": [
    {
     "name": "stdout",
     "output_type": "stream",
     "text": [
      "Predicted values:\n",
      "[4 4 4 ... 4 4 4]\n",
      "Confusion Matrix:  [[   0    0  276 3196  223    0  300]\n",
      " [   0    0   10  339   43    0   44]\n",
      " [   0    0  309 3024  204    0  560]\n",
      " [   0    0  251 6126  307    0  531]\n",
      " [   0    0  190 4081  338    0  356]\n",
      " [   0    0  193 3942  312    0  383]\n",
      " [   0    0  225 2072  118    0  756]]\n",
      "Accuracy :  26.225225539029573\n"
     ]
    }
   ],
   "source": [
    "y_pred_gini_global_train = prediction(X_train_global, clf_gini_global)\n",
    "dt_gini_accuracy_global_train = cal_accuracy(Y_train, y_pred_gini_global_train)\n",
    "dt_gini_accuracy_global_train"
   ]
  },
  {
   "cell_type": "code",
   "execution_count": 333,
   "id": "d2a4ed02",
   "metadata": {},
   "outputs": [
    {
     "name": "stdout",
     "output_type": "stream",
     "text": [
      "Predicted values:\n",
      "[4 4 4 ... 4 4 4]\n",
      "Confusion Matrix:  [[   0    0  276 3336   83    0  300]\n",
      " [   0    0   10  366   16    0   44]\n",
      " [   0    0  309 3116  112    0  560]\n",
      " [   0    0  251 6297  136    0  531]\n",
      " [   0    0  190 4252  167    0  356]\n",
      " [   0    0  193 4131  123    0  383]\n",
      " [   0    0  225 2121   69    0  756]]\n",
      "Accuracy :  26.225225539029573\n"
     ]
    }
   ],
   "source": [
    "y_pred_entropy_global_train = prediction(X_train_global, clf_entropy_global)\n",
    "dt_entropy_accuracy_global_train = cal_accuracy(Y_train, y_pred_entropy_global_train)\n",
    "dt_entropy_accuracy_global_train"
   ]
  },
  {
   "cell_type": "code",
   "execution_count": 332,
   "id": "e6f8c0f1",
   "metadata": {
    "scrolled": true
   },
   "outputs": [
    {
     "name": "stdout",
     "output_type": "stream",
     "text": [
      "Predicted values:\n",
      "[4 4 7 ... 4 7 4]\n",
      "Confusion Matrix:  [[   0    0   68  759   61    0   70]\n",
      " [   0    0    2   79   13    0   17]\n",
      " [   0    0   73  762   55    0  134]\n",
      " [   0    0   70 1497   85    0  122]\n",
      " [   0    0   46 1014   88    0   85]\n",
      " [   0    0   44 1038   85    0   80]\n",
      " [   0    0   51  558   28    0  194]]\n",
      "Accuracy :  25.801058790749515\n"
     ]
    }
   ],
   "source": [
    "y_pred_gini_global = prediction(X_test_global, clf_gini_global)\n",
    "dt_gini_accuracy_global = cal_accuracy(Y_test, y_pred_gini_global)\n",
    "dt_gini_accuracy_global"
   ]
  },
  {
   "cell_type": "code",
   "execution_count": 334,
   "id": "e2b0173f",
   "metadata": {},
   "outputs": [
    {
     "name": "stdout",
     "output_type": "stream",
     "text": [
      "Predicted values:\n",
      "[4 4 7 ... 4 7 4]\n",
      "Confusion Matrix:  [[   0    0   68  800   20    0   70]\n",
      " [   0    0    2   91    1    0   17]\n",
      " [   0    0   73  789   28    0  134]\n",
      " [   0    0   70 1539   43    0  122]\n",
      " [   0    0   46 1058   44    0   85]\n",
      " [   0    0   44 1093   30    0   80]\n",
      " [   0    0   51  568   18    0  194]]\n",
      "Accuracy :  25.773195876288657\n"
     ]
    }
   ],
   "source": [
    "y_pred_entropy_global = prediction(X_test_global, clf_entropy_global)\n",
    "dt_entropy_accuracy_global = cal_accuracy(Y_test, y_pred_entropy_global)\n",
    "dt_entropy_accuracy_global"
   ]
  },
  {
   "cell_type": "markdown",
   "id": "c5cae05b",
   "metadata": {},
   "source": [
    "### For normalized histogram:"
   ]
  },
  {
   "cell_type": "code",
   "execution_count": 110,
   "id": "a6205656",
   "metadata": {},
   "outputs": [],
   "source": [
    "clf_gini_global_norm = train_using_gini(X_train_global_norm, X_test_global_norm, Y_train)\n",
    "clf_entropy_global_norm = tarin_using_entropy(X_train_global_norm, X_test_global_norm, Y_train)"
   ]
  },
  {
   "cell_type": "code",
   "execution_count": 335,
   "id": "cc1cd4ee",
   "metadata": {},
   "outputs": [
    {
     "name": "stdout",
     "output_type": "stream",
     "text": [
      "Predicted values:\n",
      "[4 4 4 ... 4 4 4]\n",
      "Confusion Matrix:  [[   6    0    4 3984    1    0    0]\n",
      " [   0    0    0  436    0    0    0]\n",
      " [   1    0   28 4062    0    6    0]\n",
      " [   0    0    2 7209    0    4    0]\n",
      " [   0    0    7 4948   10    0    0]\n",
      " [   0    0    9 4810    3    8    0]\n",
      " [   0    0    1 3166    0    4    0]]\n",
      "Accuracy :  25.291720366435612\n"
     ]
    }
   ],
   "source": [
    "y_pred_gini_global_norm_train = prediction(X_train_global_norm, clf_gini_global_norm)\n",
    "dt_gini_accuracy_global_norm_train = cal_accuracy(Y_train, y_pred_gini_global_norm_train)\n",
    "dt_gini_accuracy_global_norm_train"
   ]
  },
  {
   "cell_type": "code",
   "execution_count": 336,
   "id": "81016ee5",
   "metadata": {},
   "outputs": [
    {
     "name": "stdout",
     "output_type": "stream",
     "text": [
      "Predicted values:\n",
      "[4 4 4 ... 4 4 4]\n",
      "Confusion Matrix:  [[   6    0    1 3986    2    0    0]\n",
      " [   0    0    0  435    1    0    0]\n",
      " [   0    0   28 4064    5    0    0]\n",
      " [   0    0    1 7208    3    3    0]\n",
      " [   0    0    0 4947   18    0    0]\n",
      " [   0    0   10 4807    9    4    0]\n",
      " [   0    0    4 3167    0    0    0]]\n",
      "Accuracy :  25.302170051203454\n"
     ]
    }
   ],
   "source": [
    "y_pred_entropy_global_norm_train = prediction(X_train_global_norm, clf_entropy_global_norm)\n",
    "dt_entropy_accuracy_global_norm_train = cal_accuracy(Y_train, y_pred_entropy_global_norm_train)\n",
    "dt_entropy_accuracy_global_norm_train"
   ]
  },
  {
   "cell_type": "code",
   "execution_count": 337,
   "id": "bd3241fa",
   "metadata": {
    "scrolled": true
   },
   "outputs": [
    {
     "name": "stdout",
     "output_type": "stream",
     "text": [
      "Predicted values:\n",
      "[4 4 4 ... 4 4 4]\n",
      "Confusion Matrix:  [[   3    0   10  796    0  149    0]\n",
      " [   0    0    6   80    0   25    0]\n",
      " [   2    0   18  857    0  147    0]\n",
      " [   8    0   26 1407    0  333    0]\n",
      " [   4    0   21  965    0  243    0]\n",
      " [   5    0   41  911    0  290    0]\n",
      " [   1    0   11  747    0   72    0]]\n",
      "Accuracy :  23.93424352187239\n"
     ]
    }
   ],
   "source": [
    "y_pred_gini_global_norm = prediction(X_test_global_norm, clf_gini_global_norm)\n",
    "dt_gini_accuracy_global_norm = cal_accuracy(Y_test, y_pred_gini_global_norm)\n",
    "dt_gini_accuracy_global_norm"
   ]
  },
  {
   "cell_type": "code",
   "execution_count": 338,
   "id": "9ab0d035",
   "metadata": {},
   "outputs": [
    {
     "name": "stdout",
     "output_type": "stream",
     "text": [
      "Predicted values:\n",
      "[4 4 4 ... 4 4 4]\n",
      "Confusion Matrix:  [[   3    0  149  797    1    8    0]\n",
      " [   0    0   29   80    0    2    0]\n",
      " [   2    0  154  857    1   10    0]\n",
      " [   6    0  348 1406    7    7    0]\n",
      " [   3    0  241  972    3   14    0]\n",
      " [   5    0  303  915   16    8    0]\n",
      " [   1    0   77  747    2    4    0]]\n",
      "Accuracy :  21.928113680691\n"
     ]
    }
   ],
   "source": [
    "y_pred_entropy_global_norm = prediction(X_test_global_norm, clf_entropy_global_norm)\n",
    "dt_entropy_accuracy_global_norm = cal_accuracy(Y_test, y_pred_entropy_global_norm)\n",
    "dt_entropy_accuracy_global_norm"
   ]
  },
  {
   "cell_type": "markdown",
   "id": "deb56d75",
   "metadata": {},
   "source": [
    "## Random Forest:"
   ]
  },
  {
   "cell_type": "markdown",
   "id": "ddb44952",
   "metadata": {},
   "source": [
    "### For simple histogram:"
   ]
  },
  {
   "cell_type": "code",
   "execution_count": null,
   "id": "ce565b9f",
   "metadata": {},
   "outputs": [],
   "source": [
    "from sklearn.ensemble import RandomForestClassifier\n",
    "from sklearn import metrics\n",
    "\n",
    "#Create a Gaussian Classifier\n",
    "clf_global = RandomForestClassifier(n_estimators=500)\n",
    "\n",
    "clf_global.fit(X_train_global,Y_train)\n",
    "\n",
    "y_pred_rf_global = clf_global.predict(X_test_global)\n",
    "\n",
    "rf_accuracy_global = metrics.accuracy_score(Y_test, y_pred_rf_global)\n",
    "print(\"Accuracy:\", rf_accuracy_global)"
   ]
  },
  {
   "cell_type": "markdown",
   "id": "22e86006",
   "metadata": {},
   "source": [
    "### For 200 values of estimators:"
   ]
  },
  {
   "cell_type": "code",
   "execution_count": 423,
   "id": "1e3bea1f",
   "metadata": {},
   "outputs": [
    {
     "data": {
      "text/plain": [
       "Text(0, 0.5, 'Training Accuracy')"
      ]
     },
     "execution_count": 423,
     "metadata": {},
     "output_type": "execute_result"
    },
    {
     "data": {
      "image/png": "[encoded data removed]",
      "text/plain": [
       "<Figure size 432x288 with 1 Axes>"
      ]
     },
     "metadata": {
      "needs_background": "light"
     },
     "output_type": "display_data"
    }
   ],
   "source": [
    "rf_gb_est = np.linspace(start = 50, stop = 500, num = 46, dtype = int)\n",
    "accuracies_global_train =[]\n",
    "for k in rf_gb_est:\n",
    "    rfc_global = RandomForestClassifier(n_estimators=k)\n",
    "    rfc_global.fit(X_train_global, Y_train)\n",
    "    y_pred_rf_global = rfc_global.predict(X_train_global)\n",
    "    accuracies_global_train.append(metrics.accuracy_score(Y_train, y_pred_rf_global))\n",
    "\n",
    "%matplotlib inline\n",
    "\n",
    "# plot the relationship between K and testing accuracy\n",
    "# plt.plot(x_axis, y_axis)\n",
    "plt.plot(np.linspace(start = 50, stop = 500, num = 46, dtype = int), accuracies_global_train)\n",
    "plt.xlabel('Value of n_estimators for Random Forest Classifier')\n",
    "plt.ylabel('Training Accuracy')"
   ]
  },
  {
   "cell_type": "code",
   "execution_count": 424,
   "id": "e07e40df",
   "metadata": {},
   "outputs": [
    {
     "data": {
      "text/plain": [
       "0.9985022118499425"
      ]
     },
     "execution_count": 424,
     "metadata": {},
     "output_type": "execute_result"
    }
   ],
   "source": [
    "rf_accuracy_global_train = max(accuracies_global_train)\n",
    "rf_accuracy_global_train"
   ]
  },
  {
   "cell_type": "code",
   "execution_count": 114,
   "id": "525fafb9",
   "metadata": {},
   "outputs": [
    {
     "data": {
      "text/plain": [
       "Text(0, 0.5, 'Testing Accuracy')"
      ]
     },
     "execution_count": 114,
     "metadata": {},
     "output_type": "execute_result"
    },
    {
     "data": {
      "image/png": "[encoded data removed]",
      "text/plain": [
       "<Figure size 432x288 with 1 Axes>"
      ]
     },
     "metadata": {
      "needs_background": "light"
     },
     "output_type": "display_data"
    }
   ],
   "source": [
    "rf_gb_est = np.linspace(start = 50, stop = 500, num = 46, dtype = int)\n",
    "accuracies_global =[]\n",
    "for k in rf_gb_est:\n",
    "    rfc_global = RandomForestClassifier(n_estimators=k)\n",
    "    rfc_global.fit(X_train_global, Y_train)\n",
    "    y_pred_rf_global = rfc_global.predict(X_test_global)\n",
    "    accuracies_global.append(metrics.accuracy_score(Y_test, y_pred_rf_global))\n",
    "\n",
    "%matplotlib inline\n",
    "\n",
    "# plot the relationship between K and testing accuracy\n",
    "# plt.plot(x_axis, y_axis)\n",
    "plt.plot(np.linspace(start = 50, stop = 500, num = 46, dtype = int), accuracies_global)\n",
    "plt.xlabel('Value of n_estimators for Random Forest Classifier')\n",
    "plt.ylabel('Testing Accuracy')"
   ]
  },
  {
   "cell_type": "code",
   "execution_count": 115,
   "id": "07532449",
   "metadata": {},
   "outputs": [
    {
     "data": {
      "text/plain": [
       "0.34912231819448314"
      ]
     },
     "execution_count": 115,
     "metadata": {},
     "output_type": "execute_result"
    }
   ],
   "source": [
    "rf_accuracy_global = max(accuracies_global)\n",
    "rf_accuracy_global"
   ]
  },
  {
   "cell_type": "markdown",
   "id": "7a39d5f6",
   "metadata": {},
   "source": [
    "### For normalized histogram:"
   ]
  },
  {
   "cell_type": "code",
   "execution_count": 116,
   "id": "a121eb68",
   "metadata": {},
   "outputs": [
    {
     "name": "stdout",
     "output_type": "stream",
     "text": [
      "Accuracy: 0.1337419894120925\n"
     ]
    }
   ],
   "source": [
    "#Create a Gaussian Classifier\n",
    "clf_global_norm = RandomForestClassifier(n_estimators=500)\n",
    "\n",
    "clf_global_norm.fit(X_train_global_norm,Y_train)\n",
    "\n",
    "y_pred_rf_global_norm = clf_global_norm.predict(X_test_global_norm)\n",
    "\n",
    "rf_accuracy_global_norm = metrics.accuracy_score(Y_test, y_pred_rf_global_norm)\n",
    "print(\"Accuracy:\", rf_accuracy_global_norm)"
   ]
  },
  {
   "cell_type": "markdown",
   "id": "44c2a092",
   "metadata": {},
   "source": [
    "### For 200 values of estimators:"
   ]
  },
  {
   "cell_type": "code",
   "execution_count": 427,
   "id": "9648518a",
   "metadata": {},
   "outputs": [
    {
     "data": {
      "text/plain": [
       "Text(0, 0.5, 'Training Accuracy')"
      ]
     },
     "execution_count": 427,
     "metadata": {},
     "output_type": "execute_result"
    },
    {
     "data": {
      "image/png": "[encoded data removed]",
      "text/plain": [
       "<Figure size 432x288 with 1 Axes>"
      ]
     },
     "metadata": {
      "needs_background": "light"
     },
     "output_type": "display_data"
    }
   ],
   "source": [
    "rf_gb_est_norm = np.linspace(start = 50, stop = 500, num = 46, dtype = int)\n",
    "accuracies_global_norm_train =[]\n",
    "for k in rf_gb_est_norm:\n",
    "    rfc_global_norm = RandomForestClassifier(n_estimators=k)\n",
    "    rfc_global_norm.fit(X_train_global_norm, Y_train)\n",
    "    y_pred_rf_global_norm = rfc_global_norm.predict(X_train_global_norm)\n",
    "    accuracies_global_norm_train.append(metrics.accuracy_score(Y_train, y_pred_rf_global_norm))\n",
    "\n",
    "%matplotlib inline\n",
    "\n",
    "# plot the relationship between K and testing accuracy\n",
    "# plt.plot(x_axis, y_axis)\n",
    "plt.plot(np.linspace(start = 50, stop = 500, num = 46, dtype = int), accuracies_global_norm_train)\n",
    "plt.xlabel('Value of n_estimators for Random Forest Classifier')\n",
    "plt.ylabel('Training Accuracy')"
   ]
  },
  {
   "cell_type": "code",
   "execution_count": 428,
   "id": "0f1059a8",
   "metadata": {},
   "outputs": [
    {
     "data": {
      "text/plain": [
       "0.2716569716813543"
      ]
     },
     "execution_count": 428,
     "metadata": {},
     "output_type": "execute_result"
    }
   ],
   "source": [
    "rf_accuracy_global_norm_train = max(accuracies_global_norm_train)\n",
    "rf_accuracy_global_norm_train"
   ]
  },
  {
   "cell_type": "code",
   "execution_count": 429,
   "id": "3ce59df2",
   "metadata": {},
   "outputs": [
    {
     "data": {
      "text/plain": [
       "Text(0, 0.5, 'Testing Accuracy')"
      ]
     },
     "execution_count": 429,
     "metadata": {},
     "output_type": "execute_result"
    },
    {
     "data": {
      "image/png": "[encoded data removed]",
      "text/plain": [
       "<Figure size 432x288 with 1 Axes>"
      ]
     },
     "metadata": {
      "needs_background": "light"
     },
     "output_type": "display_data"
    }
   ],
   "source": [
    "rf_gb_est_norm = np.linspace(start = 50, stop = 500, num = 46, dtype = int)\n",
    "accuracies_global_norm =[]\n",
    "for k in rf_gb_est_norm:\n",
    "    rfc_global_norm = RandomForestClassifier(n_estimators=k)\n",
    "    rfc_global_norm.fit(X_train_global_norm, Y_train)\n",
    "    y_pred_rf_global_norm = rfc_global_norm.predict(X_test_global_norm)\n",
    "    accuracies_global_norm.append(metrics.accuracy_score(Y_test, y_pred_rf_global_norm))\n",
    "\n",
    "%matplotlib inline\n",
    "\n",
    "# plot the relationship between K and testing accuracy\n",
    "# plt.plot(x_axis, y_axis)\n",
    "plt.plot(np.linspace(start = 50, stop = 500, num = 46, dtype = int), accuracies_global_norm)\n",
    "plt.xlabel('Value of n_estimators for Random Forest Classifier')\n",
    "plt.ylabel('Testing Accuracy')"
   ]
  },
  {
   "cell_type": "code",
   "execution_count": 430,
   "id": "caa53fd4",
   "metadata": {},
   "outputs": [
    {
     "data": {
      "text/plain": [
       "0.14196154917804402"
      ]
     },
     "execution_count": 430,
     "metadata": {},
     "output_type": "execute_result"
    }
   ],
   "source": [
    "rf_accuracy_global_norm = max(accuracies_global_norm)\n",
    "rf_accuracy_global_norm"
   ]
  },
  {
   "cell_type": "markdown",
   "id": "7329a8b7",
   "metadata": {},
   "source": [
    "# LOCAL:"
   ]
  },
  {
   "cell_type": "markdown",
   "id": "0b2cc2e4",
   "metadata": {},
   "source": [
    "### Splitting all the images in 4 parts for train and test:"
   ]
  },
  {
   "cell_type": "code",
   "execution_count": 44,
   "id": "4c588b65",
   "metadata": {},
   "outputs": [],
   "source": [
    "left, right = train_list_upd[0].shape\n",
    "half = right//2"
   ]
  },
  {
   "cell_type": "code",
   "execution_count": 45,
   "id": "98b34e7c",
   "metadata": {},
   "outputs": [],
   "source": [
    "train_l_top,train_r_top,train_l_bottom,train_r_bottom=[],[],[],[]\n",
    "for i in train_list_upd:\n",
    "    lef_top=i[:half, :half]\n",
    "    right_top=i[:half, half:]\n",
    "    left_bottom=i[half:,:half]\n",
    "    right_bottom=i[half:,half:]\n",
    "    train_l_top.append(lef_top)\n",
    "    train_r_top.append(right_top)\n",
    "    train_l_bottom.append(left_bottom)\n",
    "    train_r_bottom.append(right_bottom)"
   ]
  },
  {
   "cell_type": "code",
   "execution_count": 46,
   "id": "3a423f4d",
   "metadata": {},
   "outputs": [],
   "source": [
    "test_l_top,test_r_top,test_l_bottom,test_r_bottom=[],[],[],[]\n",
    "for i in test_list_upd:\n",
    "    lef_top=i[:half, :half]\n",
    "    right_top=i[:half, half:]\n",
    "    left_bottom=i[half:,:half]\n",
    "    right_bottom=i[half:,half:]\n",
    "    test_l_top.append(lef_top)\n",
    "    test_r_top.append(right_top)\n",
    "    test_l_bottom.append(left_bottom)\n",
    "    test_r_bottom.append(right_bottom)"
   ]
  },
  {
   "cell_type": "markdown",
   "id": "a3ed3136",
   "metadata": {},
   "source": [
    "### Image gradient calculation for all the parts:"
   ]
  },
  {
   "cell_type": "code",
   "execution_count": 47,
   "id": "d7f2ce12",
   "metadata": {},
   "outputs": [],
   "source": [
    "# Image Gradient calculation (train data)\n",
    "IG_train_l_top = [IG(i) for i in train_l_top]\n",
    "IG_train_r_top = [IG(i) for i in train_r_top]\n",
    "IG_train_l_bottom = [IG(i) for i in train_l_bottom]\n",
    "IG_train_r_bottom = [IG(i) for i in train_r_bottom]"
   ]
  },
  {
   "cell_type": "code",
   "execution_count": 48,
   "id": "6030efb6",
   "metadata": {},
   "outputs": [],
   "source": [
    "# Image Gradient calculation (test data)\n",
    "IG_test_l_top = [IG(i) for i in test_l_top]\n",
    "IG_test_r_top = [IG(i) for i in test_r_top]\n",
    "IG_test_l_bottom = [IG(i) for i in test_l_bottom]\n",
    "IG_test_r_bottom = [IG(i) for i in test_r_bottom]"
   ]
  },
  {
   "cell_type": "markdown",
   "id": "502ff8b2",
   "metadata": {},
   "source": [
    "### Theta calculation for all the parts:"
   ]
  },
  {
   "cell_type": "code",
   "execution_count": 49,
   "id": "e5eddcbe",
   "metadata": {},
   "outputs": [
    {
     "name": "stderr",
     "output_type": "stream",
     "text": [
      "<ipython-input-5-b6348c9701f0>:6: RuntimeWarning: divide by zero encountered in true_divide\n",
      "  slope = sobelY/sobelX\n",
      "<ipython-input-5-b6348c9701f0>:6: RuntimeWarning: invalid value encountered in true_divide\n",
      "  slope = sobelY/sobelX\n"
     ]
    }
   ],
   "source": [
    "# calculating theta (train)\n",
    "\n",
    "theta_train_l_top = [theta(i) for i in train_l_top]\n",
    "final_theta_train_l_top = final_theta(theta_train_l_top)\n",
    "\n",
    "theta_train_r_top = [theta(i) for i in train_r_top]\n",
    "final_theta_train_r_top = final_theta(theta_train_r_top)\n",
    "\n",
    "theta_train_l_bottom = [theta(i) for i in train_l_bottom]\n",
    "final_theta_train_l_bottom = final_theta(theta_train_l_bottom)\n",
    "\n",
    "theta_train_r_bottom = [theta(i) for i in train_r_bottom]\n",
    "final_theta_train_r_bottom = final_theta(theta_train_r_bottom)"
   ]
  },
  {
   "cell_type": "code",
   "execution_count": 50,
   "id": "8bd255fd",
   "metadata": {},
   "outputs": [
    {
     "name": "stderr",
     "output_type": "stream",
     "text": [
      "<ipython-input-5-b6348c9701f0>:6: RuntimeWarning: divide by zero encountered in true_divide\n",
      "  slope = sobelY/sobelX\n",
      "<ipython-input-5-b6348c9701f0>:6: RuntimeWarning: invalid value encountered in true_divide\n",
      "  slope = sobelY/sobelX\n"
     ]
    }
   ],
   "source": [
    "# calculating theta (test)\n",
    "\n",
    "theta_test_l_top = [theta(i) for i in test_l_top]\n",
    "final_theta_test_l_top = final_theta(theta_test_l_top)\n",
    "\n",
    "theta_test_r_top = [theta(i) for i in test_r_top]\n",
    "final_theta_test_r_top = final_theta(theta_test_r_top)\n",
    "\n",
    "theta_test_l_bottom = [theta(i) for i in test_l_bottom]\n",
    "final_theta_test_l_bottom = final_theta(theta_test_l_bottom)\n",
    "\n",
    "theta_test_r_bottom = [theta(i) for i in test_r_bottom]\n",
    "final_theta_test_r_bottom = final_theta(theta_test_r_bottom)"
   ]
  },
  {
   "cell_type": "markdown",
   "id": "8b131616",
   "metadata": {},
   "source": [
    "### Histogram Calculation for all the parts:"
   ]
  },
  {
   "cell_type": "code",
   "execution_count": 51,
   "id": "1cd007a5",
   "metadata": {},
   "outputs": [],
   "source": [
    "# Histogram Calculation (train)\n",
    "\n",
    "hist_train_l_top = [histograms(item1,item2) for (item1, item2) in zip(IG_train_l_top, final_theta_train_l_top)]\n",
    "hist_train_r_top = [histograms(item1,item2) for (item1, item2) in zip(IG_train_r_top, final_theta_train_r_top)]\n",
    "hist_train_l_bottom = [histograms(item1,item2) for (item1, item2) in zip(IG_train_l_bottom, final_theta_train_l_bottom)]\n",
    "hist_train_r_bottom = [histograms(item1,item2) for (item1, item2) in zip(IG_train_r_bottom, final_theta_train_r_bottom)]"
   ]
  },
  {
   "cell_type": "code",
   "execution_count": 52,
   "id": "19fa21e6",
   "metadata": {},
   "outputs": [],
   "source": [
    "# Histogram Calculation (test)\n",
    "\n",
    "hist_test_l_top = [histograms(item1,item2) for (item1, item2) in zip(IG_test_l_top, final_theta_test_l_top)]\n",
    "hist_test_r_top = [histograms(item1,item2) for (item1, item2) in zip(IG_test_r_top, final_theta_test_r_top)]\n",
    "hist_test_l_bottom = [histograms(item1,item2) for (item1, item2) in zip(IG_test_l_bottom, final_theta_test_l_bottom)]\n",
    "hist_test_r_bottom = [histograms(item1,item2) for (item1, item2) in zip(IG_test_r_bottom, final_theta_test_r_bottom)]"
   ]
  },
  {
   "cell_type": "markdown",
   "id": "981d7f05",
   "metadata": {},
   "source": [
    "### Concatenating all the histograms:"
   ]
  },
  {
   "cell_type": "code",
   "execution_count": 53,
   "id": "2eddc3e1",
   "metadata": {},
   "outputs": [],
   "source": [
    "hist_train_concat = [np.hstack((hist_train_l_top[i],hist_train_r_top[i],hist_train_l_bottom[i],hist_train_r_bottom[i])) for i in range(len(hist_train_l_top))]"
   ]
  },
  {
   "cell_type": "code",
   "execution_count": 54,
   "id": "b01966b3",
   "metadata": {},
   "outputs": [],
   "source": [
    "hist_test_concat = [np.hstack((hist_test_l_top[i],hist_test_r_top[i],hist_test_l_bottom[i],hist_test_r_bottom[i])) for i in range(len(hist_test_l_top))]"
   ]
  },
  {
   "cell_type": "code",
   "execution_count": 55,
   "id": "b0703814",
   "metadata": {},
   "outputs": [
    {
     "data": {
      "image/png": "[encoded data removed]",
      "text/plain": [
       "<Figure size 1152x720 with 1 Axes>"
      ]
     },
     "metadata": {
      "needs_background": "light"
     },
     "output_type": "display_data"
    }
   ],
   "source": [
    "for i in hist_train_concat:\n",
    "    plotting4(i)\n",
    "    break"
   ]
  },
  {
   "cell_type": "code",
   "execution_count": 56,
   "id": "6a97dd38",
   "metadata": {},
   "outputs": [
    {
     "data": {
      "image/png": "[encoded data removed]",
      "text/plain": [
       "<Figure size 1152x720 with 1 Axes>"
      ]
     },
     "metadata": {
      "needs_background": "light"
     },
     "output_type": "display_data"
    }
   ],
   "source": [
    "for i in hist_test_concat:\n",
    "    plotting4(i)\n",
    "    break"
   ]
  },
  {
   "cell_type": "code",
   "execution_count": 57,
   "id": "c441200e",
   "metadata": {},
   "outputs": [],
   "source": [
    "X_train_local = hist_train_concat\n",
    "Y_train = y_train\n",
    "X_test_local = hist_test_concat\n",
    "Y_test = y_test"
   ]
  },
  {
   "cell_type": "code",
   "execution_count": 58,
   "id": "84465ef7",
   "metadata": {
    "scrolled": true
   },
   "outputs": [
    {
     "data": {
      "text/plain": [
       "numpy.int64"
      ]
     },
     "execution_count": 58,
     "metadata": {},
     "output_type": "execute_result"
    }
   ],
   "source": [
    "type(Y_train[0])"
   ]
  },
  {
   "cell_type": "markdown",
   "id": "f68ba3ee",
   "metadata": {},
   "source": [
    "### Normalizing the histograms:"
   ]
  },
  {
   "cell_type": "code",
   "execution_count": 59,
   "id": "586c802b",
   "metadata": {},
   "outputs": [],
   "source": [
    "hist_train_concat1 = np.array(hist_train_concat)\n",
    "hist_train_concat_norm = hist_train_concat1/hist_train_concat1.sum()\n",
    "hist_train_concat_norm = np.absolute(hist_train_concat_norm)"
   ]
  },
  {
   "cell_type": "code",
   "execution_count": 60,
   "id": "8a212d04",
   "metadata": {},
   "outputs": [],
   "source": [
    "# for i in hist_train_concat_norm[0:2]:\n",
    "#     plotting4(i)"
   ]
  },
  {
   "cell_type": "code",
   "execution_count": 61,
   "id": "1300c713",
   "metadata": {},
   "outputs": [],
   "source": [
    "hist_test_concat1 = np.array(hist_test_concat)\n",
    "hist_test_concat_norm = hist_test_concat1/hist_test_concat1.sum()\n",
    "hist_test_concat_norm = np.absolute(hist_test_concat_norm)"
   ]
  },
  {
   "cell_type": "code",
   "execution_count": 62,
   "id": "c55e90cf",
   "metadata": {},
   "outputs": [
    {
     "ename": "NameError",
     "evalue": "name 'prediction' is not defined",
     "output_type": "error",
     "traceback": [
      "\u001b[0;31m---------------------------------------------------------------------------\u001b[0m",
      "\u001b[0;31mNameError\u001b[0m                                 Traceback (most recent call last)",
      "\u001b[0;32m<ipython-input-62-5aed4027b400>\u001b[0m in \u001b[0;36m<module>\u001b[0;34m\u001b[0m\n\u001b[0;32m----> 1\u001b[0;31m \u001b[0mX_train_local_norm\u001b[0m \u001b[0;34m=\u001b[0m \u001b[0mhist_train_concat_normy_pred_gini_global_norm\u001b[0m \u001b[0;34m=\u001b[0m \u001b[0mprediction\u001b[0m\u001b[0;34m(\u001b[0m\u001b[0mX_test_global_norm\u001b[0m\u001b[0;34m,\u001b[0m \u001b[0mclf_gini_global_norm\u001b[0m\u001b[0;34m)\u001b[0m\u001b[0;34m\u001b[0m\u001b[0;34m\u001b[0m\u001b[0m\n\u001b[0m\u001b[1;32m      2\u001b[0m \u001b[0mdt_gini_accuracy_global_norm\u001b[0m \u001b[0;34m=\u001b[0m \u001b[0mcal_accuracy\u001b[0m\u001b[0;34m(\u001b[0m\u001b[0mY_test\u001b[0m\u001b[0;34m,\u001b[0m \u001b[0my_pred_gini_global_norm\u001b[0m\u001b[0;34m)\u001b[0m\u001b[0;34m\u001b[0m\u001b[0;34m\u001b[0m\u001b[0m\n\u001b[1;32m      3\u001b[0m \u001b[0mdt_gini_accuracy_global_norm\u001b[0m\u001b[0;34m\u001b[0m\u001b[0;34m\u001b[0m\u001b[0m\n\u001b[1;32m      4\u001b[0m \u001b[0mX_test_local_norm\u001b[0m \u001b[0;34m=\u001b[0m \u001b[0mhist_test_concat_norm\u001b[0m\u001b[0;34m\u001b[0m\u001b[0;34m\u001b[0m\u001b[0m\n",
      "\u001b[0;31mNameError\u001b[0m: name 'prediction' is not defined"
     ]
    }
   ],
   "source": [
    "X_train_local_norm = hist_train_concat_normy_pred_gini_global_norm = prediction(X_test_global_norm, clf_gini_global_norm)\n",
    "dt_gini_accuracy_global_norm = cal_accuracy(Y_test, y_pred_gini_global_norm)\n",
    "dt_gini_accuracy_global_norm\n",
    "X_test_local_norm = hist_test_concat_norm"
   ]
  },
  {
   "cell_type": "markdown",
   "id": "bf04e3db",
   "metadata": {},
   "source": [
    "# KNN:"
   ]
  },
  {
   "cell_type": "markdown",
   "id": "0c4a5775",
   "metadata": {},
   "source": [
    "### For simple histogram:"
   ]
  },
  {
   "cell_type": "code",
   "execution_count": 138,
   "id": "b4194121",
   "metadata": {},
   "outputs": [],
   "source": [
    "k =[KNeighborsClassifier(n_neighbors=i+1) for i in range(25)]"
   ]
  },
  {
   "cell_type": "code",
   "execution_count": 139,
   "id": "e02db2a9",
   "metadata": {
    "scrolled": true
   },
   "outputs": [],
   "source": [
    "f_local = [i.fit(X_train_local, Y_train) for i in k]"
   ]
  },
  {
   "cell_type": "code",
   "execution_count": 340,
   "id": "2dbb78c5",
   "metadata": {},
   "outputs": [],
   "source": [
    "s_local_train = [i.score(X_train_local,Y_train) for i in f_local]"
   ]
  },
  {
   "cell_type": "code",
   "execution_count": 341,
   "id": "3f0b4bc9",
   "metadata": {},
   "outputs": [
    {
     "name": "stdout",
     "output_type": "stream",
     "text": [
      "    Accuracy\n",
      "0   0.162562\n",
      "1   0.140966\n",
      "2   0.150475\n",
      "3   0.150406\n",
      "4   0.154237\n",
      "5   0.163015\n",
      "6   0.158452\n",
      "7   0.164374\n",
      "8   0.163781\n",
      "9   0.163154\n",
      "10  0.165976\n",
      "11  0.155665\n",
      "12  0.152949\n",
      "13  0.149396\n",
      "14  0.149256\n",
      "15  0.146748\n",
      "16  0.145947\n",
      "17  0.145738\n",
      "18  0.146714\n",
      "19  0.145042\n",
      "20  0.144206\n",
      "21  0.143265\n",
      "22  0.143405\n",
      "23  0.143126\n",
      "24  0.143021\n"
     ]
    },
    {
     "data": {
      "image/png": "[encoded data removed]",
      "text/plain": [
       "<Figure size 432x288 with 1 Axes>"
      ]
     },
     "metadata": {
      "needs_background": "light"
     },
     "output_type": "display_data"
    }
   ],
   "source": [
    "df_local_train = pd.DataFrame(s_local_train, columns = [\"Accuracy\"])\n",
    "print(df_local_train)\n",
    "plt.plot(df_local_train)\n",
    "plt.show()"
   ]
  },
  {
   "cell_type": "code",
   "execution_count": 342,
   "id": "6cdc3baa",
   "metadata": {},
   "outputs": [
    {
     "name": "stdout",
     "output_type": "stream",
     "text": [
      "0.16597582639590372\n"
     ]
    }
   ],
   "source": [
    "knn_accuracy_local_train = s_local_train[10]\n",
    "print(knn_accuracy_local_train)"
   ]
  },
  {
   "cell_type": "code",
   "execution_count": 343,
   "id": "01590f30",
   "metadata": {},
   "outputs": [
    {
     "data": {
      "text/plain": [
       "array([6, 6, 6, ..., 6, 3, 6])"
      ]
     },
     "execution_count": 343,
     "metadata": {},
     "output_type": "execute_result"
    }
   ],
   "source": [
    "y_pred_local_train = f_local[0].predict(X_train_local)\n",
    "y_pred_local_train"
   ]
  },
  {
   "cell_type": "code",
   "execution_count": 344,
   "id": "a8fa5d8f",
   "metadata": {},
   "outputs": [
    {
     "name": "stdout",
     "output_type": "stream",
     "text": [
      "[[ 157   16  224  222  167  228   79]\n",
      " [   0    0    0    0    0    0    0]\n",
      " [1036   73 1216 2740 1389 1327 1048]\n",
      " [   0    0    0    0    0    0    0]\n",
      " [   0    0    0    0    0    0    0]\n",
      " [2752  340 2569 4139 3336 3182 1932]\n",
      " [  50    7   88  114   73   93  112]]\n"
     ]
    }
   ],
   "source": [
    "print(confusion_matrix(y_pred_local_train, Y_train))"
   ]
  },
  {
   "cell_type": "code",
   "execution_count": 140,
   "id": "8bedaa3d",
   "metadata": {},
   "outputs": [],
   "source": [
    "s_local = [i.score(X_train_local,Y_train) for i in f_local]"
   ]
  },
  {
   "cell_type": "code",
   "execution_count": 141,
   "id": "a1fdbc11",
   "metadata": {},
   "outputs": [
    {
     "name": "stdout",
     "output_type": "stream",
     "text": [
      "    Accuracy\n",
      "0   0.390359\n",
      "1   0.338813\n",
      "2   0.330872\n",
      "3   0.330872\n",
      "4   0.333380\n",
      "5   0.330872\n",
      "6   0.333937\n",
      "7   0.333240\n",
      "8   0.328643\n",
      "9   0.321259\n",
      "10  0.324185\n",
      "11  0.322235\n",
      "12  0.319170\n",
      "13  0.316244\n",
      "14  0.321677\n",
      "15  0.317637\n",
      "16  0.315687\n",
      "17  0.316941\n",
      "18  0.316244\n",
      "19  0.316105\n",
      "20  0.318612\n",
      "21  0.314294\n",
      "22  0.313179\n",
      "23  0.308303\n",
      "24  0.311368\n"
     ]
    },
    {
     "data": {
      "image/png": "[encoded data removed]",
      "text/plain": [
       "<Figure size 432x288 with 1 Axes>"
      ]
     },
     "metadata": {
      "needs_background": "light"
     },
     "output_type": "display_data"
    }
   ],
   "source": [
    "df_local = pd.DataFrame(s_local, columns = [\"Accuracy\"])\n",
    "print(df_local)\n",
    "plt.plot(df_local)\n",
    "plt.show()"
   ]
  },
  {
   "cell_type": "code",
   "execution_count": 142,
   "id": "3a5481dd",
   "metadata": {},
   "outputs": [],
   "source": [
    "knn_accuracy_local = s_local[1]"
   ]
  },
  {
   "cell_type": "code",
   "execution_count": 143,
   "id": "e5d6884d",
   "metadata": {},
   "outputs": [
    {
     "data": {
      "text/plain": [
       "array([1, 1, 4, ..., 3, 7, 7])"
      ]
     },
     "execution_count": 143,
     "metadata": {},
     "output_type": "execute_result"
    }
   ],
   "source": [
    "y_pred_local = f_local[0].predict(X_test_local)\n",
    "y_pred_local"
   ]
  },
  {
   "cell_type": "code",
   "execution_count": 144,
   "id": "e128229d",
   "metadata": {},
   "outputs": [],
   "source": [
    "from sklearn.metrics import confusion_matrix"
   ]
  },
  {
   "cell_type": "code",
   "execution_count": 145,
   "id": "6f9c0734",
   "metadata": {},
   "outputs": [
    {
     "name": "stdout",
     "output_type": "stream",
     "text": [
      "[[343  13 111 182 135 141  51]\n",
      " [ 14  67  11  13  18  10   7]\n",
      " [112   5 424 184 131 161  62]\n",
      " [188   8 169 727 294 292  84]\n",
      " [134   7 121 288 362 185  67]\n",
      " [105   6 119 242 188 367  48]\n",
      " [ 62   5  69 138 105  91 512]]\n"
     ]
    }
   ],
   "source": [
    "print(confusion_matrix(y_pred_local, Y_test))"
   ]
  },
  {
   "cell_type": "markdown",
   "id": "f34242b9",
   "metadata": {},
   "source": [
    "### For normalized histogram:"
   ]
  },
  {
   "cell_type": "code",
   "execution_count": 146,
   "id": "60bbb5ea",
   "metadata": {},
   "outputs": [],
   "source": [
    "f_local_norm = [i.fit(X_train_local_norm, Y_train) for i in k]"
   ]
  },
  {
   "cell_type": "code",
   "execution_count": 346,
   "id": "d66c8ae9",
   "metadata": {},
   "outputs": [],
   "source": [
    "s_local_norm_train = [i.score(X_train_local_norm,Y_train) for i in f_local_norm]"
   ]
  },
  {
   "cell_type": "code",
   "execution_count": 407,
   "id": "397ab618",
   "metadata": {},
   "outputs": [
    {
     "name": "stdout",
     "output_type": "stream",
     "text": [
      "    Accuracy\n",
      "0   0.998642\n",
      "1   0.692187\n",
      "2   0.617925\n",
      "3   0.576614\n",
      "4   0.541085\n",
      "5   0.515100\n",
      "6   0.492807\n",
      "7   0.478247\n",
      "8   0.465777\n",
      "9   0.452889\n",
      "10  0.442927\n",
      "11  0.435717\n",
      "12  0.426939\n",
      "13  0.420251\n",
      "14  0.415340\n",
      "15  0.409523\n",
      "16  0.403253\n",
      "17  0.399944\n",
      "18  0.395555\n",
      "19  0.392281\n",
      "20  0.387579\n",
      "21  0.385419\n",
      "22  0.381762\n",
      "23  0.379846\n",
      "24  0.376746\n"
     ]
    },
    {
     "data": {
      "image/png": "[encoded data removed]",
      "text/plain": [
       "<Figure size 432x288 with 1 Axes>"
      ]
     },
     "metadata": {
      "needs_background": "light"
     },
     "output_type": "display_data"
    }
   ],
   "source": [
    "df_local_norm_train = pd.DataFrame(s_local_norm, columns = [\"Accuracy\"])\n",
    "print(df_local_norm_train)\n",
    "plt.plot(df_local_norm_train)\n",
    "plt.show()"
   ]
  },
  {
   "cell_type": "code",
   "execution_count": 408,
   "id": "cc7f6b2f",
   "metadata": {},
   "outputs": [
    {
     "data": {
      "text/plain": [
       "array([1, 1, 1, ..., 7, 7, 7])"
      ]
     },
     "execution_count": 408,
     "metadata": {},
     "output_type": "execute_result"
    }
   ],
   "source": [
    "y_pred_local_norm_train = f_local_norm[0].predict(X_train_local_norm)\n",
    "y_pred_local_norm_train"
   ]
  },
  {
   "cell_type": "code",
   "execution_count": 409,
   "id": "1392b40f",
   "metadata": {},
   "outputs": [
    {
     "name": "stdout",
     "output_type": "stream",
     "text": [
      "[[3995    0    4    1    2    6    3]\n",
      " [   0  436    1    0    0    0    0]\n",
      " [   0    0 4092    0    1    4   16]\n",
      " [   0    0    0 7214    0    0    0]\n",
      " [   0    0    0    0 4962    1    0]\n",
      " [   0    0    0    0    0 4819    0]\n",
      " [   0    0    0    0    0    0 3152]]\n"
     ]
    }
   ],
   "source": [
    "print(confusion_matrix(y_pred_local_norm_train, Y_train))"
   ]
  },
  {
   "cell_type": "code",
   "execution_count": 147,
   "id": "b30872d9",
   "metadata": {},
   "outputs": [],
   "source": [
    "s_local_norm = [i.score(X_test_local_norm,Y_test) for i in f_local_norm]"
   ]
  },
  {
   "cell_type": "code",
   "execution_count": 148,
   "id": "206e470b",
   "metadata": {},
   "outputs": [
    {
     "name": "stdout",
     "output_type": "stream",
     "text": [
      "    Accuracy\n",
      "0   0.152132\n",
      "1   0.143494\n",
      "2   0.146141\n",
      "3   0.145723\n",
      "4   0.141544\n",
      "5   0.147952\n",
      "6   0.147256\n",
      "7   0.145444\n",
      "8   0.142797\n",
      "9   0.141126\n",
      "10  0.144330\n",
      "11  0.144469\n",
      "12  0.143215\n",
      "13  0.145723\n",
      "14  0.144191\n",
      "15  0.145166\n",
      "16  0.144051\n",
      "17  0.143633\n",
      "18  0.144051\n",
      "19  0.145166\n",
      "20  0.146002\n",
      "21  0.145723\n",
      "22  0.146838\n",
      "23  0.146977\n",
      "24  0.148370\n"
     ]
    },
    {
     "data": {
      "image/png": "[encoded data removed]",
      "text/plain": [
       "<Figure size 432x288 with 1 Axes>"
      ]
     },
     "metadata": {
      "needs_background": "light"
     },
     "output_type": "display_data"
    }
   ],
   "source": [
    "df_local_norm = pd.DataFrame(s_local_norm, columns = [\"Accuracy\"])\n",
    "print(df_local_norm)\n",
    "plt.plot(df_local_norm)\n",
    "plt.show()"
   ]
  },
  {
   "cell_type": "code",
   "execution_count": 149,
   "id": "a32acace",
   "metadata": {},
   "outputs": [],
   "source": [
    "knn_accuracy_local_norm = s_local_norm[24]"
   ]
  },
  {
   "cell_type": "code",
   "execution_count": 150,
   "id": "229d94de",
   "metadata": {},
   "outputs": [
    {
     "data": {
      "text/plain": [
       "array([6, 6, 1, ..., 3, 7, 3])"
      ]
     },
     "execution_count": 150,
     "metadata": {},
     "output_type": "execute_result"
    }
   ],
   "source": [
    "y_pred_local_norm = f_local_norm[0].predict(X_test_local_norm)\n",
    "y_pred_local_norm"
   ]
  },
  {
   "cell_type": "code",
   "execution_count": 151,
   "id": "6b86b3e2",
   "metadata": {},
   "outputs": [
    {
     "name": "stdout",
     "output_type": "stream",
     "text": [
      "[[ 171   20  211  230  183  238  113]\n",
      " [   0    0    1    1    0    0    0]\n",
      " [ 436   40  463 1030  591  553  387]\n",
      " [  20    1   13   26   42   31   16]\n",
      " [   5    1    1    6    8   12    1]\n",
      " [ 288   42  282  404  352  356  246]\n",
      " [  38    7   53   77   57   57   68]]\n"
     ]
    }
   ],
   "source": [
    "print(confusion_matrix(y_pred_local_norm, Y_test))"
   ]
  },
  {
   "cell_type": "markdown",
   "id": "f0e1636c",
   "metadata": {},
   "source": [
    "## SVM:"
   ]
  },
  {
   "cell_type": "markdown",
   "id": "7b398425",
   "metadata": {},
   "source": [
    "### For simple histogram:"
   ]
  },
  {
   "cell_type": "markdown",
   "id": "26ac91f2",
   "metadata": {},
   "source": [
    "### Sigmoid kernel:"
   ]
  },
  {
   "cell_type": "code",
   "execution_count": 152,
   "id": "4e91a1a1",
   "metadata": {},
   "outputs": [
    {
     "data": {
      "text/plain": [
       "SVC(kernel='sigmoid', random_state=0)"
      ]
     },
     "execution_count": 152,
     "metadata": {},
     "output_type": "execute_result"
    }
   ],
   "source": [
    "classifier_sigmoid_local = SVC(kernel='sigmoid', random_state = 0)\n",
    "classifier_sigmoid_local.fit(X_train_local,Y_train)"
   ]
  },
  {
   "cell_type": "code",
   "execution_count": 431,
   "id": "c7a9447f",
   "metadata": {},
   "outputs": [],
   "source": [
    "sigmoid_pred_local_train = classifier_sigmoid_local.predict(X_train_local)"
   ]
  },
  {
   "cell_type": "code",
   "execution_count": 433,
   "id": "f98545eb",
   "metadata": {},
   "outputs": [
    {
     "name": "stdout",
     "output_type": "stream",
     "text": [
      "\n",
      "Accuracy Of SVM with sigmoid kernel for train data:  0.1694938869344108\n"
     ]
    }
   ],
   "source": [
    "cm1_local_train = confusion_matrix(Y_train,sigmoid_pred_local_train)\n",
    "accuracy_sigmoid_local_train = float(cm1_local_train.diagonal().sum())/len(Y_train)\n",
    "print(\"\\nAccuracy Of SVM with sigmoid kernel for train data: \", accuracy_sigmoid_local_train)"
   ]
  },
  {
   "cell_type": "code",
   "execution_count": 153,
   "id": "4ecd858c",
   "metadata": {},
   "outputs": [],
   "source": [
    "sigmoid_pred_local = classifier_sigmoid_local.predict(X_test_local)"
   ]
  },
  {
   "cell_type": "code",
   "execution_count": 154,
   "id": "ffba60b0",
   "metadata": {},
   "outputs": [
    {
     "name": "stdout",
     "output_type": "stream",
     "text": [
      "\n",
      "Accuracy Of SVM with sigmoid kernel :  0.16829200334354974\n"
     ]
    }
   ],
   "source": [
    "cm1_local = confusion_matrix(Y_test,sigmoid_pred_local)\n",
    "accuracy_sigmoid_local = float(cm1_local.diagonal().sum())/len(Y_test)\n",
    "print(\"\\nAccuracy Of SVM with sigmoid kernel : \", accuracy_sigmoid_local)"
   ]
  },
  {
   "cell_type": "markdown",
   "id": "487933af",
   "metadata": {},
   "source": [
    "### Polynomial kernel (with degree 1) :"
   ]
  },
  {
   "cell_type": "code",
   "execution_count": 155,
   "id": "c9856d79",
   "metadata": {},
   "outputs": [
    {
     "data": {
      "text/plain": [
       "SVC(degree=1, kernel='poly', random_state=0)"
      ]
     },
     "execution_count": 155,
     "metadata": {},
     "output_type": "execute_result"
    }
   ],
   "source": [
    "classifier_pol_1_local = SVC(kernel='poly', degree = 1, random_state = 0)\n",
    "classifier_pol_1_local.fit(X_train_local,Y_train)"
   ]
  },
  {
   "cell_type": "code",
   "execution_count": 347,
   "id": "3a9894bd",
   "metadata": {},
   "outputs": [],
   "source": [
    "pol_1_pred_local_train = classifier_pol_1_local.predict(X_train_local)"
   ]
  },
  {
   "cell_type": "code",
   "execution_count": 348,
   "id": "37f316d2",
   "metadata": {},
   "outputs": [
    {
     "name": "stdout",
     "output_type": "stream",
     "text": [
      "\n",
      "Accuracy Of SVM with polynomial kernel having deg 1 :  0.29112821763210145\n"
     ]
    }
   ],
   "source": [
    "cm2_local_train = confusion_matrix(Y_train,pol_1_pred_local_train)\n",
    "accuracy_pol_1_local_train = float(cm2_local_train.diagonal().sum())/len(Y_train)\n",
    "print(\"\\nAccuracy Of SVM with polynomial kernel having deg 1 for train data: \", accuracy_pol_1_local_train)"
   ]
  },
  {
   "cell_type": "code",
   "execution_count": 156,
   "id": "c2811b5f",
   "metadata": {},
   "outputs": [],
   "source": [
    "pol_1_pred_local = classifier_pol_1_local.predict(X_test_local)"
   ]
  },
  {
   "cell_type": "code",
   "execution_count": 157,
   "id": "b29b40e5",
   "metadata": {},
   "outputs": [
    {
     "name": "stdout",
     "output_type": "stream",
     "text": [
      "\n",
      "Accuracy Of SVM with polynomial kernel having deg 1 :  0.29005293953747563\n"
     ]
    }
   ],
   "source": [
    "cm2_local = confusion_matrix(Y_test,pol_1_pred_local)\n",
    "accuracy_pol_1_local = float(cm2_local.diagonal().sum())/len(Y_test)\n",
    "print(\"\\nAccuracy Of SVM with polynomial kernel having deg 1 : \", accuracy_pol_1_local)"
   ]
  },
  {
   "cell_type": "markdown",
   "id": "30f3c516",
   "metadata": {},
   "source": [
    "### Polynomial kernel (with degree 3):"
   ]
  },
  {
   "cell_type": "code",
   "execution_count": 158,
   "id": "46cf11d0",
   "metadata": {},
   "outputs": [
    {
     "data": {
      "text/plain": [
       "SVC(kernel='poly', random_state=0)"
      ]
     },
     "execution_count": 158,
     "metadata": {},
     "output_type": "execute_result"
    }
   ],
   "source": [
    "classifier_pol_3_local = SVC(kernel='poly', degree = 3, random_state = 0)\n",
    "classifier_pol_3_local.fit(X_train_local,Y_train)"
   ]
  },
  {
   "cell_type": "code",
   "execution_count": 349,
   "id": "30d0ddeb",
   "metadata": {},
   "outputs": [],
   "source": [
    "pol_3_pred_local_train = classifier_pol_3_local.predict(X_train_local)"
   ]
  },
  {
   "cell_type": "code",
   "execution_count": 350,
   "id": "c29d22e5",
   "metadata": {},
   "outputs": [
    {
     "name": "stdout",
     "output_type": "stream",
     "text": [
      "\n",
      "Accuracy Of SVM with polynomial kernel having deg 3 :  0.30405099446166706\n"
     ]
    }
   ],
   "source": [
    "cm3_local_train = confusion_matrix(Y_train,pol_3_pred_local_train)\n",
    "accuracy_pol_3_local_train = float(cm3_local_train.diagonal().sum())/len(Y_train)\n",
    "print(\"\\nAccuracy Of SVM with polynomial kernel having deg 3 for train data: \", accuracy_pol_3_local_train)"
   ]
  },
  {
   "cell_type": "code",
   "execution_count": 159,
   "id": "b97444f7",
   "metadata": {},
   "outputs": [],
   "source": [
    "pol_3_pred_local = classifier_pol_3_local.predict(X_test_local)"
   ]
  },
  {
   "cell_type": "code",
   "execution_count": 160,
   "id": "588dd3bd",
   "metadata": {},
   "outputs": [
    {
     "name": "stdout",
     "output_type": "stream",
     "text": [
      "\n",
      "Accuracy Of SVM with polynomial kernel having deg 3 :  0.29102814154360546\n"
     ]
    }
   ],
   "source": [
    "cm3_local = confusion_matrix(Y_test,pol_3_pred_local)\n",
    "accuracy_pol_3_local = float(cm3_local.diagonal().sum())/len(Y_test)\n",
    "print(\"\\nAccuracy Of SVM with polynomial kernel having deg 3 : \", accuracy_pol_3_local)"
   ]
  },
  {
   "cell_type": "markdown",
   "id": "bed7709a",
   "metadata": {},
   "source": [
    "### Linear kernel:"
   ]
  },
  {
   "cell_type": "code",
   "execution_count": 161,
   "id": "c0406780",
   "metadata": {},
   "outputs": [],
   "source": [
    "# classifier_linear = SVC(kernel='linear', random_state = 0)\n",
    "# classifier_linear.fit(X_train,Y_train)"
   ]
  },
  {
   "cell_type": "markdown",
   "id": "b7180254",
   "metadata": {},
   "source": [
    "### RBF kernel:"
   ]
  },
  {
   "cell_type": "code",
   "execution_count": 162,
   "id": "2f26ba4c",
   "metadata": {},
   "outputs": [
    {
     "data": {
      "text/plain": [
       "SVC(random_state=0)"
      ]
     },
     "execution_count": 162,
     "metadata": {},
     "output_type": "execute_result"
    }
   ],
   "source": [
    "classifier_rbf_local = SVC(kernel='rbf', random_state = 0)\n",
    "classifier_rbf_local.fit(X_train_local,Y_train)"
   ]
  },
  {
   "cell_type": "code",
   "execution_count": 434,
   "id": "f874a237",
   "metadata": {},
   "outputs": [],
   "source": [
    "rbf_pred_local_train = classifier_rbf_local.predict(X_train_local)"
   ]
  },
  {
   "cell_type": "code",
   "execution_count": 436,
   "id": "f74474fd",
   "metadata": {},
   "outputs": [
    {
     "name": "stdout",
     "output_type": "stream",
     "text": [
      "\n",
      "Accuracy Of SVM with rbf kernel for train data :  0.3265526489950886\n"
     ]
    }
   ],
   "source": [
    "cm4_local_train = confusion_matrix(Y_train,rbf_pred_local_train)\n",
    "accuracy_rbf_local_train = float(cm4_local_train.diagonal().sum())/len(Y_train)\n",
    "print(\"\\nAccuracy Of SVM with rbf kernel for train data : \", accuracy_rbf_local_train)"
   ]
  },
  {
   "cell_type": "code",
   "execution_count": 163,
   "id": "3f04eba9",
   "metadata": {},
   "outputs": [],
   "source": [
    "rbf_pred_local = classifier_rbf_local.predict(X_test_local)"
   ]
  },
  {
   "cell_type": "code",
   "execution_count": 164,
   "id": "5805ce0a",
   "metadata": {},
   "outputs": [
    {
     "name": "stdout",
     "output_type": "stream",
     "text": [
      "\n",
      "Accuracy Of SVM with rbf kernel :  0.3131791585399833\n"
     ]
    }
   ],
   "source": [
    "cm4_local = confusion_matrix(Y_test,rbf_pred_local)\n",
    "accuracy_rbf_local = float(cm4_local.diagonal().sum())/len(Y_test)\n",
    "print(\"\\nAccuracy Of SVM with rbf kernel : \", accuracy_rbf_local)"
   ]
  },
  {
   "cell_type": "code",
   "execution_count": 437,
   "id": "7f176cec",
   "metadata": {},
   "outputs": [
    {
     "data": {
      "text/html": [
       "<div>\n",
       "<style scoped>\n",
       "    .dataframe tbody tr th:only-of-type {\n",
       "        vertical-align: middle;\n",
       "    }\n",
       "\n",
       "    .dataframe tbody tr th {\n",
       "        vertical-align: top;\n",
       "    }\n",
       "\n",
       "    .dataframe thead th {\n",
       "        text-align: right;\n",
       "    }\n",
       "</style>\n",
       "<table border=\"1\" class=\"dataframe\">\n",
       "  <thead>\n",
       "    <tr style=\"text-align: right;\">\n",
       "      <th></th>\n",
       "      <th>Accuracy</th>\n",
       "    </tr>\n",
       "  </thead>\n",
       "  <tbody>\n",
       "    <tr>\n",
       "      <th>sigmoid</th>\n",
       "      <td>0.169494</td>\n",
       "    </tr>\n",
       "    <tr>\n",
       "      <th>pol_1</th>\n",
       "      <td>0.291128</td>\n",
       "    </tr>\n",
       "    <tr>\n",
       "      <th>pol_3</th>\n",
       "      <td>0.304051</td>\n",
       "    </tr>\n",
       "    <tr>\n",
       "      <th>rbf</th>\n",
       "      <td>0.326553</td>\n",
       "    </tr>\n",
       "  </tbody>\n",
       "</table>\n",
       "</div>"
      ],
      "text/plain": [
       "         Accuracy\n",
       "sigmoid  0.169494\n",
       "pol_1    0.291128\n",
       "pol_3    0.304051\n",
       "rbf      0.326553"
      ]
     },
     "execution_count": 437,
     "metadata": {},
     "output_type": "execute_result"
    }
   ],
   "source": [
    "df_svm_local_train = pd.DataFrame([accuracy_sigmoid_local_train, accuracy_pol_1_local_train, accuracy_pol_3_local_train, accuracy_rbf_local_train],\n",
    "                      columns = [\"Accuracy\"], index = [\"sigmoid\", \"pol_1\", \"pol_3\", \"rbf\"])\n",
    "df_svm_local_train"
   ]
  },
  {
   "cell_type": "code",
   "execution_count": 165,
   "id": "de9a6621",
   "metadata": {},
   "outputs": [
    {
     "data": {
      "text/html": [
       "<div>\n",
       "<style scoped>\n",
       "    .dataframe tbody tr th:only-of-type {\n",
       "        vertical-align: middle;\n",
       "    }\n",
       "\n",
       "    .dataframe tbody tr th {\n",
       "        vertical-align: top;\n",
       "    }\n",
       "\n",
       "    .dataframe thead th {\n",
       "        text-align: right;\n",
       "    }\n",
       "</style>\n",
       "<table border=\"1\" class=\"dataframe\">\n",
       "  <thead>\n",
       "    <tr style=\"text-align: right;\">\n",
       "      <th></th>\n",
       "      <th>Accuracy</th>\n",
       "    </tr>\n",
       "  </thead>\n",
       "  <tbody>\n",
       "    <tr>\n",
       "      <th>sigmoid</th>\n",
       "      <td>0.168292</td>\n",
       "    </tr>\n",
       "    <tr>\n",
       "      <th>pol_1</th>\n",
       "      <td>0.290053</td>\n",
       "    </tr>\n",
       "    <tr>\n",
       "      <th>pol_3</th>\n",
       "      <td>0.291028</td>\n",
       "    </tr>\n",
       "    <tr>\n",
       "      <th>rbf</th>\n",
       "      <td>0.313179</td>\n",
       "    </tr>\n",
       "  </tbody>\n",
       "</table>\n",
       "</div>"
      ],
      "text/plain": [
       "         Accuracy\n",
       "sigmoid  0.168292\n",
       "pol_1    0.290053\n",
       "pol_3    0.291028\n",
       "rbf      0.313179"
      ]
     },
     "execution_count": 165,
     "metadata": {},
     "output_type": "execute_result"
    }
   ],
   "source": [
    "df_svm_local = pd.DataFrame([accuracy_sigmoid_local, accuracy_pol_1_local, accuracy_pol_3_local, accuracy_rbf_local],\n",
    "                      columns = [\"Accuracy\"], index = [\"sigmoid\", \"pol_1\", \"pol_3\", \"rbf\"])\n",
    "df_svm_local"
   ]
  },
  {
   "cell_type": "code",
   "execution_count": 166,
   "id": "bec3246e",
   "metadata": {},
   "outputs": [
    {
     "data": {
      "text/plain": [
       "[<matplotlib.lines.Line2D at 0x7f46141343a0>]"
      ]
     },
     "execution_count": 166,
     "metadata": {},
     "output_type": "execute_result"
    },
    {
     "data": {
      "image/png": "[encoded data removed]",
      "text/plain": [
       "<Figure size 432x288 with 1 Axes>"
      ]
     },
     "metadata": {
      "needs_background": "light"
     },
     "output_type": "display_data"
    }
   ],
   "source": [
    "plt.plot(df_svm_local)"
   ]
  },
  {
   "cell_type": "markdown",
   "id": "bd549b28",
   "metadata": {},
   "source": [
    "### For normalized histogram:"
   ]
  },
  {
   "cell_type": "markdown",
   "id": "ab2eea8f",
   "metadata": {},
   "source": [
    "### Sigmoid kernel:"
   ]
  },
  {
   "cell_type": "code",
   "execution_count": 167,
   "id": "6223212b",
   "metadata": {},
   "outputs": [
    {
     "data": {
      "text/plain": [
       "SVC(kernel='sigmoid', random_state=0)"
      ]
     },
     "execution_count": 167,
     "metadata": {},
     "output_type": "execute_result"
    }
   ],
   "source": [
    "classifier_sigmoid_local_norm = SVC(kernel='sigmoid', random_state = 0)\n",
    "classifier_sigmoid_local_norm.fit(X_train_local_norm,Y_train)"
   ]
  },
  {
   "cell_type": "code",
   "execution_count": 405,
   "id": "180c9bbe",
   "metadata": {},
   "outputs": [],
   "source": [
    "sigmoid_pred_local_norm_train = classifier_sigmoid_local_norm.predict(X_train_local_norm)"
   ]
  },
  {
   "cell_type": "code",
   "execution_count": 413,
   "id": "352c9c1d",
   "metadata": {},
   "outputs": [
    {
     "name": "stdout",
     "output_type": "stream",
     "text": [
      "\n",
      "Accuracy Of SVM with sigmoid kernel for train data :  0.1694938869344108\n"
     ]
    }
   ],
   "source": [
    "cm1_local_norm_train = confusion_matrix(Y_train,sigmoid_pred_local_norm_train)\n",
    "accuracy_sigmoid_local_norm_train = float(cm1_local_norm_train.diagonal().sum())/len(Y_train)\n",
    "print(\"\\nAccuracy Of SVM with sigmoid kernel for train data : \", accuracy_sigmoid_local_norm_train)"
   ]
  },
  {
   "cell_type": "code",
   "execution_count": 168,
   "id": "56bd497b",
   "metadata": {},
   "outputs": [],
   "source": [
    "sigmoid_pred_local_norm = classifier_sigmoid_local_norm.predict(X_test_local_norm)"
   ]
  },
  {
   "cell_type": "code",
   "execution_count": 169,
   "id": "c5868041",
   "metadata": {},
   "outputs": [
    {
     "name": "stdout",
     "output_type": "stream",
     "text": [
      "\n",
      "Accuracy Of SVM with sigmoid kernel :  0.13360267483978824\n"
     ]
    }
   ],
   "source": [
    "cm1_local_norm = confusion_matrix(Y_test,sigmoid_pred_local_norm)\n",
    "accuracy_sigmoid_local_norm = float(cm1_local_norm.diagonal().sum())/len(Y_test)\n",
    "print(\"\\nAccuracy Of SVM with sigmoid kernel : \", accuracy_sigmoid_local_norm)"
   ]
  },
  {
   "cell_type": "markdown",
   "id": "531ff842",
   "metadata": {},
   "source": [
    "### Polynomial kernel (with degree 1) :"
   ]
  },
  {
   "cell_type": "code",
   "execution_count": 170,
   "id": "396f0986",
   "metadata": {},
   "outputs": [
    {
     "data": {
      "text/plain": [
       "SVC(degree=1, kernel='poly', random_state=0)"
      ]
     },
     "execution_count": 170,
     "metadata": {},
     "output_type": "execute_result"
    }
   ],
   "source": [
    "classifier_pol_1_local_norm = SVC(kernel='poly', degree = 1, random_state = 0)\n",
    "classifier_pol_1_local_norm.fit(X_train_local_norm,Y_train)"
   ]
  },
  {
   "cell_type": "code",
   "execution_count": 355,
   "id": "e740fd0e",
   "metadata": {},
   "outputs": [],
   "source": [
    "pol_1_pred_local_norm_train = classifier_pol_1_local_norm.predict(X_train_local_norm)"
   ]
  },
  {
   "cell_type": "code",
   "execution_count": 356,
   "id": "374fff93",
   "metadata": {},
   "outputs": [
    {
     "name": "stdout",
     "output_type": "stream",
     "text": [
      "\n",
      "Accuracy Of SVM with polynomial kernel having deg 1 for train data:  0.29112821763210145\n"
     ]
    }
   ],
   "source": [
    "cm2_local_norm_train = confusion_matrix(Y_train,pol_1_pred_local_norm_train)\n",
    "accuracy_pol_1_local_norm_train = float(cm2_local_norm_train.diagonal().sum())/len(Y_train)\n",
    "print(\"\\nAccuracy Of SVM with polynomial kernel having deg 1 for train data: \", accuracy_pol_1_local_norm_train)"
   ]
  },
  {
   "cell_type": "code",
   "execution_count": 171,
   "id": "296022cb",
   "metadata": {},
   "outputs": [],
   "source": [
    "pol_1_pred_local_norm = classifier_pol_1_local_norm.predict(X_test_local_norm)"
   ]
  },
  {
   "cell_type": "code",
   "execution_count": 172,
   "id": "71fc1d27",
   "metadata": {},
   "outputs": [
    {
     "name": "stdout",
     "output_type": "stream",
     "text": [
      "\n",
      "Accuracy Of SVM with polynomial kernel having deg 1 :  0.2135692393424352\n"
     ]
    }
   ],
   "source": [
    "cm2_local_norm = confusion_matrix(Y_test,pol_1_pred_local_norm)\n",
    "accuracy_pol_1_local_norm = float(cm2_local_norm.diagonal().sum())/len(Y_test)\n",
    "print(\"\\nAccuracy Of SVM with polynomial kernel having deg 1 : \", accuracy_pol_1_local_norm)"
   ]
  },
  {
   "cell_type": "markdown",
   "id": "0aec9c2a",
   "metadata": {},
   "source": [
    "### Polynomial kernel (with degree 3):"
   ]
  },
  {
   "cell_type": "code",
   "execution_count": 173,
   "id": "70341fe9",
   "metadata": {},
   "outputs": [
    {
     "data": {
      "text/plain": [
       "SVC(kernel='poly', random_state=0)"
      ]
     },
     "execution_count": 173,
     "metadata": {},
     "output_type": "execute_result"
    }
   ],
   "source": [
    "classifier_pol_3_local_norm = SVC(kernel='poly', degree = 3, random_state = 0)\n",
    "classifier_pol_3_local_norm.fit(X_train_local_norm,Y_train)"
   ]
  },
  {
   "cell_type": "code",
   "execution_count": 357,
   "id": "79c78ea6",
   "metadata": {},
   "outputs": [],
   "source": [
    "pol_3_pred_local_norm_train = classifier_pol_3_local_norm.predict(X_train_local_norm)"
   ]
  },
  {
   "cell_type": "code",
   "execution_count": 358,
   "id": "aea09cfc",
   "metadata": {},
   "outputs": [
    {
     "name": "stdout",
     "output_type": "stream",
     "text": [
      "\n",
      "Accuracy Of SVM with polynomial kernel having deg 3 for train data:  0.30405099446166706\n"
     ]
    }
   ],
   "source": [
    "cm3_local_norm_train = confusion_matrix(Y_train,pol_3_pred_local_norm_train)\n",
    "accuracy_pol_3_local_norm_train = float(cm3_local_norm_train.diagonal().sum())/len(Y_train)\n",
    "print(\"\\nAccuracy Of SVM with polynomial kernel having deg 3 for train data: \", accuracy_pol_3_local_norm_train)"
   ]
  },
  {
   "cell_type": "code",
   "execution_count": 174,
   "id": "f9b0f155",
   "metadata": {},
   "outputs": [],
   "source": [
    "pol_3_pred_local_norm = classifier_pol_3_local_norm.predict(X_test_local_norm)"
   ]
  },
  {
   "cell_type": "code",
   "execution_count": 175,
   "id": "32c53f3a",
   "metadata": {},
   "outputs": [
    {
     "name": "stdout",
     "output_type": "stream",
     "text": [
      "\n",
      "Accuracy Of SVM with polynomial kernel having deg 3 :  0.24212872666480914\n"
     ]
    }
   ],
   "source": [
    "cm3_local_norm = confusion_matrix(Y_test,pol_3_pred_local_norm)\n",
    "accuracy_pol_3_local_norm = float(cm3_local_norm.diagonal().sum())/len(Y_test)\n",
    "print(\"\\nAccuracy Of SVM with polynomial kernel having deg 3 : \", accuracy_pol_3_local_norm)"
   ]
  },
  {
   "cell_type": "markdown",
   "id": "5e915a6d",
   "metadata": {},
   "source": [
    "### Linear kernel:"
   ]
  },
  {
   "cell_type": "code",
   "execution_count": 176,
   "id": "d72711c3",
   "metadata": {},
   "outputs": [],
   "source": [
    "# classifier_linear = SVC(kernel='linear', random_state = 0)\n",
    "# classifier_linear.fit(X_train,Y_train)"
   ]
  },
  {
   "cell_type": "markdown",
   "id": "770089fc",
   "metadata": {},
   "source": [
    "### RBF kernel:"
   ]
  },
  {
   "cell_type": "code",
   "execution_count": 177,
   "id": "0f534184",
   "metadata": {},
   "outputs": [
    {
     "data": {
      "text/plain": [
       "SVC(random_state=0)"
      ]
     },
     "execution_count": 177,
     "metadata": {},
     "output_type": "execute_result"
    }
   ],
   "source": [
    "classifier_rbf_local_norm = SVC(kernel='rbf', random_state = 0)\n",
    "classifier_rbf_local_norm.fit(X_train_local_norm,Y_train)"
   ]
  },
  {
   "cell_type": "code",
   "execution_count": 359,
   "id": "ef4525dc",
   "metadata": {},
   "outputs": [],
   "source": [
    "rbf_pred_local_norm_train = classifier_rbf_local_norm.predict(X_train_local_norm)"
   ]
  },
  {
   "cell_type": "code",
   "execution_count": 360,
   "id": "f8a68547",
   "metadata": {},
   "outputs": [
    {
     "name": "stdout",
     "output_type": "stream",
     "text": [
      "\n",
      "Accuracy Of SVM with rbf kernel for train data:  0.3265526489950886\n"
     ]
    }
   ],
   "source": [
    "cm4_local_norm_train = confusion_matrix(Y_train,rbf_pred_local_norm_train)\n",
    "accuracy_rbf_local_norm_train = float(cm4_local_norm_train.diagonal().sum())/len(Y_train)\n",
    "print(\"\\nAccuracy Of SVM with rbf kernel for train data: \", accuracy_rbf_local_norm_train)"
   ]
  },
  {
   "cell_type": "code",
   "execution_count": 178,
   "id": "4fb3ae1b",
   "metadata": {},
   "outputs": [],
   "source": [
    "rbf_pred_local_norm = classifier_rbf_local_norm.predict(X_test_local_norm)"
   ]
  },
  {
   "cell_type": "code",
   "execution_count": 179,
   "id": "d9f98fb7",
   "metadata": {},
   "outputs": [
    {
     "name": "stdout",
     "output_type": "stream",
     "text": [
      "\n",
      "Accuracy Of SVM with rbf kernel :  0.16439119531903038\n"
     ]
    }
   ],
   "source": [
    "cm4_local_norm = confusion_matrix(Y_test,rbf_pred_local_norm)\n",
    "accuracy_rbf_local_norm = float(cm4_local_norm.diagonal().sum())/len(Y_test)\n",
    "print(\"\\nAccuracy Of SVM with rbf kernel : \", accuracy_rbf_local_norm)"
   ]
  },
  {
   "cell_type": "code",
   "execution_count": 420,
   "id": "46f7a5c4",
   "metadata": {},
   "outputs": [
    {
     "data": {
      "text/html": [
       "<div>\n",
       "<style scoped>\n",
       "    .dataframe tbody tr th:only-of-type {\n",
       "        vertical-align: middle;\n",
       "    }\n",
       "\n",
       "    .dataframe tbody tr th {\n",
       "        vertical-align: top;\n",
       "    }\n",
       "\n",
       "    .dataframe thead th {\n",
       "        text-align: right;\n",
       "    }\n",
       "</style>\n",
       "<table border=\"1\" class=\"dataframe\">\n",
       "  <thead>\n",
       "    <tr style=\"text-align: right;\">\n",
       "      <th></th>\n",
       "      <th>Accuracy</th>\n",
       "    </tr>\n",
       "  </thead>\n",
       "  <tbody>\n",
       "    <tr>\n",
       "      <th>sigmoid</th>\n",
       "      <td>0.169494</td>\n",
       "    </tr>\n",
       "    <tr>\n",
       "      <th>pol_1</th>\n",
       "      <td>0.291128</td>\n",
       "    </tr>\n",
       "    <tr>\n",
       "      <th>pol_3</th>\n",
       "      <td>0.304051</td>\n",
       "    </tr>\n",
       "    <tr>\n",
       "      <th>rbf</th>\n",
       "      <td>0.326553</td>\n",
       "    </tr>\n",
       "  </tbody>\n",
       "</table>\n",
       "</div>"
      ],
      "text/plain": [
       "         Accuracy\n",
       "sigmoid  0.169494\n",
       "pol_1    0.291128\n",
       "pol_3    0.304051\n",
       "rbf      0.326553"
      ]
     },
     "execution_count": 420,
     "metadata": {},
     "output_type": "execute_result"
    }
   ],
   "source": [
    "df_svm_local_norm_train = pd.DataFrame([accuracy_sigmoid_local_norm_train, accuracy_pol_1_local_norm_train, accuracy_pol_3_local_norm_train, accuracy_rbf_local_norm_train],\n",
    "                      columns = [\"Accuracy\"], index = [\"sigmoid\", \"pol_1\", \"pol_3\", \"rbf\"])\n",
    "df_svm_local_norm_train"
   ]
  },
  {
   "cell_type": "code",
   "execution_count": 180,
   "id": "d679a4c3",
   "metadata": {},
   "outputs": [
    {
     "data": {
      "text/html": [
       "<div>\n",
       "<style scoped>\n",
       "    .dataframe tbody tr th:only-of-type {\n",
       "        vertical-align: middle;\n",
       "    }\n",
       "\n",
       "    .dataframe tbody tr th {\n",
       "        vertical-align: top;\n",
       "    }\n",
       "\n",
       "    .dataframe thead th {\n",
       "        text-align: right;\n",
       "    }\n",
       "</style>\n",
       "<table border=\"1\" class=\"dataframe\">\n",
       "  <thead>\n",
       "    <tr style=\"text-align: right;\">\n",
       "      <th></th>\n",
       "      <th>Accuracy</th>\n",
       "    </tr>\n",
       "  </thead>\n",
       "  <tbody>\n",
       "    <tr>\n",
       "      <th>sigmoid</th>\n",
       "      <td>0.133603</td>\n",
       "    </tr>\n",
       "    <tr>\n",
       "      <th>pol_1</th>\n",
       "      <td>0.213569</td>\n",
       "    </tr>\n",
       "    <tr>\n",
       "      <th>pol_3</th>\n",
       "      <td>0.242129</td>\n",
       "    </tr>\n",
       "    <tr>\n",
       "      <th>rbf</th>\n",
       "      <td>0.164391</td>\n",
       "    </tr>\n",
       "  </tbody>\n",
       "</table>\n",
       "</div>"
      ],
      "text/plain": [
       "         Accuracy\n",
       "sigmoid  0.133603\n",
       "pol_1    0.213569\n",
       "pol_3    0.242129\n",
       "rbf      0.164391"
      ]
     },
     "execution_count": 180,
     "metadata": {},
     "output_type": "execute_result"
    }
   ],
   "source": [
    "df_svm_local_norm = pd.DataFrame([accuracy_sigmoid_local_norm, accuracy_pol_1_local_norm, accuracy_pol_3_local_norm, accuracy_rbf_local_norm],\n",
    "                      columns = [\"Accuracy\"], index = [\"sigmoid\", \"pol_1\", \"pol_3\", \"rbf\"])\n",
    "df_svm_local_norm"
   ]
  },
  {
   "cell_type": "code",
   "execution_count": 181,
   "id": "114640f9",
   "metadata": {},
   "outputs": [
    {
     "data": {
      "text/plain": [
       "[<matplotlib.lines.Line2D at 0x7f461409fbe0>]"
      ]
     },
     "execution_count": 181,
     "metadata": {},
     "output_type": "execute_result"
    },
    {
     "data": {
      "image/png": "[encoded data removed]",
      "text/plain": [
       "<Figure size 432x288 with 1 Axes>"
      ]
     },
     "metadata": {
      "needs_background": "light"
     },
     "output_type": "display_data"
    }
   ],
   "source": [
    "plt.plot(df_svm_local_norm)"
   ]
  },
  {
   "cell_type": "markdown",
   "id": "f7f331b3",
   "metadata": {},
   "source": [
    "## Logistic Regression:"
   ]
  },
  {
   "cell_type": "markdown",
   "id": "e83af340",
   "metadata": {},
   "source": [
    "### For simple histogram:"
   ]
  },
  {
   "cell_type": "code",
   "execution_count": 182,
   "id": "4a25fd11",
   "metadata": {},
   "outputs": [
    {
     "name": "stderr",
     "output_type": "stream",
     "text": [
      "/home/aravind_sundarraj0112/.local/lib/python3.8/site-packages/sklearn/utils/optimize.py:210: ConvergenceWarning: newton-cg failed to converge. Increase the number of iterations.\n",
      "  warnings.warn(\n"
     ]
    },
    {
     "data": {
      "text/plain": [
       "LogisticRegression(random_state=0, solver='newton-cg')"
      ]
     },
     "execution_count": 182,
     "metadata": {},
     "output_type": "execute_result"
    }
   ],
   "source": [
    "model_local = LogisticRegression(solver = 'newton-cg', random_state = 0)\n",
    "model_local.fit(X_train_local, Y_train)"
   ]
  },
  {
   "cell_type": "code",
   "execution_count": 361,
   "id": "89a1cbc7",
   "metadata": {},
   "outputs": [
    {
     "data": {
      "text/plain": [
       "4    14772\n",
       "6     3382\n",
       "5     3331\n",
       "7     2883\n",
       "3     2518\n",
       "1     1817\n",
       "2        6\n",
       "dtype: int64"
      ]
     },
     "execution_count": 361,
     "metadata": {},
     "output_type": "execute_result"
    }
   ],
   "source": [
    "y_log_pred_local_train = model_local.predict(X_train_local)\n",
    "pd.value_counts(y_log_pred_local_train)"
   ]
  },
  {
   "cell_type": "code",
   "execution_count": 362,
   "id": "6487c442",
   "metadata": {},
   "outputs": [
    {
     "data": {
      "text/plain": [
       "0.30788254554320943"
      ]
     },
     "execution_count": 362,
     "metadata": {},
     "output_type": "execute_result"
    }
   ],
   "source": [
    "logistic_acc_local_train = model_local.score(X_train_local, Y_train)\n",
    "logistic_acc_local_train"
   ]
  },
  {
   "cell_type": "code",
   "execution_count": 183,
   "id": "b167898a",
   "metadata": {},
   "outputs": [
    {
     "data": {
      "text/plain": [
       "4    3709\n",
       "6     875\n",
       "5     788\n",
       "7     699\n",
       "3     651\n",
       "1     454\n",
       "2       2\n",
       "dtype: int64"
      ]
     },
     "execution_count": 183,
     "metadata": {},
     "output_type": "execute_result"
    }
   ],
   "source": [
    "y_log_pred_local = model_local.predict(X_test_local)\n",
    "pd.value_counts(y_log_pred_local)"
   ]
  },
  {
   "cell_type": "code",
   "execution_count": 184,
   "id": "14323ce0",
   "metadata": {},
   "outputs": [
    {
     "data": {
      "text/plain": [
       "0.30955697966007245"
      ]
     },
     "execution_count": 184,
     "metadata": {},
     "output_type": "execute_result"
    }
   ],
   "source": [
    "logistic_acc_local = model_local.score(X_test_local, Y_test)\n",
    "logistic_acc_local"
   ]
  },
  {
   "cell_type": "markdown",
   "id": "f39632b5",
   "metadata": {},
   "source": [
    "### For normalized histogram:"
   ]
  },
  {
   "cell_type": "code",
   "execution_count": 185,
   "id": "f01c1a39",
   "metadata": {},
   "outputs": [
    {
     "data": {
      "text/plain": [
       "LogisticRegression(random_state=0, solver='newton-cg')"
      ]
     },
     "execution_count": 185,
     "metadata": {},
     "output_type": "execute_result"
    }
   ],
   "source": [
    "model_local_norm = LogisticRegression(solver = 'newton-cg', random_state = 0)\n",
    "model_local_norm.fit(X_train_local_norm, Y_train)"
   ]
  },
  {
   "cell_type": "code",
   "execution_count": 363,
   "id": "53cce36c",
   "metadata": {},
   "outputs": [
    {
     "data": {
      "text/plain": [
       "4    28709\n",
       "dtype: int64"
      ]
     },
     "execution_count": 363,
     "metadata": {},
     "output_type": "execute_result"
    }
   ],
   "source": [
    "y_log_pred_local_norm_train = model_local_norm.predict(X_train_local_norm)\n",
    "pd.value_counts(y_log_pred_local_norm_train)"
   ]
  },
  {
   "cell_type": "code",
   "execution_count": 364,
   "id": "e4467413",
   "metadata": {},
   "outputs": [
    {
     "data": {
      "text/plain": [
       "0.2513149186666202"
      ]
     },
     "execution_count": 364,
     "metadata": {},
     "output_type": "execute_result"
    }
   ],
   "source": [
    "logistic_acc_local_norm_train = model_local_norm.score(X_train_local_norm, Y_train)\n",
    "logistic_acc_local_norm_train"
   ]
  },
  {
   "cell_type": "code",
   "execution_count": 186,
   "id": "63df723b",
   "metadata": {},
   "outputs": [
    {
     "data": {
      "text/plain": [
       "4    7178\n",
       "dtype: int64"
      ]
     },
     "execution_count": 186,
     "metadata": {},
     "output_type": "execute_result"
    }
   ],
   "source": [
    "y_log_pred_local_norm = model_local_norm.predict(X_test_local_norm)\n",
    "pd.value_counts(y_log_pred_local_norm)"
   ]
  },
  {
   "cell_type": "code",
   "execution_count": 187,
   "id": "6ee5bb2c",
   "metadata": {},
   "outputs": [
    {
     "data": {
      "text/plain": [
       "0.24714405126776262"
      ]
     },
     "execution_count": 187,
     "metadata": {},
     "output_type": "execute_result"
    }
   ],
   "source": [
    "logistic_acc_local_norm = model_local_norm.score(X_test_local_norm, Y_test)\n",
    "logistic_acc_local_norm"
   ]
  },
  {
   "cell_type": "markdown",
   "id": "b24834bb",
   "metadata": {},
   "source": [
    "## Decision tree:"
   ]
  },
  {
   "cell_type": "markdown",
   "id": "685e173a",
   "metadata": {},
   "source": [
    "### For simple histogram:"
   ]
  },
  {
   "cell_type": "code",
   "execution_count": 188,
   "id": "d9ebb0b5",
   "metadata": {},
   "outputs": [],
   "source": [
    "clf_gini_local = train_using_gini(X_train_local, X_test_local, Y_train)\n",
    "clf_entropy_local = tarin_using_entropy(X_train_local, X_test_local, Y_train)"
   ]
  },
  {
   "cell_type": "code",
   "execution_count": 365,
   "id": "f53c1da0",
   "metadata": {},
   "outputs": [
    {
     "name": "stdout",
     "output_type": "stream",
     "text": [
      "Predicted values:\n",
      "[6 4 4 ... 4 4 7]\n",
      "Confusion Matrix:  [[   0    0    0 2306  375  909  405]\n",
      " [   0    0    0  172   70  113   81]\n",
      " [   0    0    0 2265  444  812  576]\n",
      " [   0    0    0 4983  730  990  512]\n",
      " [   0    0    0 2739  901  949  376]\n",
      " [   0    0    0 2792  533 1113  392]\n",
      " [   0    0    0 1561  421  521  668]]\n",
      "Accuracy :  26.698944581838447\n"
     ]
    }
   ],
   "source": [
    "y_pred_gini_local_train = prediction(X_train_local, clf_gini_local)\n",
    "cal_accuracy(Y_train, y_pred_gini_local_train)"
   ]
  },
  {
   "cell_type": "code",
   "execution_count": 366,
   "id": "83eb0413",
   "metadata": {},
   "outputs": [
    {
     "name": "stdout",
     "output_type": "stream",
     "text": [
      "Predicted values:\n",
      "[5 6 4 ... 4 4 7]\n",
      "Confusion Matrix:  [[   0    0    0 2073  668  853  401]\n",
      " [   0    0    0  157  100   98   81]\n",
      " [   0    0    0 2074  681  770  572]\n",
      " [   0    0    0 4779 1099  838  499]\n",
      " [   0    0    0 2540 1268  786  371]\n",
      " [   0    0    0 2558  963  922  387]\n",
      " [   0    0    0 1415  564  531  661]]\n",
      "Accuracy :  26.577031592880278\n"
     ]
    }
   ],
   "source": [
    "y_pred_entropy_local_train = prediction(X_train_local, clf_entropy_local)\n",
    "cal_accuracy(Y_train, y_pred_entropy_local_train)"
   ]
  },
  {
   "cell_type": "code",
   "execution_count": 189,
   "id": "454e9ce3",
   "metadata": {
    "scrolled": true
   },
   "outputs": [
    {
     "name": "stdout",
     "output_type": "stream",
     "text": [
      "Predicted values:\n",
      "[5 7 4 ... 7 5 4]\n",
      "Confusion Matrix:  [[   0    0    0  574   92  198   94]\n",
      " [   0    0    0   61   12   23   15]\n",
      " [   0    0    0  561  127  194  142]\n",
      " [   0    0    0 1262  163  236  113]\n",
      " [   0    0    0  717  191  234   91]\n",
      " [   0    0    0  710  138  304   95]\n",
      " [   0    0    0  411  118  133  169]]\n",
      "Accuracy :  26.831986625801058\n"
     ]
    }
   ],
   "source": [
    "y_pred_gini_local = prediction(X_test_local, clf_gini_local)\n",
    "cal_accuracy(Y_test, y_pred_gini_local)"
   ]
  },
  {
   "cell_type": "code",
   "execution_count": 190,
   "id": "6f3f837c",
   "metadata": {},
   "outputs": [
    {
     "name": "stdout",
     "output_type": "stream",
     "text": [
      "Predicted values:\n",
      "[5 7 4 ... 7 5 4]\n",
      "Confusion Matrix:  [[   0    0    0  509  157  200   92]\n",
      " [   0    0    0   53   16   27   15]\n",
      " [   0    0    0  521  186  179  138]\n",
      " [   0    0    0 1203  258  204  109]\n",
      " [   0    0    0  674  294  175   90]\n",
      " [   0    0    0  653  256  245   93]\n",
      " [   0    0    0  363  150  149  169]]\n",
      "Accuracy :  26.623014767344667\n"
     ]
    }
   ],
   "source": [
    "y_pred_entropy_local = prediction(X_test_local, clf_entropy_local)\n",
    "cal_accuracy(Y_test, y_pred_entropy_local)"
   ]
  },
  {
   "cell_type": "markdown",
   "id": "21ac3262",
   "metadata": {},
   "source": [
    "### For normalized histogram:"
   ]
  },
  {
   "cell_type": "code",
   "execution_count": 191,
   "id": "c1f955b0",
   "metadata": {},
   "outputs": [],
   "source": [
    "clf_gini_local_norm = train_using_gini(X_train_local_norm, X_test_local_norm, Y_train)\n",
    "clf_entropy_local_norm = tarin_using_entropy(X_train_local_norm, X_test_local_norm, Y_train)"
   ]
  },
  {
   "cell_type": "code",
   "execution_count": 367,
   "id": "0e74ff58",
   "metadata": {},
   "outputs": [
    {
     "name": "stdout",
     "output_type": "stream",
     "text": [
      "Predicted values:\n",
      "[4 4 4 ... 4 4 4]\n",
      "Confusion Matrix:  [[   1    0    2 3990    2    0    0]\n",
      " [   0    0    0  436    0    0    0]\n",
      " [   1    0   14 4080    0    1    1]\n",
      " [   0    0    0 7213    2    0    0]\n",
      " [   1    0    0 4946   17    0    1]\n",
      " [   1    0    2 4813    7    7    0]\n",
      " [   1    0    1 3165    0    1    3]]\n",
      "Accuracy :  25.27082099689993\n"
     ]
    }
   ],
   "source": [
    "y_pred_gini_local_norm_train = prediction(X_train_local_norm, clf_gini_local_norm)\n",
    "cal_accuracy(Y_train, y_pred_gini_local_norm_train)"
   ]
  },
  {
   "cell_type": "code",
   "execution_count": 368,
   "id": "6da85617",
   "metadata": {},
   "outputs": [
    {
     "name": "stdout",
     "output_type": "stream",
     "text": [
      "Predicted values:\n",
      "[4 4 4 ... 4 4 4]\n",
      "Confusion Matrix:  [[   0    0    4 3989    2    0    0]\n",
      " [   0    0    0  436    0    0    0]\n",
      " [   0    0   25 4070    0    0    2]\n",
      " [   0    0    4 7209    2    0    0]\n",
      " [   0    0    5 4943   17    0    0]\n",
      " [   0    0   12 4811    7    0    0]\n",
      " [   0    0    1 3166    0    0    4]]\n",
      "Accuracy :  25.27082099689993\n"
     ]
    }
   ],
   "source": [
    "y_pred_entropy_local_norm_train = prediction(X_train_local_norm, clf_entropy_local_norm)\n",
    "cal_accuracy(Y_train, y_pred_entropy_local_norm_train)"
   ]
  },
  {
   "cell_type": "code",
   "execution_count": 192,
   "id": "b804f447",
   "metadata": {
    "scrolled": true
   },
   "outputs": [
    {
     "name": "stdout",
     "output_type": "stream",
     "text": [
      "Predicted values:\n",
      "[1 3 1 ... 1 1 1]\n",
      "Confusion Matrix:  [[ 618    0  111  201    1   19    8]\n",
      " [  70    0   15   22    0    2    2]\n",
      " [ 686    0  158  162    0   12    6]\n",
      " [1102    0  360  287    1   17    7]\n",
      " [ 768    0  216  232    5   10    2]\n",
      " [ 697    0  181  336    3   20   10]\n",
      " [ 632    0   86  102    0    9    2]]\n",
      "Accuracy :  15.18528838116467\n"
     ]
    }
   ],
   "source": [
    "y_pred_gini_local_norm = prediction(X_test_local_norm, clf_gini_local_norm)\n",
    "cal_accuracy(Y_test, y_pred_gini_local_norm)"
   ]
  },
  {
   "cell_type": "code",
   "execution_count": 193,
   "id": "00a4fdab",
   "metadata": {},
   "outputs": [
    {
     "name": "stdout",
     "output_type": "stream",
     "text": [
      "Predicted values:\n",
      "[3 3 3 ... 3 3 3]\n",
      "Confusion Matrix:  [[   0    0  814  126    1    0   17]\n",
      " [   0    0   89   20    0    0    2]\n",
      " [   0    0  907  101    0    0   16]\n",
      " [   0    0 1566  164    1    0   43]\n",
      " [   0    0 1015  163    5    0   50]\n",
      " [   0    0 1008  193    3    0   43]\n",
      " [   0    0  760   57    0    0   14]]\n",
      "Accuracy :  15.18528838116467\n"
     ]
    }
   ],
   "source": [
    "y_pred_entropy_local_norm = prediction(X_test_local_norm, clf_entropy_local_norm)\n",
    "cal_accuracy(Y_test, y_pred_entropy_local_norm)"
   ]
  },
  {
   "cell_type": "markdown",
   "id": "3cccc3f1",
   "metadata": {},
   "source": [
    "## Random Forest:"
   ]
  },
  {
   "cell_type": "markdown",
   "id": "87bb1b0b",
   "metadata": {},
   "source": [
    "### For simple histogram:"
   ]
  },
  {
   "cell_type": "markdown",
   "id": "e02bad4f",
   "metadata": {},
   "source": [
    "### For 200 values of estimators:"
   ]
  },
  {
   "cell_type": "code",
   "execution_count": 194,
   "id": "d39029c3",
   "metadata": {},
   "outputs": [
    {
     "name": "stdout",
     "output_type": "stream",
     "text": [
      "Accuracy: 0.4165505711897464\n"
     ]
    }
   ],
   "source": [
    "#Create a Gaussian Classifier\n",
    "clf_local = RandomForestClassifier(n_estimators = 500)\n",
    "\n",
    "clf_local.fit(X_train_local,Y_train)\n",
    "\n",
    "y_pred_rf_local = clf_local.predict(X_test_local)\n",
    "\n",
    "rf_accuracy_local = metrics.accuracy_score(Y_test, y_pred_rf_local)\n",
    "print(\"Accuracy:\",rf_accuracy_local)"
   ]
  },
  {
   "cell_type": "code",
   "execution_count": 438,
   "id": "f08f9ead",
   "metadata": {},
   "outputs": [
    {
     "data": {
      "text/plain": [
       "Text(0, 0.5, 'Training Accuracy')"
      ]
     },
     "execution_count": 438,
     "metadata": {},
     "output_type": "execute_result"
    },
    {
     "data": {
      "image/png": "[encoded data removed]",
      "text/plain": [
       "<Figure size 432x288 with 1 Axes>"
      ]
     },
     "metadata": {
      "needs_background": "light"
     },
     "output_type": "display_data"
    }
   ],
   "source": [
    "rf_lc_est = np.linspace(start = 50, stop = 500, num = 46, dtype = int)\n",
    "accuracies_local_train =[]\n",
    "for k in rf_lc_est:\n",
    "    rfc_local = RandomForestClassifier(n_estimators=k)\n",
    "    rfc_local.fit(X_train_local, Y_train)\n",
    "    y_pred_rf_local = rfc_local.predict(X_train_local)\n",
    "    accuracies_local_train.append(metrics.accuracy_score(Y_train, y_pred_rf_local))\n",
    "\n",
    "%matplotlib inline\n",
    "\n",
    "# plot the relationship between K and testing accuracy\n",
    "# plt.plot(x_axis, y_axis)\n",
    "plt.plot(np.linspace(start = 50, stop = 500, num = 46, dtype = int), accuracies_local_train)\n",
    "plt.xlabel('Value of n_estimators for Random Forest Classifier')\n",
    "plt.ylabel('Training Accuracy')"
   ]
  },
  {
   "cell_type": "code",
   "execution_count": 439,
   "id": "49dd5d7d",
   "metadata": {},
   "outputs": [
    {
     "data": {
      "text/plain": [
       "0.9985022118499425"
      ]
     },
     "execution_count": 439,
     "metadata": {},
     "output_type": "execute_result"
    }
   ],
   "source": [
    "rf_accuracy_local_train = max(accuracies_local_train)\n",
    "rf_accuracy_local_train"
   ]
  },
  {
   "cell_type": "code",
   "execution_count": 195,
   "id": "774fb97b",
   "metadata": {},
   "outputs": [
    {
     "data": {
      "text/plain": [
       "Text(0, 0.5, 'Testing Accuracy')"
      ]
     },
     "execution_count": 195,
     "metadata": {},
     "output_type": "execute_result"
    },
    {
     "data": {
      "image/png": "[encoded data removed]",
      "text/plain": [
       "<Figure size 432x288 with 1 Axes>"
      ]
     },
     "metadata": {
      "needs_background": "light"
     },
     "output_type": "display_data"
    }
   ],
   "source": [
    "rf_lc_est = np.linspace(start = 50, stop = 500, num = 46, dtype = int)\n",
    "accuracies_local =[]\n",
    "for k in rf_lc_est:\n",
    "    rfc_local = RandomForestClassifier(n_estimators=k)\n",
    "    rfc_local.fit(X_train_local, Y_train)\n",
    "    y_pred_rf_local = rfc_local.predict(X_test_local)\n",
    "    accuracies_local.append(metrics.accuracy_score(Y_test, y_pred_rf_local))\n",
    "\n",
    "%matplotlib inline\n",
    "\n",
    "# plot the relationship between K and testing accuracy\n",
    "# plt.plot(x_axis, y_axis)\n",
    "plt.plot(np.linspace(start = 50, stop = 500, num = 46, dtype = int), accuracies_local)\n",
    "plt.xlabel('Value of n_estimators for Random Forest Classifier')\n",
    "plt.ylabel('Testing Accuracy')"
   ]
  },
  {
   "cell_type": "code",
   "execution_count": 196,
   "id": "9551e0d6",
   "metadata": {},
   "outputs": [
    {
     "data": {
      "text/plain": [
       "0.42365561437726384"
      ]
     },
     "execution_count": 196,
     "metadata": {},
     "output_type": "execute_result"
    }
   ],
   "source": [
    "rf_accuracy_local = max(accuracies_local)\n",
    "rf_accuracy_local"
   ]
  },
  {
   "cell_type": "code",
   "execution_count": 197,
   "id": "d981d4e0",
   "metadata": {},
   "outputs": [],
   "source": [
    "# np.argmax(np.array(accuracies))"
   ]
  },
  {
   "cell_type": "markdown",
   "id": "5a45de85",
   "metadata": {},
   "source": [
    "### For normalized histogram:"
   ]
  },
  {
   "cell_type": "code",
   "execution_count": 440,
   "id": "7b43738f",
   "metadata": {},
   "outputs": [
    {
     "data": {
      "text/plain": [
       "Text(0, 0.5, 'Training Accuracy')"
      ]
     },
     "execution_count": 440,
     "metadata": {},
     "output_type": "execute_result"
    },
    {
     "data": {
      "image/png": "[encoded data removed]",
      "text/plain": [
       "<Figure size 432x288 with 1 Axes>"
      ]
     },
     "metadata": {
      "needs_background": "light"
     },
     "output_type": "display_data"
    }
   ],
   "source": [
    "rf_lc_est_norm = np.linspace(start = 50, stop = 500, num = 46, dtype = int)\n",
    "accuracies_local_norm_train =[]\n",
    "for k in rf_lc_est_norm:\n",
    "    rfc_local_norm = RandomForestClassifier(n_estimators=k)\n",
    "    rfc_local_norm.fit(X_train_local_norm, Y_train)\n",
    "    y_pred_rf_local_norm = rfc_local_norm.predict(X_train_local_norm)\n",
    "    accuracies_local_norm_train.append(metrics.accuracy_score(Y_train, y_pred_rf_local_norm))\n",
    "\n",
    "%matplotlib inline\n",
    "\n",
    "# plot the relationship between K and testing accuracy\n",
    "# plt.plot(x_axis, y_axis)\n",
    "plt.plot(np.linspace(start = 50, stop = 500, num = 46, dtype = int), accuracies_local_norm_train)\n",
    "plt.xlabel('Value of n_estimators for Random Forest Classifier')\n",
    "plt.ylabel('Training Accuracy')"
   ]
  },
  {
   "cell_type": "code",
   "execution_count": 441,
   "id": "00ff59d8",
   "metadata": {},
   "outputs": [
    {
     "data": {
      "text/plain": [
       "0.2812706816677697"
      ]
     },
     "execution_count": 441,
     "metadata": {},
     "output_type": "execute_result"
    }
   ],
   "source": [
    "rf_accuracy_local_norm_train = max(accuracies_local_norm_train)\n",
    "rf_accuracy_local_norm_train"
   ]
  },
  {
   "cell_type": "code",
   "execution_count": 198,
   "id": "468dcbe9",
   "metadata": {},
   "outputs": [
    {
     "data": {
      "text/plain": [
       "Text(0, 0.5, 'Testing Accuracy')"
      ]
     },
     "execution_count": 198,
     "metadata": {},
     "output_type": "execute_result"
    },
    {
     "data": {
      "image/png": "[encoded data removed]",
      "text/plain": [
       "<Figure size 432x288 with 1 Axes>"
      ]
     },
     "metadata": {
      "needs_background": "light"
     },
     "output_type": "display_data"
    }
   ],
   "source": [
    "rf_lc_est_norm = np.linspace(start = 50, stop = 500, num = 46, dtype = int)\n",
    "accuracies_local_norm =[]\n",
    "for k in rf_lc_est_norm:\n",
    "    rfc_local_norm = RandomForestClassifier(n_estimators=k)\n",
    "    rfc_local_norm.fit(X_train_local_norm, Y_train)\n",
    "    y_pred_rf_local_norm = rfc_local_norm.predict(X_test_local_norm)\n",
    "    accuracies_local_norm.append(metrics.accuracy_score(Y_test, y_pred_rf_local_norm))\n",
    "\n",
    "%matplotlib inline\n",
    "\n",
    "# plot the relationship between K and testing accuracy\n",
    "# plt.plot(x_axis, y_axis)\n",
    "plt.plot(np.linspace(start = 50, stop = 500, num = 46, dtype = int), accuracies_local_norm)\n",
    "plt.xlabel('Value of n_estimators for Random Forest Classifier')\n",
    "plt.ylabel('Testing Accuracy')"
   ]
  },
  {
   "cell_type": "code",
   "execution_count": 199,
   "id": "7498c246",
   "metadata": {},
   "outputs": [
    {
     "data": {
      "text/plain": [
       "0.1558930064084703"
      ]
     },
     "execution_count": 199,
     "metadata": {},
     "output_type": "execute_result"
    }
   ],
   "source": [
    "rf_accuracy_local_norm = max(accuracies_local_norm)\n",
    "rf_accuracy_local_norm"
   ]
  },
  {
   "cell_type": "code",
   "execution_count": 200,
   "id": "1d5273f0",
   "metadata": {},
   "outputs": [
    {
     "name": "stdout",
     "output_type": "stream",
     "text": [
      "Accuracy: 0.14878796322095292\n"
     ]
    }
   ],
   "source": [
    "#Create a Gaussian Classifier\n",
    "clf_local_norm = RandomForestClassifier(n_estimators = 500)\n",
    "\n",
    "clf_local_norm.fit(X_train_local_norm,Y_train)\n",
    "\n",
    "y_pred_rf_local_norm = clf_local_norm.predict(X_test_local_norm)\n",
    "\n",
    "print(\"Accuracy:\",metrics.accuracy_score(Y_test, y_pred_rf_local_norm))"
   ]
  },
  {
   "cell_type": "markdown",
   "id": "2409e013",
   "metadata": {},
   "source": [
    "# GLOBAL + LOCAL:"
   ]
  },
  {
   "cell_type": "code",
   "execution_count": null,
   "id": "b7ca0755",
   "metadata": {},
   "outputs": [],
   "source": [
    "hist_train_concat_final = [np.hstack((hist_train[i],hist_train_concat[i])) for i in range(len(hist_train))]\n",
    "hist_test_concat_final = [np.hstack((hist_test[i],hist_test_concat[i])) for i in range(len(hist_test))]"
   ]
  },
  {
   "cell_type": "code",
   "execution_count": null,
   "id": "bacc6640",
   "metadata": {},
   "outputs": [],
   "source": [
    "for i in hist_train_concat_final[0:3]:\n",
    "    plotting_f(i)"
   ]
  },
  {
   "cell_type": "code",
   "execution_count": null,
   "id": "2ef0b237",
   "metadata": {},
   "outputs": [],
   "source": [
    "X_train_final = hist_train_concat_final\n",
    "X_test_final = hist_test_concat_final"
   ]
  },
  {
   "cell_type": "code",
   "execution_count": null,
   "id": "65fa8ec4",
   "metadata": {},
   "outputs": [],
   "source": [
    "hist_train_concat_norm_final = [np.hstack((hist_train_norm[i],hist_train_concat_norm[i])) for i in range(len(hist_train_norm))]\n",
    "hist_test_concat_norm_final = [np.hstack((hist_test_norm[i],hist_test_concat_norm[i])) for i in range(len(hist_test_norm))]"
   ]
  },
  {
   "cell_type": "code",
   "execution_count": null,
   "id": "9598748c",
   "metadata": {},
   "outputs": [],
   "source": [
    "X_train_final_norm = hist_train_concat_norm_final\n",
    "X_test_final_norm = hist_test_concat_norm_final"
   ]
  },
  {
   "cell_type": "markdown",
   "id": "21051465",
   "metadata": {},
   "source": [
    "# KNN :"
   ]
  },
  {
   "cell_type": "markdown",
   "id": "14893609",
   "metadata": {},
   "source": [
    "### For simple histogram:"
   ]
  },
  {
   "cell_type": "code",
   "execution_count": 206,
   "id": "e6a71577",
   "metadata": {},
   "outputs": [],
   "source": [
    "k =[KNeighborsClassifier(n_neighbors=i+1) for i in range(25)]"
   ]
  },
  {
   "cell_type": "code",
   "execution_count": 207,
   "id": "dbd87245",
   "metadata": {},
   "outputs": [],
   "source": [
    "f_final = [i.fit(X_train_final, Y_train) for i in k]"
   ]
  },
  {
   "cell_type": "code",
   "execution_count": 370,
   "id": "1451d0ac",
   "metadata": {},
   "outputs": [],
   "source": [
    "s_final_train = [i.score(X_train_final,Y_train) for i in f_final]"
   ]
  },
  {
   "cell_type": "code",
   "execution_count": 371,
   "id": "0e4c7c7e",
   "metadata": {},
   "outputs": [
    {
     "name": "stdout",
     "output_type": "stream",
     "text": [
      "    Accuracy\n",
      "0   0.168553\n",
      "1   0.140409\n",
      "2   0.150893\n",
      "3   0.164826\n",
      "4   0.163607\n",
      "5   0.168379\n",
      "6   0.168205\n",
      "7   0.168484\n",
      "8   0.168449\n",
      "9   0.168449\n",
      "10  0.168101\n",
      "11  0.155700\n",
      "12  0.150580\n",
      "13  0.145773\n",
      "14  0.149047\n",
      "15  0.143474\n",
      "16  0.142185\n",
      "17  0.143196\n",
      "18  0.142673\n",
      "19  0.142882\n",
      "20  0.142917\n",
      "21  0.142952\n",
      "22  0.142847\n",
      "23  0.142917\n",
      "24  0.142917\n"
     ]
    },
    {
     "data": {
      "image/png": "[encoded data removed]",
      "text/plain": [
       "<Figure size 432x288 with 1 Axes>"
      ]
     },
     "metadata": {
      "needs_background": "light"
     },
     "output_type": "display_data"
    }
   ],
   "source": [
    "df_final_train = pd.DataFrame(s_final_train, columns = [\"Accuracy\"])\n",
    "print(df_final_train)\n",
    "plt.plot(df_final_train)\n",
    "plt.show()"
   ]
  },
  {
   "cell_type": "code",
   "execution_count": 402,
   "id": "ab6e3572",
   "metadata": {},
   "outputs": [],
   "source": [
    "knn_accuracy_final_train = s_final_train[7]"
   ]
  },
  {
   "cell_type": "code",
   "execution_count": 403,
   "id": "116b31c7",
   "metadata": {},
   "outputs": [
    {
     "data": {
      "text/plain": [
       "array([6, 6, 6, ..., 6, 6, 6])"
      ]
     },
     "execution_count": 403,
     "metadata": {},
     "output_type": "execute_result"
    }
   ],
   "source": [
    "y_pred_final_train = f_final[0].predict(X_train_final)\n",
    "y_pred_final_train"
   ]
  },
  {
   "cell_type": "code",
   "execution_count": 404,
   "id": "508c8df5",
   "metadata": {},
   "outputs": [
    {
     "name": "stdout",
     "output_type": "stream",
     "text": [
      "[[   8    0    4    3    4    2    1]\n",
      " [   0    0    0    0    0    0    0]\n",
      " [   1    0    3    0    3    0    0]\n",
      " [   0    0    0    0    0    0    0]\n",
      " [   0    0    0    0    0    0    0]\n",
      " [3986  436 4090 7212 4958 4828 3170]\n",
      " [   0    0    0    0    0    0    0]]\n"
     ]
    }
   ],
   "source": [
    "print(confusion_matrix(y_pred_final_train, Y_train))"
   ]
  },
  {
   "cell_type": "code",
   "execution_count": 208,
   "id": "6dee2cbb",
   "metadata": {},
   "outputs": [],
   "source": [
    "s_final = [i.score(X_test_final,Y_test) for i in f_final]"
   ]
  },
  {
   "cell_type": "code",
   "execution_count": 209,
   "id": "3bcff4cd",
   "metadata": {},
   "outputs": [
    {
     "name": "stdout",
     "output_type": "stream",
     "text": [
      "    Accuracy\n",
      "0   0.390917\n",
      "1   0.335748\n",
      "2   0.326971\n",
      "3   0.324742\n",
      "4   0.322374\n",
      "5   0.320702\n",
      "6   0.313318\n",
      "7   0.305656\n",
      "8   0.308860\n",
      "9   0.311229\n",
      "10  0.312065\n",
      "11  0.308860\n",
      "12  0.310254\n",
      "13  0.305656\n",
      "14  0.305935\n",
      "15  0.307746\n",
      "16  0.308860\n",
      "17  0.304960\n",
      "18  0.305656\n",
      "19  0.302731\n",
      "20  0.300084\n",
      "21  0.300502\n",
      "22  0.303009\n",
      "23  0.300641\n",
      "24  0.300780\n"
     ]
    },
    {
     "data": {
      "image/png": "[encoded data removed]",
      "text/plain": [
       "<Figure size 432x288 with 1 Axes>"
      ]
     },
     "metadata": {
      "needs_background": "light"
     },
     "output_type": "display_data"
    }
   ],
   "source": [
    "df_final = pd.DataFrame(s_final, columns = [\"Accuracy\"])\n",
    "print(df_final)\n",
    "plt.plot(df_final)\n",
    "plt.show()"
   ]
  },
  {
   "cell_type": "code",
   "execution_count": 210,
   "id": "b21ab679",
   "metadata": {},
   "outputs": [],
   "source": [
    "knn_accuracy_final = s_final[1]"
   ]
  },
  {
   "cell_type": "code",
   "execution_count": 211,
   "id": "0b091c7a",
   "metadata": {},
   "outputs": [
    {
     "data": {
      "text/plain": [
       "array([1, 1, 7, ..., 3, 7, 7])"
      ]
     },
     "execution_count": 211,
     "metadata": {},
     "output_type": "execute_result"
    }
   ],
   "source": [
    "y_pred_final = f_final[0].predict(X_test_final)\n",
    "y_pred_final"
   ]
  },
  {
   "cell_type": "code",
   "execution_count": 212,
   "id": "e51b1fb3",
   "metadata": {},
   "outputs": [
    {
     "name": "stdout",
     "output_type": "stream",
     "text": [
      "[[344   9 116 211 147 146  56]\n",
      " [  9  61  12  13  15   8   5]\n",
      " [111  10 412 165 128 154  67]\n",
      " [184  10 171 724 304 289  82]\n",
      " [139   6 118 270 372 189  60]\n",
      " [104   6 130 235 161 375  43]\n",
      " [ 67   9  65 156 106  86 518]]\n"
     ]
    }
   ],
   "source": [
    "print(confusion_matrix(y_pred_final, Y_test))"
   ]
  },
  {
   "cell_type": "markdown",
   "id": "52758e77",
   "metadata": {},
   "source": [
    "### For normalized histogram:"
   ]
  },
  {
   "cell_type": "code",
   "execution_count": 213,
   "id": "06e98514",
   "metadata": {},
   "outputs": [],
   "source": [
    "f_final_norm = [i.fit(X_train_final_norm, Y_train) for i in k]"
   ]
  },
  {
   "cell_type": "code",
   "execution_count": 372,
   "id": "d4794b08",
   "metadata": {},
   "outputs": [],
   "source": [
    "s_final_norm_train = [i.score(X_train_final_norm,Y_train) for i in f_final_norm]"
   ]
  },
  {
   "cell_type": "code",
   "execution_count": 373,
   "id": "4c795984",
   "metadata": {},
   "outputs": [
    {
     "name": "stdout",
     "output_type": "stream",
     "text": [
      "    Accuracy\n",
      "0   0.998084\n",
      "1   0.692257\n",
      "2   0.614581\n",
      "3   0.573444\n",
      "4   0.541363\n",
      "5   0.511059\n",
      "6   0.488000\n",
      "7   0.473197\n",
      "8   0.458637\n",
      "9   0.449093\n",
      "10  0.440141\n",
      "11  0.433105\n",
      "12  0.424989\n",
      "13  0.419694\n",
      "14  0.414226\n",
      "15  0.409175\n",
      "16  0.403706\n",
      "17  0.397332\n",
      "18  0.391689\n",
      "19  0.388763\n",
      "20  0.385907\n",
      "21  0.381518\n",
      "22  0.379080\n",
      "23  0.376049\n",
      "24  0.372322\n"
     ]
    },
    {
     "data": {
      "image/png": "[encoded data removed]",
      "text/plain": [
       "<Figure size 432x288 with 1 Axes>"
      ]
     },
     "metadata": {
      "needs_background": "light"
     },
     "output_type": "display_data"
    }
   ],
   "source": [
    "df_final_norm_train = pd.DataFrame(s_final_norm_train, columns = [\"Accuracy\"])\n",
    "print(df_final_norm_train)\n",
    "plt.plot(df_final_norm_train)\n",
    "plt.show()"
   ]
  },
  {
   "cell_type": "code",
   "execution_count": 399,
   "id": "cb89176b",
   "metadata": {},
   "outputs": [],
   "source": [
    "knn_accuracy_final_norm_train = s_final_norm[1]"
   ]
  },
  {
   "cell_type": "code",
   "execution_count": 400,
   "id": "2290d739",
   "metadata": {},
   "outputs": [
    {
     "data": {
      "text/plain": [
       "array([1, 1, 1, ..., 7, 7, 7])"
      ]
     },
     "execution_count": 400,
     "metadata": {},
     "output_type": "execute_result"
    }
   ],
   "source": [
    "y_pred_final_norm_train = f_final_norm[0].predict(X_train_final_norm)\n",
    "y_pred_final_norm_train"
   ]
  },
  {
   "cell_type": "code",
   "execution_count": 401,
   "id": "4c5d18be",
   "metadata": {},
   "outputs": [
    {
     "name": "stdout",
     "output_type": "stream",
     "text": [
      "[[3995    0    4    1    3   10    3]\n",
      " [   0  436    1    0    0    0    3]\n",
      " [   0    0 4092    0    4    7   17]\n",
      " [   0    0    0 7214    0    0    1]\n",
      " [   0    0    0    0 4958    1    0]\n",
      " [   0    0    0    0    0 4812    0]\n",
      " [   0    0    0    0    0    0 3147]]\n"
     ]
    }
   ],
   "source": [
    "print(confusion_matrix(y_pred_final_norm_train, Y_train))"
   ]
  },
  {
   "cell_type": "code",
   "execution_count": 214,
   "id": "98f63fd4",
   "metadata": {},
   "outputs": [],
   "source": [
    "s_final_norm = [i.score(X_test_final_norm,Y_test) for i in f_final_norm]"
   ]
  },
  {
   "cell_type": "code",
   "execution_count": 215,
   "id": "63a083f2",
   "metadata": {},
   "outputs": [
    {
     "name": "stdout",
     "output_type": "stream",
     "text": [
      "    Accuracy\n",
      "0   0.151156\n",
      "1   0.140568\n",
      "2   0.146559\n",
      "3   0.150738\n",
      "4   0.134160\n",
      "5   0.135274\n",
      "6   0.136250\n",
      "7   0.134578\n",
      "8   0.137086\n",
      "9   0.135414\n",
      "10  0.135414\n",
      "11  0.144330\n",
      "12  0.144191\n",
      "13  0.141962\n",
      "14  0.143076\n",
      "15  0.143633\n",
      "16  0.143912\n",
      "17  0.143215\n",
      "18  0.144191\n",
      "19  0.144609\n",
      "20  0.144748\n",
      "21  0.145723\n",
      "22  0.145584\n",
      "23  0.145026\n",
      "24  0.145305\n"
     ]
    },
    {
     "data": {
      "image/png": "[encoded data removed]",
      "text/plain": [
       "<Figure size 432x288 with 1 Axes>"
      ]
     },
     "metadata": {
      "needs_background": "light"
     },
     "output_type": "display_data"
    }
   ],
   "source": [
    "df_final_norm = pd.DataFrame(s_final_norm, columns = [\"Accuracy\"])\n",
    "print(df_final_norm)\n",
    "plt.plot(df_final_norm)\n",
    "plt.show()"
   ]
  },
  {
   "cell_type": "code",
   "execution_count": 216,
   "id": "418a0f5f",
   "metadata": {},
   "outputs": [],
   "source": [
    "knn_accuracy_final_norm = s_final_norm[1]"
   ]
  },
  {
   "cell_type": "code",
   "execution_count": 217,
   "id": "7afee1ea",
   "metadata": {},
   "outputs": [
    {
     "data": {
      "text/plain": [
       "array([6, 6, 1, ..., 6, 6, 6])"
      ]
     },
     "execution_count": 217,
     "metadata": {},
     "output_type": "execute_result"
    }
   ],
   "source": [
    "y_pred_final_norm = f_final_norm[0].predict(X_test_final_norm)\n",
    "y_pred_final_norm"
   ]
  },
  {
   "cell_type": "code",
   "execution_count": 218,
   "id": "28cf0714",
   "metadata": {},
   "outputs": [
    {
     "name": "stdout",
     "output_type": "stream",
     "text": [
      "[[219  28 274 329 244 266 203]\n",
      " [  1   0   0   2   2   3   1]\n",
      " [171  10 164 494 281 303 131]\n",
      " [ 13   0   9  12  24  20   5]\n",
      " [  7   1   2   6   8   7   1]\n",
      " [509  69 516 848 619 592 400]\n",
      " [ 38   3  59  83  55  56  90]]\n"
     ]
    }
   ],
   "source": [
    "print(confusion_matrix(y_pred_final_norm, Y_test))"
   ]
  },
  {
   "cell_type": "markdown",
   "id": "343d9127",
   "metadata": {},
   "source": [
    "## SVM:"
   ]
  },
  {
   "cell_type": "markdown",
   "id": "2d843f86",
   "metadata": {},
   "source": [
    "### For simple histogram:"
   ]
  },
  {
   "cell_type": "markdown",
   "id": "9aaac915",
   "metadata": {},
   "source": [
    "### Sigmoid kernel:"
   ]
  },
  {
   "cell_type": "code",
   "execution_count": 219,
   "id": "7ca35cef",
   "metadata": {},
   "outputs": [
    {
     "data": {
      "text/plain": [
       "SVC(kernel='sigmoid', random_state=0)"
      ]
     },
     "execution_count": 219,
     "metadata": {},
     "output_type": "execute_result"
    }
   ],
   "source": [
    "classifier_sigmoid_final = SVC(kernel='sigmoid', random_state = 0)\n",
    "classifier_sigmoid_final.fit(X_train_final,Y_train)"
   ]
  },
  {
   "cell_type": "code",
   "execution_count": 397,
   "id": "247709a3",
   "metadata": {},
   "outputs": [],
   "source": [
    "sigmoid_pred_final_train = classifier_sigmoid_final.predict(X_train_final)"
   ]
  },
  {
   "cell_type": "code",
   "execution_count": 398,
   "id": "21699bca",
   "metadata": {},
   "outputs": [
    {
     "name": "stdout",
     "output_type": "stream",
     "text": [
      "\n",
      "Accuracy Of SVM with sigmoid kernel for train data:  0.15824305966770003\n"
     ]
    }
   ],
   "source": [
    "cm1_final_train = confusion_matrix(Y_train,sigmoid_pred_final_train)\n",
    "accuracy_sigmoid_final_train = float(cm1_final_train.diagonal().sum())/len(Y_train)\n",
    "print(\"\\nAccuracy Of SVM with sigmoid kernel for train data: \", accuracy_sigmoid_final_train)"
   ]
  },
  {
   "cell_type": "code",
   "execution_count": 445,
   "id": "eba72298",
   "metadata": {},
   "outputs": [],
   "source": [
    "sigmoid_pred_final = classifier_sigmoid_final.predict(X_test_final)"
   ]
  },
  {
   "cell_type": "code",
   "execution_count": 446,
   "id": "c2779540",
   "metadata": {},
   "outputs": [
    {
     "name": "stdout",
     "output_type": "stream",
     "text": [
      "\n",
      "Accuracy Of SVM with sigmoid kernel :  0.16188353301755365\n"
     ]
    }
   ],
   "source": [
    "cm1_final = confusion_matrix(Y_test,sigmoid_pred_final)\n",
    "accuracy_sigmoid_final = float(cm1_final.diagonal().sum())/len(Y_test)\n",
    "print(\"\\nAccuracy Of SVM with sigmoid kernel : \", accuracy_sigmoid_final)"
   ]
  },
  {
   "cell_type": "markdown",
   "id": "1e4db130",
   "metadata": {},
   "source": [
    "### Polynomial kernel (with degree 1) :"
   ]
  },
  {
   "cell_type": "code",
   "execution_count": 222,
   "id": "2a443dc9",
   "metadata": {},
   "outputs": [
    {
     "data": {
      "text/plain": [
       "SVC(degree=1, kernel='poly', random_state=0)"
      ]
     },
     "execution_count": 222,
     "metadata": {},
     "output_type": "execute_result"
    }
   ],
   "source": [
    "classifier_pol_1_final = SVC(kernel='poly', degree = 1, random_state = 0)\n",
    "classifier_pol_1_final.fit(X_train_final,Y_train)"
   ]
  },
  {
   "cell_type": "code",
   "execution_count": 395,
   "id": "a7716875",
   "metadata": {},
   "outputs": [],
   "source": [
    "pol_1_pred_final_train = classifier_pol_1_final.predict(X_train_final)"
   ]
  },
  {
   "cell_type": "code",
   "execution_count": 396,
   "id": "f42603bd",
   "metadata": {},
   "outputs": [
    {
     "name": "stdout",
     "output_type": "stream",
     "text": [
      "\n",
      "Accuracy Of SVM with polynomial kernel having deg 1 for train data:  0.2625309136507715\n"
     ]
    }
   ],
   "source": [
    "cm2_final_train = confusion_matrix(Y_train,pol_1_pred_final_train)\n",
    "accuracy_pol_1_final_train = float(cm2_final_train.diagonal().sum())/len(Y_train)\n",
    "print(\"\\nAccuracy Of SVM with polynomial kernel having deg 1 for train data: \", accuracy_pol_1_final_train)"
   ]
  },
  {
   "cell_type": "code",
   "execution_count": 223,
   "id": "d4f45eb5",
   "metadata": {},
   "outputs": [],
   "source": [
    "pol_1_pred_final = classifier_pol_1_final.predict(X_test_final)"
   ]
  },
  {
   "cell_type": "code",
   "execution_count": 224,
   "id": "db446378",
   "metadata": {},
   "outputs": [
    {
     "name": "stdout",
     "output_type": "stream",
     "text": [
      "\n",
      "Accuracy Of SVM with polynomial kernel having deg 1 :  0.2581499024797994\n"
     ]
    }
   ],
   "source": [
    "cm2_final = confusion_matrix(Y_test,pol_1_pred_final)\n",
    "accuracy_pol_1_final = float(cm2_final.diagonal().sum())/len(Y_test)\n",
    "print(\"\\nAccuracy Of SVM with polynomial kernel having deg 1 : \", accuracy_pol_1_final)"
   ]
  },
  {
   "cell_type": "markdown",
   "id": "e31ff7d5",
   "metadata": {},
   "source": [
    "### Polynomial kernel (with degree 3):"
   ]
  },
  {
   "cell_type": "code",
   "execution_count": 225,
   "id": "670cf057",
   "metadata": {},
   "outputs": [
    {
     "data": {
      "text/plain": [
       "SVC(kernel='poly', random_state=0)"
      ]
     },
     "execution_count": 225,
     "metadata": {},
     "output_type": "execute_result"
    }
   ],
   "source": [
    "classifier_pol_3_final = SVC(kernel='poly', degree = 3, random_state = 0)\n",
    "classifier_pol_3_final.fit(X_train_final,Y_train)"
   ]
  },
  {
   "cell_type": "code",
   "execution_count": 393,
   "id": "844412b4",
   "metadata": {},
   "outputs": [],
   "source": [
    "pol_3_pred_final_train = classifier_pol_3_final.predict(X_train_final)"
   ]
  },
  {
   "cell_type": "code",
   "execution_count": 394,
   "id": "6536ebd9",
   "metadata": {},
   "outputs": [
    {
     "name": "stdout",
     "output_type": "stream",
     "text": [
      "\n",
      "Accuracy Of SVM with polynomial kernel having deg 3 for train data :  0.2854157232923473\n"
     ]
    }
   ],
   "source": [
    "cm3_final_train = confusion_matrix(Y_train,pol_3_pred_final_train)\n",
    "accuracy_pol_3_final_train = float(cm3_final_train.diagonal().sum())/len(Y_train)\n",
    "print(\"\\nAccuracy Of SVM with polynomial kernel having deg 3 for train data : \", accuracy_pol_3_final_train)"
   ]
  },
  {
   "cell_type": "code",
   "execution_count": 226,
   "id": "a12e4faa",
   "metadata": {},
   "outputs": [],
   "source": [
    "pol_3_pred_final = classifier_pol_3_final.predict(X_test_final)"
   ]
  },
  {
   "cell_type": "code",
   "execution_count": 227,
   "id": "4c92e280",
   "metadata": {},
   "outputs": [
    {
     "name": "stdout",
     "output_type": "stream",
     "text": [
      "\n",
      "Accuracy Of SVM with polynomial kernel having deg 3 :  0.2768180551685706\n"
     ]
    }
   ],
   "source": [
    "cm3_final = confusion_matrix(Y_test,pol_3_pred_final)\n",
    "accuracy_pol_3_final = float(cm3_final.diagonal().sum())/len(Y_test)\n",
    "print(\"\\nAccuracy Of SVM with polynomial kernel having deg 3 : \", accuracy_pol_3_final)"
   ]
  },
  {
   "cell_type": "markdown",
   "id": "62adc0b5",
   "metadata": {},
   "source": [
    "### Linear kernel:"
   ]
  },
  {
   "cell_type": "code",
   "execution_count": 228,
   "id": "4c465b39",
   "metadata": {},
   "outputs": [],
   "source": [
    "# classifier_linear = SVC(kernel='linear', random_state = 0)\n",
    "# classifier_linear.fit(X_train,Y_train)"
   ]
  },
  {
   "cell_type": "markdown",
   "id": "f53748a5",
   "metadata": {},
   "source": [
    "### RBF kernel:"
   ]
  },
  {
   "cell_type": "code",
   "execution_count": 229,
   "id": "ab45a3cd",
   "metadata": {},
   "outputs": [
    {
     "data": {
      "text/plain": [
       "SVC(random_state=0)"
      ]
     },
     "execution_count": 229,
     "metadata": {},
     "output_type": "execute_result"
    }
   ],
   "source": [
    "classifier_rbf_final = SVC(kernel='rbf', random_state = 0)\n",
    "classifier_rbf_final.fit(X_train_final,Y_train)"
   ]
  },
  {
   "cell_type": "code",
   "execution_count": 391,
   "id": "1408e3f6",
   "metadata": {},
   "outputs": [],
   "source": [
    "rbf_pred_final_train = classifier_rbf_final.predict(X_train_final)"
   ]
  },
  {
   "cell_type": "code",
   "execution_count": 392,
   "id": "f95085fb",
   "metadata": {},
   "outputs": [
    {
     "name": "stdout",
     "output_type": "stream",
     "text": [
      "\n",
      "Accuracy Of SVM with rbf kernel for train data :  0.30318018739768016\n"
     ]
    }
   ],
   "source": [
    "cm4_final_train = confusion_matrix(Y_train,rbf_pred_final_train)\n",
    "accuracy_rbf_final_train = float(cm4_final_train.diagonal().sum())/len(Y_train)\n",
    "print(\"\\nAccuracy Of SVM with rbf kernel for train data : \", accuracy_rbf_final_train)"
   ]
  },
  {
   "cell_type": "code",
   "execution_count": 230,
   "id": "fad067f7",
   "metadata": {},
   "outputs": [],
   "source": [
    "rbf_pred_final = classifier_rbf_final.predict(X_test_final)"
   ]
  },
  {
   "cell_type": "code",
   "execution_count": 231,
   "id": "b8cdffd8",
   "metadata": {},
   "outputs": [
    {
     "name": "stdout",
     "output_type": "stream",
     "text": [
      "\n",
      "Accuracy Of SVM with rbf kernel :  0.2986904430203399\n"
     ]
    }
   ],
   "source": [
    "cm4_final = confusion_matrix(Y_test,rbf_pred_final)\n",
    "accuracy_rbf_final = float(cm4_final.diagonal().sum())/len(Y_test)\n",
    "print(\"\\nAccuracy Of SVM with rbf kernel : \", accuracy_rbf_final)"
   ]
  },
  {
   "cell_type": "code",
   "execution_count": 421,
   "id": "76764a4b",
   "metadata": {},
   "outputs": [
    {
     "data": {
      "text/html": [
       "<div>\n",
       "<style scoped>\n",
       "    .dataframe tbody tr th:only-of-type {\n",
       "        vertical-align: middle;\n",
       "    }\n",
       "\n",
       "    .dataframe tbody tr th {\n",
       "        vertical-align: top;\n",
       "    }\n",
       "\n",
       "    .dataframe thead th {\n",
       "        text-align: right;\n",
       "    }\n",
       "</style>\n",
       "<table border=\"1\" class=\"dataframe\">\n",
       "  <thead>\n",
       "    <tr style=\"text-align: right;\">\n",
       "      <th></th>\n",
       "      <th>Accuracy</th>\n",
       "    </tr>\n",
       "  </thead>\n",
       "  <tbody>\n",
       "    <tr>\n",
       "      <th>sigmoid</th>\n",
       "      <td>0.158243</td>\n",
       "    </tr>\n",
       "    <tr>\n",
       "      <th>pol_1</th>\n",
       "      <td>0.262531</td>\n",
       "    </tr>\n",
       "    <tr>\n",
       "      <th>pol_3</th>\n",
       "      <td>0.285416</td>\n",
       "    </tr>\n",
       "    <tr>\n",
       "      <th>rbf</th>\n",
       "      <td>0.303180</td>\n",
       "    </tr>\n",
       "  </tbody>\n",
       "</table>\n",
       "</div>"
      ],
      "text/plain": [
       "         Accuracy\n",
       "sigmoid  0.158243\n",
       "pol_1    0.262531\n",
       "pol_3    0.285416\n",
       "rbf      0.303180"
      ]
     },
     "execution_count": 421,
     "metadata": {},
     "output_type": "execute_result"
    }
   ],
   "source": [
    "df_svm_final_train = pd.DataFrame([accuracy_sigmoid_final_train, accuracy_pol_1_final_train, accuracy_pol_3_final_train, accuracy_rbf_final_train],\n",
    "                      columns = [\"Accuracy\"], index = [\"sigmoid\", \"pol_1\", \"pol_3\", \"rbf\"])\n",
    "df_svm_final_train"
   ]
  },
  {
   "cell_type": "code",
   "execution_count": 232,
   "id": "b78f602a",
   "metadata": {},
   "outputs": [
    {
     "data": {
      "text/html": [
       "<div>\n",
       "<style scoped>\n",
       "    .dataframe tbody tr th:only-of-type {\n",
       "        vertical-align: middle;\n",
       "    }\n",
       "\n",
       "    .dataframe tbody tr th {\n",
       "        vertical-align: top;\n",
       "    }\n",
       "\n",
       "    .dataframe thead th {\n",
       "        text-align: right;\n",
       "    }\n",
       "</style>\n",
       "<table border=\"1\" class=\"dataframe\">\n",
       "  <thead>\n",
       "    <tr style=\"text-align: right;\">\n",
       "      <th></th>\n",
       "      <th>Accuracy</th>\n",
       "    </tr>\n",
       "  </thead>\n",
       "  <tbody>\n",
       "    <tr>\n",
       "      <th>sigmoid</th>\n",
       "      <td>0.161884</td>\n",
       "    </tr>\n",
       "    <tr>\n",
       "      <th>pol_1</th>\n",
       "      <td>0.258150</td>\n",
       "    </tr>\n",
       "    <tr>\n",
       "      <th>pol_3</th>\n",
       "      <td>0.276818</td>\n",
       "    </tr>\n",
       "    <tr>\n",
       "      <th>rbf</th>\n",
       "      <td>0.298690</td>\n",
       "    </tr>\n",
       "  </tbody>\n",
       "</table>\n",
       "</div>"
      ],
      "text/plain": [
       "         Accuracy\n",
       "sigmoid  0.161884\n",
       "pol_1    0.258150\n",
       "pol_3    0.276818\n",
       "rbf      0.298690"
      ]
     },
     "execution_count": 232,
     "metadata": {},
     "output_type": "execute_result"
    }
   ],
   "source": [
    "df_svm_final = pd.DataFrame([accuracy_sigmoid_final, accuracy_pol_1_final, accuracy_pol_3_final, accuracy_rbf_final],\n",
    "                      columns = [\"Accuracy\"], index = [\"sigmoid\", \"pol_1\", \"pol_3\", \"rbf\"])\n",
    "df_svm_final"
   ]
  },
  {
   "cell_type": "code",
   "execution_count": 233,
   "id": "0b4e786f",
   "metadata": {},
   "outputs": [
    {
     "data": {
      "text/plain": [
       "[<matplotlib.lines.Line2D at 0x7f46135ac2b0>]"
      ]
     },
     "execution_count": 233,
     "metadata": {},
     "output_type": "execute_result"
    },
    {
     "data": {
      "image/png": "[encoded data removed]",
      "text/plain": [
       "<Figure size 432x288 with 1 Axes>"
      ]
     },
     "metadata": {
      "needs_background": "light"
     },
     "output_type": "display_data"
    }
   ],
   "source": [
    "plt.plot(df_svm_final)"
   ]
  },
  {
   "cell_type": "markdown",
   "id": "f8a1f7b7",
   "metadata": {},
   "source": [
    "### For normalized histogram:"
   ]
  },
  {
   "cell_type": "markdown",
   "id": "229ca9dd",
   "metadata": {},
   "source": [
    "### Sigmoid kernel:"
   ]
  },
  {
   "cell_type": "code",
   "execution_count": 234,
   "id": "8515908e",
   "metadata": {},
   "outputs": [
    {
     "data": {
      "text/plain": [
       "SVC(kernel='sigmoid', random_state=0)"
      ]
     },
     "execution_count": 234,
     "metadata": {},
     "output_type": "execute_result"
    }
   ],
   "source": [
    "classifier_sigmoid_final_norm = SVC(kernel='sigmoid', random_state = 0)\n",
    "classifier_sigmoid_final_norm.fit(X_train_final_norm,Y_train)"
   ]
  },
  {
   "cell_type": "code",
   "execution_count": 389,
   "id": "8a5f1a6b",
   "metadata": {},
   "outputs": [],
   "source": [
    "sigmoid_pred_final_norm_train = classifier_sigmoid_final_norm.predict(X_train_final_norm)"
   ]
  },
  {
   "cell_type": "code",
   "execution_count": 390,
   "id": "f06d02e7",
   "metadata": {},
   "outputs": [
    {
     "name": "stdout",
     "output_type": "stream",
     "text": [
      "\n",
      "Accuracy Of SVM with sigmoid kernel for train data :  0.15852171792817582\n"
     ]
    }
   ],
   "source": [
    "cm1_final_norm_train = confusion_matrix(Y_train,sigmoid_pred_final_norm_train)\n",
    "accuracy_sigmoid_final_norm_train = float(cm1_final_norm_train.diagonal().sum())/len(Y_train)\n",
    "print(\"\\nAccuracy Of SVM with sigmoid kernel for train data : \", accuracy_sigmoid_final_norm_train)"
   ]
  },
  {
   "cell_type": "code",
   "execution_count": 235,
   "id": "798db56f",
   "metadata": {},
   "outputs": [],
   "source": [
    "sigmoid_pred_final_norm = classifier_sigmoid_final_norm.predict(X_test_final_norm)"
   ]
  },
  {
   "cell_type": "code",
   "execution_count": 236,
   "id": "d5be2540",
   "metadata": {},
   "outputs": [
    {
     "name": "stdout",
     "output_type": "stream",
     "text": [
      "\n",
      "Accuracy Of SVM with sigmoid kernel :  0.1337419894120925\n"
     ]
    }
   ],
   "source": [
    "cm1_final_norm = confusion_matrix(Y_test,sigmoid_pred_final_norm)\n",
    "accuracy_sigmoid_final_norm = float(cm1_final_norm.diagonal().sum())/len(Y_test)\n",
    "print(\"\\nAccuracy Of SVM with sigmoid kernel : \", accuracy_sigmoid_final_norm)"
   ]
  },
  {
   "cell_type": "markdown",
   "id": "8f58fd68",
   "metadata": {},
   "source": [
    "### Polynomial kernel (with degree 1) :"
   ]
  },
  {
   "cell_type": "code",
   "execution_count": 237,
   "id": "ba29c460",
   "metadata": {},
   "outputs": [
    {
     "data": {
      "text/plain": [
       "SVC(degree=1, kernel='poly', random_state=0)"
      ]
     },
     "execution_count": 237,
     "metadata": {},
     "output_type": "execute_result"
    }
   ],
   "source": [
    "classifier_pol_1_final_norm = SVC(kernel='poly', degree = 1, random_state = 0)\n",
    "classifier_pol_1_final_norm.fit(X_train_final_norm,Y_train)"
   ]
  },
  {
   "cell_type": "code",
   "execution_count": 375,
   "id": "7c9532fa",
   "metadata": {},
   "outputs": [],
   "source": [
    "pol_1_pred_final_norm_train = classifier_pol_1_final_norm.predict(X_train_final_norm)"
   ]
  },
  {
   "cell_type": "code",
   "execution_count": 376,
   "id": "8005cfea",
   "metadata": {},
   "outputs": [
    {
     "name": "stdout",
     "output_type": "stream",
     "text": [
      "\n",
      "Accuracy Of SVM with polynomial kernel having deg 1 for train data:  0.2634017207147584\n"
     ]
    }
   ],
   "source": [
    "cm2_final_norm_train = confusion_matrix(Y_train,pol_1_pred_final_norm_train)\n",
    "accuracy_pol_1_final_norm_train = float(cm2_final_norm_train.diagonal().sum())/len(Y_train)\n",
    "print(\"\\nAccuracy Of SVM with polynomial kernel having deg 1 for train data: \", accuracy_pol_1_final_norm_train)"
   ]
  },
  {
   "cell_type": "code",
   "execution_count": 238,
   "id": "e64f1b5d",
   "metadata": {},
   "outputs": [],
   "source": [
    "pol_1_pred_final_norm = classifier_pol_1_final_norm.predict(X_test_final_norm)"
   ]
  },
  {
   "cell_type": "code",
   "execution_count": 239,
   "id": "02fd4ad4",
   "metadata": {},
   "outputs": [
    {
     "name": "stdout",
     "output_type": "stream",
     "text": [
      "\n",
      "Accuracy Of SVM with polynomial kernel having deg 1 :  0.23418779604346615\n"
     ]
    }
   ],
   "source": [
    "cm2_final_norm = confusion_matrix(Y_test,pol_1_pred_final_norm)\n",
    "accuracy_pol_1_final_norm = float(cm2_final_norm.diagonal().sum())/len(Y_test)\n",
    "print(\"\\nAccuracy Of SVM with polynomial kernel having deg 1 : \", accuracy_pol_1_final_norm)"
   ]
  },
  {
   "cell_type": "markdown",
   "id": "93cedefa",
   "metadata": {},
   "source": [
    "### Polynomial kernel (with degree 3):"
   ]
  },
  {
   "cell_type": "code",
   "execution_count": 240,
   "id": "f7187081",
   "metadata": {},
   "outputs": [
    {
     "data": {
      "text/plain": [
       "SVC(kernel='poly', random_state=0)"
      ]
     },
     "execution_count": 240,
     "metadata": {},
     "output_type": "execute_result"
    }
   ],
   "source": [
    "classifier_pol_3_final_norm = SVC(kernel='poly', degree = 3, random_state = 0)\n",
    "classifier_pol_3_final_norm.fit(X_train_final_norm,Y_train)"
   ]
  },
  {
   "cell_type": "code",
   "execution_count": 377,
   "id": "6a6b4254",
   "metadata": {},
   "outputs": [],
   "source": [
    "pol_3_pred_final_norm_train = classifier_pol_3_final_norm.predict(X_train_final_norm)"
   ]
  },
  {
   "cell_type": "code",
   "execution_count": 378,
   "id": "26703aa8",
   "metadata": {},
   "outputs": [
    {
     "name": "stdout",
     "output_type": "stream",
     "text": [
      "\n",
      "Accuracy Of SVM with polynomial kernel having deg 3 for train data:  0.2856943815528232\n"
     ]
    }
   ],
   "source": [
    "cm3_final_norm_train = confusion_matrix(Y_train,pol_3_pred_final_norm_train)\n",
    "accuracy_pol_3_final_norm_train = float(cm3_final_norm_train.diagonal().sum())/len(Y_train)\n",
    "print(\"\\nAccuracy Of SVM with polynomial kernel having deg 3 for train data: \", accuracy_pol_3_final_norm_train)"
   ]
  },
  {
   "cell_type": "code",
   "execution_count": 241,
   "id": "c92daef3",
   "metadata": {},
   "outputs": [],
   "source": [
    "pol_3_pred_final_norm = classifier_pol_3_final_norm.predict(X_test_final_norm)"
   ]
  },
  {
   "cell_type": "code",
   "execution_count": 242,
   "id": "a38e1ead",
   "metadata": {},
   "outputs": [
    {
     "name": "stdout",
     "output_type": "stream",
     "text": [
      "\n",
      "Accuracy Of SVM with polynomial kernel having deg 3 :  0.2230426302591251\n"
     ]
    }
   ],
   "source": [
    "cm3_final_norm = confusion_matrix(Y_test,pol_3_pred_final_norm)\n",
    "accuracy_pol_3_final_norm = float(cm3_final_norm.diagonal().sum())/len(Y_test)\n",
    "print(\"\\nAccuracy Of SVM with polynomial kernel having deg 3 : \", accuracy_pol_3_final_norm)"
   ]
  },
  {
   "cell_type": "markdown",
   "id": "d0891a7b",
   "metadata": {},
   "source": [
    "### Linear kernel:"
   ]
  },
  {
   "cell_type": "code",
   "execution_count": 243,
   "id": "46d4f8aa",
   "metadata": {},
   "outputs": [],
   "source": [
    "# classifier_linear = SVC(kernel='linear', random_state = 0)\n",
    "# classifier_linear.fit(X_train,Y_train)"
   ]
  },
  {
   "cell_type": "markdown",
   "id": "20315a3e",
   "metadata": {},
   "source": [
    "### RBF kernel:"
   ]
  },
  {
   "cell_type": "code",
   "execution_count": 244,
   "id": "bbc127a6",
   "metadata": {},
   "outputs": [
    {
     "data": {
      "text/plain": [
       "SVC(random_state=0)"
      ]
     },
     "execution_count": 244,
     "metadata": {},
     "output_type": "execute_result"
    }
   ],
   "source": [
    "classifier_rbf_final_norm = SVC(kernel='rbf', random_state = 0)\n",
    "classifier_rbf_final_norm.fit(X_train_final_norm,Y_train)"
   ]
  },
  {
   "cell_type": "code",
   "execution_count": 379,
   "id": "69f7911b",
   "metadata": {},
   "outputs": [],
   "source": [
    "rbf_pred_final_norm_train = classifier_rbf_final_norm.predict(X_train_final_norm)"
   ]
  },
  {
   "cell_type": "code",
   "execution_count": 380,
   "id": "6dd443a6",
   "metadata": {},
   "outputs": [
    {
     "name": "stdout",
     "output_type": "stream",
     "text": [
      "\n",
      "Accuracy Of SVM with rbf kernel for train data:  0.30377233620119126\n"
     ]
    }
   ],
   "source": [
    "cm4_final_norm_train = confusion_matrix(Y_train,rbf_pred_final_norm_train)\n",
    "accuracy_rbf_final_norm_train = float(cm4_final_norm_train.diagonal().sum())/len(Y_train)\n",
    "print(\"\\nAccuracy Of SVM with rbf kernel for train data: \", accuracy_rbf_final_norm_train)"
   ]
  },
  {
   "cell_type": "code",
   "execution_count": 245,
   "id": "ec02e4a1",
   "metadata": {},
   "outputs": [],
   "source": [
    "rbf_pred_final_norm = classifier_rbf_final_norm.predict(X_test_final_norm)"
   ]
  },
  {
   "cell_type": "code",
   "execution_count": 246,
   "id": "0aad916d",
   "metadata": {},
   "outputs": [
    {
     "name": "stdout",
     "output_type": "stream",
     "text": [
      "\n",
      "Accuracy Of SVM with rbf kernel :  0.16076901643911953\n"
     ]
    }
   ],
   "source": [
    "cm4_final_norm = confusion_matrix(Y_test,rbf_pred_final_norm)\n",
    "accuracy_rbf_final_norm = float(cm4_final_norm.diagonal().sum())/len(Y_test)\n",
    "print(\"\\nAccuracy Of SVM with rbf kernel : \", accuracy_rbf_final_norm)"
   ]
  },
  {
   "cell_type": "code",
   "execution_count": 422,
   "id": "0747b1db",
   "metadata": {},
   "outputs": [
    {
     "data": {
      "text/html": [
       "<div>\n",
       "<style scoped>\n",
       "    .dataframe tbody tr th:only-of-type {\n",
       "        vertical-align: middle;\n",
       "    }\n",
       "\n",
       "    .dataframe tbody tr th {\n",
       "        vertical-align: top;\n",
       "    }\n",
       "\n",
       "    .dataframe thead th {\n",
       "        text-align: right;\n",
       "    }\n",
       "</style>\n",
       "<table border=\"1\" class=\"dataframe\">\n",
       "  <thead>\n",
       "    <tr style=\"text-align: right;\">\n",
       "      <th></th>\n",
       "      <th>Accuracy</th>\n",
       "    </tr>\n",
       "  </thead>\n",
       "  <tbody>\n",
       "    <tr>\n",
       "      <th>sigmoid</th>\n",
       "      <td>0.158522</td>\n",
       "    </tr>\n",
       "    <tr>\n",
       "      <th>pol_1</th>\n",
       "      <td>0.263402</td>\n",
       "    </tr>\n",
       "    <tr>\n",
       "      <th>pol_3</th>\n",
       "      <td>0.285694</td>\n",
       "    </tr>\n",
       "    <tr>\n",
       "      <th>rbf</th>\n",
       "      <td>0.303772</td>\n",
       "    </tr>\n",
       "  </tbody>\n",
       "</table>\n",
       "</div>"
      ],
      "text/plain": [
       "         Accuracy\n",
       "sigmoid  0.158522\n",
       "pol_1    0.263402\n",
       "pol_3    0.285694\n",
       "rbf      0.303772"
      ]
     },
     "execution_count": 422,
     "metadata": {},
     "output_type": "execute_result"
    }
   ],
   "source": [
    "df_svm_final_norm_train = pd.DataFrame([accuracy_sigmoid_final_norm_train, accuracy_pol_1_final_norm_train, accuracy_pol_3_final_norm_train, accuracy_rbf_final_norm_train],\n",
    "                      columns = [\"Accuracy\"], index = [\"sigmoid\", \"pol_1\", \"pol_3\", \"rbf\"])\n",
    "df_svm_final_norm_train"
   ]
  },
  {
   "cell_type": "code",
   "execution_count": 247,
   "id": "382f61a0",
   "metadata": {},
   "outputs": [
    {
     "data": {
      "text/html": [
       "<div>\n",
       "<style scoped>\n",
       "    .dataframe tbody tr th:only-of-type {\n",
       "        vertical-align: middle;\n",
       "    }\n",
       "\n",
       "    .dataframe tbody tr th {\n",
       "        vertical-align: top;\n",
       "    }\n",
       "\n",
       "    .dataframe thead th {\n",
       "        text-align: right;\n",
       "    }\n",
       "</style>\n",
       "<table border=\"1\" class=\"dataframe\">\n",
       "  <thead>\n",
       "    <tr style=\"text-align: right;\">\n",
       "      <th></th>\n",
       "      <th>Accuracy</th>\n",
       "    </tr>\n",
       "  </thead>\n",
       "  <tbody>\n",
       "    <tr>\n",
       "      <th>sigmoid</th>\n",
       "      <td>0.133742</td>\n",
       "    </tr>\n",
       "    <tr>\n",
       "      <th>pol_1</th>\n",
       "      <td>0.234188</td>\n",
       "    </tr>\n",
       "    <tr>\n",
       "      <th>pol_3</th>\n",
       "      <td>0.223043</td>\n",
       "    </tr>\n",
       "    <tr>\n",
       "      <th>rbf</th>\n",
       "      <td>0.160769</td>\n",
       "    </tr>\n",
       "  </tbody>\n",
       "</table>\n",
       "</div>"
      ],
      "text/plain": [
       "         Accuracy\n",
       "sigmoid  0.133742\n",
       "pol_1    0.234188\n",
       "pol_3    0.223043\n",
       "rbf      0.160769"
      ]
     },
     "execution_count": 247,
     "metadata": {},
     "output_type": "execute_result"
    }
   ],
   "source": [
    "df_svm_final_norm = pd.DataFrame([accuracy_sigmoid_final_norm, accuracy_pol_1_final_norm, accuracy_pol_3_final_norm, accuracy_rbf_final_norm],\n",
    "                      columns = [\"Accuracy\"], index = [\"sigmoid\", \"pol_1\", \"pol_3\", \"rbf\"])\n",
    "df_svm_final_norm"
   ]
  },
  {
   "cell_type": "code",
   "execution_count": 248,
   "id": "87fda9e3",
   "metadata": {},
   "outputs": [
    {
     "data": {
      "text/plain": [
       "[<matplotlib.lines.Line2D at 0x7f46308dac40>]"
      ]
     },
     "execution_count": 248,
     "metadata": {},
     "output_type": "execute_result"
    },
    {
     "data": {
      "image/png": "[encoded data removed]",
      "text/plain": [
       "<Figure size 432x288 with 1 Axes>"
      ]
     },
     "metadata": {
      "needs_background": "light"
     },
     "output_type": "display_data"
    }
   ],
   "source": [
    "plt.plot(df_svm_final_norm)"
   ]
  },
  {
   "cell_type": "markdown",
   "id": "d273d19a",
   "metadata": {},
   "source": [
    "## Logistic Regression:"
   ]
  },
  {
   "cell_type": "markdown",
   "id": "265525d6",
   "metadata": {},
   "source": [
    "### For simple histogram:"
   ]
  },
  {
   "cell_type": "code",
   "execution_count": 249,
   "id": "e5159c88",
   "metadata": {},
   "outputs": [
    {
     "name": "stderr",
     "output_type": "stream",
     "text": [
      "/home/aravind_sundarraj0112/.local/lib/python3.8/site-packages/sklearn/utils/optimize.py:210: ConvergenceWarning: newton-cg failed to converge. Increase the number of iterations.\n",
      "  warnings.warn(\n"
     ]
    },
    {
     "data": {
      "text/plain": [
       "LogisticRegression(random_state=0, solver='newton-cg')"
      ]
     },
     "execution_count": 249,
     "metadata": {},
     "output_type": "execute_result"
    }
   ],
   "source": [
    "model_final = LogisticRegression(solver = 'newton-cg', random_state = 0)\n",
    "model_final.fit(X_train_final, Y_train)"
   ]
  },
  {
   "cell_type": "code",
   "execution_count": 381,
   "id": "0dc8461a",
   "metadata": {},
   "outputs": [
    {
     "data": {
      "text/plain": [
       "4    14088\n",
       "6     3782\n",
       "5     3281\n",
       "7     2890\n",
       "3     2674\n",
       "1     1987\n",
       "2        7\n",
       "dtype: int64"
      ]
     },
     "execution_count": 381,
     "metadata": {},
     "output_type": "execute_result"
    }
   ],
   "source": [
    "y_log_pred_final_train = model_final.predict(X_train_final)\n",
    "pd.value_counts(y_log_pred_final_train)"
   ]
  },
  {
   "cell_type": "code",
   "execution_count": 382,
   "id": "93c5dde8",
   "metadata": {},
   "outputs": [
    {
     "data": {
      "text/plain": [
       "0.31516249259813994"
      ]
     },
     "execution_count": 382,
     "metadata": {},
     "output_type": "execute_result"
    }
   ],
   "source": [
    "logistic_acc_final_train = model_final.score(X_train_final, Y_train)\n",
    "logistic_acc_final_train"
   ]
  },
  {
   "cell_type": "code",
   "execution_count": 250,
   "id": "c09eea0d",
   "metadata": {},
   "outputs": [
    {
     "data": {
      "text/plain": [
       "4    3517\n",
       "6     954\n",
       "5     763\n",
       "7     727\n",
       "3     692\n",
       "1     522\n",
       "2       3\n",
       "dtype: int64"
      ]
     },
     "execution_count": 250,
     "metadata": {},
     "output_type": "execute_result"
    }
   ],
   "source": [
    "y_log_pred_final = model_final.predict(X_test_final)\n",
    "pd.value_counts(y_log_pred_final)"
   ]
  },
  {
   "cell_type": "code",
   "execution_count": 251,
   "id": "c5e91a35",
   "metadata": {},
   "outputs": [
    {
     "data": {
      "text/plain": [
       "0.31749791028141544"
      ]
     },
     "execution_count": 251,
     "metadata": {},
     "output_type": "execute_result"
    }
   ],
   "source": [
    "logistic_acc_final = model_final.score(X_test_final, Y_test)\n",
    "logistic_acc_final"
   ]
  },
  {
   "cell_type": "markdown",
   "id": "ade26b04",
   "metadata": {},
   "source": [
    "### For normalized histogram:"
   ]
  },
  {
   "cell_type": "code",
   "execution_count": 252,
   "id": "7f8c7b8e",
   "metadata": {},
   "outputs": [
    {
     "data": {
      "text/plain": [
       "LogisticRegression(random_state=0, solver='newton-cg')"
      ]
     },
     "execution_count": 252,
     "metadata": {},
     "output_type": "execute_result"
    }
   ],
   "source": [
    "model_final_norm = LogisticRegression(solver = 'newton-cg', random_state = 0)\n",
    "model_final_norm.fit(X_train_final_norm, Y_train)"
   ]
  },
  {
   "cell_type": "code",
   "execution_count": 383,
   "id": "1ecbed31",
   "metadata": {},
   "outputs": [
    {
     "data": {
      "text/plain": [
       "4    28709\n",
       "dtype: int64"
      ]
     },
     "execution_count": 383,
     "metadata": {},
     "output_type": "execute_result"
    }
   ],
   "source": [
    "y_log_pred_final_norm_train = model_final_norm.predict(X_train_final_norm)\n",
    "pd.value_counts(y_log_pred_final_norm_train)"
   ]
  },
  {
   "cell_type": "code",
   "execution_count": 384,
   "id": "86ade2e1",
   "metadata": {},
   "outputs": [
    {
     "data": {
      "text/plain": [
       "0.2513149186666202"
      ]
     },
     "execution_count": 384,
     "metadata": {},
     "output_type": "execute_result"
    }
   ],
   "source": [
    "logistic_acc_final_norm_train = model_final_norm.score(X_train_final_norm, Y_train)\n",
    "logistic_acc_final_norm_train"
   ]
  },
  {
   "cell_type": "code",
   "execution_count": 253,
   "id": "c7d6344e",
   "metadata": {},
   "outputs": [
    {
     "data": {
      "text/plain": [
       "4    7178\n",
       "dtype: int64"
      ]
     },
     "execution_count": 253,
     "metadata": {},
     "output_type": "execute_result"
    }
   ],
   "source": [
    "y_log_pred_final_norm_train = model_final_norm.predict(X_train_final_norm)\n",
    "pd.value_counts(y_log_pred_final_norm_train)"
   ]
  },
  {
   "cell_type": "code",
   "execution_count": 254,
   "id": "01ba23db",
   "metadata": {},
   "outputs": [
    {
     "data": {
      "text/plain": [
       "0.24714405126776262"
      ]
     },
     "execution_count": 254,
     "metadata": {},
     "output_type": "execute_result"
    }
   ],
   "source": [
    "logistic_acc_final_norm = model_final_norm.score(X_test_final_norm, Y_test)\n",
    "logistic_acc_final_norm"
   ]
  },
  {
   "cell_type": "markdown",
   "id": "702ef6d1",
   "metadata": {},
   "source": [
    "## Decision tree:"
   ]
  },
  {
   "cell_type": "markdown",
   "id": "a17c8a60",
   "metadata": {},
   "source": [
    "### For simple histogram:"
   ]
  },
  {
   "cell_type": "code",
   "execution_count": 255,
   "id": "04d84f5f",
   "metadata": {},
   "outputs": [],
   "source": [
    "clf_gini_final = train_using_gini(X_train_final, X_test_final, Y_train)\n",
    "clf_entropy_final = tarin_using_entropy(X_train_final, X_test_final, Y_train)"
   ]
  },
  {
   "cell_type": "code",
   "execution_count": 385,
   "id": "0e8329dd",
   "metadata": {},
   "outputs": [
    {
     "name": "stdout",
     "output_type": "stream",
     "text": [
      "Predicted values:\n",
      "[4 4 4 ... 3 4 4]\n",
      "Confusion Matrix:  [[   0    0  455 2634  703    0  203]\n",
      " [   0    0   47  236  123    0   30]\n",
      " [   0    0  553 2497  720    0  327]\n",
      " [   0    0  466 5810  743    0  196]\n",
      " [   0    0  446 3341  959    0  219]\n",
      " [   0    0  492 3281  855    0  202]\n",
      " [   0    0  502 1765  452    0  452]]\n",
      "Accuracy :  27.078616461736736\n"
     ]
    }
   ],
   "source": [
    "y_pred_gini_final_train = prediction(X_train_final, clf_gini_final)\n",
    "cal_accuracy(Y_train, y_pred_gini_final_train)"
   ]
  },
  {
   "cell_type": "code",
   "execution_count": 386,
   "id": "bb5bff43",
   "metadata": {},
   "outputs": [
    {
     "name": "stdout",
     "output_type": "stream",
     "text": [
      "Predicted values:\n",
      "[5 4 4 ... 4 4 4]\n",
      "Confusion Matrix:  [[   0    0  645 2104  939    0  307]\n",
      " [   0    0   84  172  147    0   33]\n",
      " [   0    0  821 1888  943    0  445]\n",
      " [   0    0  619 4670 1380    0  546]\n",
      " [   0    0  459 2623 1500    0  383]\n",
      " [   0    0  616 2591 1275    0  348]\n",
      " [   0    0  480 1166  815    0  710]]\n",
      "Accuracy :  26.82434079905256\n"
     ]
    }
   ],
   "source": [
    "y_pred_entropy_final_train = prediction(X_train_final, clf_entropy_final)\n",
    "cal_accuracy(Y_train, y_pred_entropy_final_train)"
   ]
  },
  {
   "cell_type": "code",
   "execution_count": 256,
   "id": "a537822b",
   "metadata": {
    "scrolled": true
   },
   "outputs": [
    {
     "name": "stdout",
     "output_type": "stream",
     "text": [
      "Predicted values:\n",
      "[4 4 4 ... 4 7 4]\n",
      "Confusion Matrix:  [[   0    0   93  664  155    0   46]\n",
      " [   0    0   13   59   32    0    7]\n",
      " [   0    0  136  630  174    0   84]\n",
      " [   0    0  109 1446  179    0   40]\n",
      " [   0    0  115  850  223    0   45]\n",
      " [   0    0  110  872  221    0   44]\n",
      " [   0    0  129  472  128    0  102]]\n",
      "Accuracy :  26.567288938422962\n"
     ]
    }
   ],
   "source": [
    "y_pred_gini_final = prediction(X_test_final, clf_gini_final)\n",
    "cal_accuracy(Y_test, y_pred_gini_final)"
   ]
  },
  {
   "cell_type": "code",
   "execution_count": 257,
   "id": "03bbe927",
   "metadata": {},
   "outputs": [
    {
     "name": "stdout",
     "output_type": "stream",
     "text": [
      "Predicted values:\n",
      "[5 3 3 ... 3 3 4]\n",
      "Confusion Matrix:  [[   0    0  150  530  208    0   70]\n",
      " [   0    0   22   50   27    0   12]\n",
      " [   0    0  182  470  260    0  112]\n",
      " [   0    0  143 1184  314    0  133]\n",
      " [   0    0  110  675  360    0   88]\n",
      " [   0    0  164  685  330    0   68]\n",
      " [   0    0  126  326  204    0  175]]\n",
      "Accuracy :  26.4837001950404\n"
     ]
    }
   ],
   "source": [
    "y_pred_entropy_final = prediction(X_test_final, clf_entropy_final)\n",
    "cal_accuracy(Y_test, y_pred_entropy_final)"
   ]
  },
  {
   "cell_type": "markdown",
   "id": "4f68429a",
   "metadata": {},
   "source": [
    "### For normalized histogram:"
   ]
  },
  {
   "cell_type": "code",
   "execution_count": 258,
   "id": "57c2187a",
   "metadata": {},
   "outputs": [],
   "source": [
    "clf_gini_final_norm = train_using_gini(X_train_final_norm, X_test_final_norm, Y_train)\n",
    "clf_entropy_final_norm = tarin_using_entropy(X_train_final_norm, X_test_final_norm, Y_train)"
   ]
  },
  {
   "cell_type": "code",
   "execution_count": 387,
   "id": "e287cceb",
   "metadata": {},
   "outputs": [
    {
     "name": "stdout",
     "output_type": "stream",
     "text": [
      "Predicted values:\n",
      "[4 4 4 ... 4 4 4]\n",
      "Confusion Matrix:  [[   6    0    5 3981    2    1    0]\n",
      " [   0    0    0  436    0    0    0]\n",
      " [   0    0   28 4060    0    9    0]\n",
      " [   0    0    3 7206    2    4    0]\n",
      " [   0    0    4 4943   17    1    0]\n",
      " [   0    0    6 4806    7   11    0]\n",
      " [   0    0    3 3163    0    5    0]]\n",
      "Accuracy :  25.316102964227245\n"
     ]
    }
   ],
   "source": [
    "y_pred_gini_final_norm_train = prediction(X_train_final_norm, clf_gini_final_norm)\n",
    "cal_accuracy(Y_train, y_pred_gini_final_norm_train)"
   ]
  },
  {
   "cell_type": "code",
   "execution_count": 388,
   "id": "7c5cfd82",
   "metadata": {},
   "outputs": [
    {
     "name": "stdout",
     "output_type": "stream",
     "text": [
      "Predicted values:\n",
      "[4 4 4 ... 4 4 4]\n",
      "Confusion Matrix:  [[   6    0    2 3984    2    1    0]\n",
      " [   0    0    0  436    0    0    0]\n",
      " [   0    0   31 4066    0    0    0]\n",
      " [   0    0    4 7209    2    0    0]\n",
      " [   0    0    3 4945   17    0    0]\n",
      " [   0    0   12 4806    7    5    0]\n",
      " [   0    0    5 3166    0    0    0]]\n",
      "Accuracy :  25.316102964227245\n"
     ]
    }
   ],
   "source": [
    "y_pred_entropy_final_norm_train = prediction(X_train_final_norm, clf_entropy_final_norm)\n",
    "cal_accuracy(Y_train, y_pred_entropy_final_norm_train)"
   ]
  },
  {
   "cell_type": "code",
   "execution_count": 259,
   "id": "ec1bf0e9",
   "metadata": {
    "scrolled": true
   },
   "outputs": [
    {
     "name": "stdout",
     "output_type": "stream",
     "text": [
      "Predicted values:\n",
      "[3 3 3 ... 3 3 3]\n",
      "Confusion Matrix:  [[301   0 493  23   0 141   0]\n",
      " [ 25   0  62   1   0  23   0]\n",
      " [288   0 573  19   0 144   0]\n",
      " [545   0 867  26   0 336   0]\n",
      " [348   0 605  36   0 244   0]\n",
      " [420   0 503  34   1 289   0]\n",
      " [231   0 517  11   0  72   0]]\n",
      "Accuracy :  16.564502646976873\n"
     ]
    }
   ],
   "source": [
    "y_pred_gini_final_norm = prediction(X_test_final_norm, clf_gini_final_norm)\n",
    "cal_accuracy(Y_test, y_pred_gini_final_norm)"
   ]
  },
  {
   "cell_type": "code",
   "execution_count": 260,
   "id": "6daa1b7e",
   "metadata": {},
   "outputs": [
    {
     "name": "stdout",
     "output_type": "stream",
     "text": [
      "Predicted values:\n",
      "[4 4 4 ... 4 4 4]\n",
      "Confusion Matrix:  [[301   0  65 499   0  93   0]\n",
      " [ 25   0   6  55   0  25   0]\n",
      " [288   0  67 572   0  97   0]\n",
      " [544   0 197 871   0 162   0]\n",
      " [347   0 118 629   0 139   0]\n",
      " [420   0 143 500   1 183   0]\n",
      " [231   0  39 517   0  44   0]]\n",
      "Accuracy :  19.8105321816662\n"
     ]
    }
   ],
   "source": [
    "y_pred_entropy_final_norm = prediction(X_test_final_norm, clf_entropy_final_norm)\n",
    "cal_accuracy(Y_test, y_pred_entropy_final_norm)"
   ]
  },
  {
   "cell_type": "markdown",
   "id": "6fef0104",
   "metadata": {},
   "source": [
    "## Random Forest:"
   ]
  },
  {
   "cell_type": "markdown",
   "id": "150ca174",
   "metadata": {},
   "source": [
    "### For simple histogram:"
   ]
  },
  {
   "cell_type": "code",
   "execution_count": 261,
   "id": "156de622",
   "metadata": {},
   "outputs": [
    {
     "name": "stdout",
     "output_type": "stream",
     "text": [
      "Accuracy: 0.4203120646419615\n"
     ]
    }
   ],
   "source": [
    "#Create a Gaussian Classifier\n",
    "clf_final = RandomForestClassifier(n_estimators = 500)\n",
    "\n",
    "clf_final.fit(X_train_final,Y_train)\n",
    "\n",
    "y_pred_rf_final = clf_final.predict(X_test_final)\n",
    "\n",
    "rf_accuracy_final = metrics.accuracy_score(Y_test, y_pred_rf_final)\n",
    "print(\"Accuracy:\", rf_accuracy_final)"
   ]
  },
  {
   "cell_type": "markdown",
   "id": "f0de10f7",
   "metadata": {},
   "source": [
    "### For 500 values of estimators:"
   ]
  },
  {
   "cell_type": "code",
   "execution_count": 442,
   "id": "db883288",
   "metadata": {},
   "outputs": [
    {
     "data": {
      "text/plain": [
       "Text(0, 0.5, 'Training Accuracy')"
      ]
     },
     "execution_count": 442,
     "metadata": {},
     "output_type": "execute_result"
    },
    {
     "data": {
      "image/png": "[encoded data removed]",
      "text/plain": [
       "<Figure size 432x288 with 1 Axes>"
      ]
     },
     "metadata": {
      "needs_background": "light"
     },
     "output_type": "display_data"
    }
   ],
   "source": [
    "rf_fin_est = np.linspace(start = 50, stop = 500, num = 46, dtype = int)\n",
    "accuracies_final_train =[]\n",
    "for k in rf_fin_est:\n",
    "    rfc_final = RandomForestClassifier(n_estimators=k)\n",
    "    rfc_final.fit(X_train_final, Y_train)\n",
    "    y_pred_rf_final = rfc_final.predict(X_train_final)\n",
    "    accuracies_final_train.append(metrics.accuracy_score(Y_train, y_pred_rf_final))\n",
    "\n",
    "%matplotlib inline\n",
    "\n",
    "# plot the relationship between K and testing accuracy\n",
    "# plt.plot(x_axis, y_axis)\n",
    "plt.plot(np.linspace(start = 50, stop = 500, num = 46, dtype = int), accuracies_final_train)\n",
    "plt.xlabel('Value of n_estimators for Random Forest Classifier')\n",
    "plt.ylabel('Training Accuracy')"
   ]
  },
  {
   "cell_type": "code",
   "execution_count": 443,
   "id": "85db3a0c",
   "metadata": {},
   "outputs": [
    {
     "data": {
      "text/plain": [
       "0.9985022118499425"
      ]
     },
     "execution_count": 443,
     "metadata": {},
     "output_type": "execute_result"
    }
   ],
   "source": [
    "rf_accuracy_final_train = max(accuracies_final_train)\n",
    "rf_accuracy_final_train"
   ]
  },
  {
   "cell_type": "code",
   "execution_count": 262,
   "id": "9463859f",
   "metadata": {},
   "outputs": [
    {
     "data": {
      "text/plain": [
       "Text(0, 0.5, 'Testing Accuracy')"
      ]
     },
     "execution_count": 262,
     "metadata": {},
     "output_type": "execute_result"
    },
    {
     "data": {
      "image/png": "[encoded data removed]",
      "text/plain": [
       "<Figure size 432x288 with 1 Axes>"
      ]
     },
     "metadata": {
      "needs_background": "light"
     },
     "output_type": "display_data"
    }
   ],
   "source": [
    "rf_fin_est = np.linspace(start = 50, stop = 500, num = 46, dtype = int)\n",
    "accuracies_final =[]\n",
    "for k in rf_fin_est:\n",
    "    rfc_final = RandomForestClassifier(n_estimators=k)\n",
    "    rfc_final.fit(X_train_final, Y_train)\n",
    "    y_pred_rf_final = rfc_final.predict(X_test_final)\n",
    "    accuracies_final.append(metrics.accuracy_score(Y_test, y_pred_rf_final))\n",
    "\n",
    "%matplotlib inline\n",
    "\n",
    "# plot the relationship between K and testing accuracy\n",
    "# plt.plot(x_axis, y_axis)\n",
    "plt.plot(np.linspace(start = 50, stop = 500, num = 46, dtype = int), accuracies_final)\n",
    "plt.xlabel('Value of n_estimators for Random Forest Classifier')\n",
    "plt.ylabel('Testing Accuracy')"
   ]
  },
  {
   "cell_type": "code",
   "execution_count": 263,
   "id": "3eac328e",
   "metadata": {},
   "outputs": [
    {
     "data": {
      "text/plain": [
       "0.42518807467261077"
      ]
     },
     "execution_count": 263,
     "metadata": {},
     "output_type": "execute_result"
    }
   ],
   "source": [
    "rf_accuracy_final = max(accuracies_final)\n",
    "rf_accuracy_final"
   ]
  },
  {
   "cell_type": "markdown",
   "id": "40fc0e77",
   "metadata": {},
   "source": [
    "### For normalized histogram:"
   ]
  },
  {
   "cell_type": "code",
   "execution_count": 264,
   "id": "08b93501",
   "metadata": {},
   "outputs": [
    {
     "name": "stdout",
     "output_type": "stream",
     "text": [
      "Accuracy: 0.15533574811925327\n"
     ]
    }
   ],
   "source": [
    "#Create a Gaussian Classifier\n",
    "clf_final_norm = RandomForestClassifier(n_estimators = 500)\n",
    "\n",
    "clf_final_norm.fit(X_train_final_norm,Y_train)\n",
    "\n",
    "y_pred_rf_final_norm = clf_final_norm.predict(X_test_final_norm)\n",
    "\n",
    "rf_accuracy_final_norm = metrics.accuracy_score(Y_test, y_pred_rf_final_norm)\n",
    "print(\"Accuracy:\", rf_accuracy_final_norm)"
   ]
  },
  {
   "cell_type": "markdown",
   "id": "a5413131",
   "metadata": {},
   "source": [
    "### For 500 values of estimators:"
   ]
  },
  {
   "cell_type": "code",
   "execution_count": 65,
   "id": "7684acb6",
   "metadata": {},
   "outputs": [
    {
     "ename": "NameError",
     "evalue": "name 'X_train_final_norm' is not defined",
     "output_type": "error",
     "traceback": [
      "\u001b[0;31m---------------------------------------------------------------------------\u001b[0m",
      "\u001b[0;31mNameError\u001b[0m                                 Traceback (most recent call last)",
      "\u001b[0;32m<ipython-input-65-6caa3c3949d0>\u001b[0m in \u001b[0;36m<module>\u001b[0;34m\u001b[0m\n\u001b[1;32m      3\u001b[0m \u001b[0;32mfor\u001b[0m \u001b[0mk\u001b[0m \u001b[0;32min\u001b[0m \u001b[0mrf_fin_est_norm\u001b[0m\u001b[0;34m:\u001b[0m\u001b[0;34m\u001b[0m\u001b[0;34m\u001b[0m\u001b[0m\n\u001b[1;32m      4\u001b[0m     \u001b[0mrfc_final_norm\u001b[0m \u001b[0;34m=\u001b[0m \u001b[0mRandomForestClassifier\u001b[0m\u001b[0;34m(\u001b[0m\u001b[0mn_estimators\u001b[0m\u001b[0;34m=\u001b[0m\u001b[0mk\u001b[0m\u001b[0;34m)\u001b[0m\u001b[0;34m\u001b[0m\u001b[0;34m\u001b[0m\u001b[0m\n\u001b[0;32m----> 5\u001b[0;31m     \u001b[0mrfc_final_norm\u001b[0m\u001b[0;34m.\u001b[0m\u001b[0mfit\u001b[0m\u001b[0;34m(\u001b[0m\u001b[0mX_train_final_norm\u001b[0m\u001b[0;34m,\u001b[0m \u001b[0mY_train\u001b[0m\u001b[0;34m)\u001b[0m\u001b[0;34m\u001b[0m\u001b[0;34m\u001b[0m\u001b[0m\n\u001b[0m\u001b[1;32m      6\u001b[0m     \u001b[0my_pred_rf_final_norm\u001b[0m \u001b[0;34m=\u001b[0m \u001b[0mrfc_final_norm\u001b[0m\u001b[0;34m.\u001b[0m\u001b[0mpredict\u001b[0m\u001b[0;34m(\u001b[0m\u001b[0mX_train_final_norm\u001b[0m\u001b[0;34m)\u001b[0m\u001b[0;34m\u001b[0m\u001b[0;34m\u001b[0m\u001b[0m\n\u001b[1;32m      7\u001b[0m     \u001b[0maccuracies_final_norm_train\u001b[0m\u001b[0;34m.\u001b[0m\u001b[0mappend\u001b[0m\u001b[0;34m(\u001b[0m\u001b[0mmetrics\u001b[0m\u001b[0;34m.\u001b[0m\u001b[0maccuracy_score\u001b[0m\u001b[0;34m(\u001b[0m\u001b[0mY_train\u001b[0m\u001b[0;34m,\u001b[0m \u001b[0my_pred_rf_final_norm\u001b[0m\u001b[0;34m)\u001b[0m\u001b[0;34m)\u001b[0m\u001b[0;34m\u001b[0m\u001b[0;34m\u001b[0m\u001b[0m\n",
      "\u001b[0;31mNameError\u001b[0m: name 'X_train_final_norm' is not defined"
     ]
    }
   ],
   "source": [
    "rf_fin_est_norm = np.linspace(start = 50, stop = 500, num = 46, dtype = int)\n",
    "accuracies_final_norm_train =[]\n",
    "for k in rf_fin_est_norm:\n",
    "    rfc_final_norm = RandomForestClassifier(n_estimators=k)\n",
    "    rfc_final_norm.fit(X_train_final_norm, Y_train)\n",
    "    y_pred_rf_final_norm = rfc_final_norm.predict(X_train_final_norm)\n",
    "    accuracies_final_norm_train.append(metrics.accuracy_score(Y_train, y_pred_rf_final_norm))\n",
    "\n",
    "%matplotlib inline\n",
    "\n",
    "# plot the relationship between K and testing accuracy\n",
    "# plt.plot(x_axis, y_axis)\n",
    "plt.plot(np.linspace(start = 50, stop = 500, num = 46, dtype = int), accuracies_final_norm_train)\n",
    "plt.xlabel('Value of n_estimators for Random Forest Classifier')\n",
    "plt.ylabel('Training Accuracy')"
   ]
  },
  {
   "cell_type": "code",
   "execution_count": null,
   "id": "d8a71e74",
   "metadata": {},
   "outputs": [],
   "source": [
    "rf_accuracy_final_norm_train = max(accuracies_final_norm_train)\n",
    "rf_accuracy_final_norm_train"
   ]
  },
  {
   "cell_type": "code",
   "execution_count": 265,
   "id": "2f6beabc",
   "metadata": {},
   "outputs": [
    {
     "data": {
      "text/plain": [
       "Text(0, 0.5, 'Testing Accuracy')"
      ]
     },
     "execution_count": 265,
     "metadata": {},
     "output_type": "execute_result"
    },
    {
     "data": {
      "image/png": "[encoded data removed]",
      "text/plain": [
       "<Figure size 432x288 with 1 Axes>"
      ]
     },
     "metadata": {
      "needs_background": "light"
     },
     "output_type": "display_data"
    }
   ],
   "source": [
    "rf_fin_est_norm = np.linspace(start = 50, stop = 500, num = 46, dtype = int)\n",
    "accuracies_final_norm =[]\n",
    "for k in rf_fin_est_norm:\n",
    "    rfc_final_norm = RandomForestClassifier(n_estimators=k)\n",
    "    rfc_final_norm.fit(X_train_final_norm, Y_train)\n",
    "    y_pred_rf_final_norm = rfc_final_norm.predict(X_test_final_norm)\n",
    "    accuracies_final_norm.append(metrics.accuracy_score(Y_test, y_pred_rf_final_norm))\n",
    "\n",
    "%matplotlib inline\n",
    "\n",
    "# plot the relationship between K and testing accuracy\n",
    "# plt.plot(x_axis, y_axis)\n",
    "plt.plot(np.linspace(start = 50, stop = 500, num = 46, dtype = int), accuracies_final_norm)\n",
    "plt.xlabel('Value of n_estimators for Random Forest Classifier')\n",
    "plt.ylabel('Testing Accuracy')"
   ]
  },
  {
   "cell_type": "code",
   "execution_count": 266,
   "id": "2fc637f5",
   "metadata": {},
   "outputs": [
    {
     "data": {
      "text/plain": [
       "0.1574254667038172"
      ]
     },
     "execution_count": 266,
     "metadata": {},
     "output_type": "execute_result"
    }
   ],
   "source": [
    "rf_accuracy_final_norm = max(accuracies_final_norm)\n",
    "rf_accuracy_final_norm"
   ]
  },
  {
   "cell_type": "markdown",
   "id": "7d380bef",
   "metadata": {},
   "source": [
    "## DataFrame of Accuracies:"
   ]
  },
  {
   "cell_type": "markdown",
   "id": "a21d75dc",
   "metadata": {},
   "source": [
    "### For simple histogram:"
   ]
  },
  {
   "cell_type": "code",
   "execution_count": null,
   "id": "0cf0a8eb",
   "metadata": {},
   "outputs": [],
   "source": [
    "global_l_train = [knn_accuracy_global_train, accuracy_rbf_global_train, logistic_acc_global_train, rf_accuracy_global_train]\n",
    "local_l_train = [knn_accuracy_local_train, accuracy_rbf_local_train, logistic_acc_local_train, rf_accuracy_local_train]\n",
    "final_l_train = [knn_accuracy_final_train, accuracy_rbf_final_train, logistic_acc_final_train, rf_accuracy_final_train]"
   ]
  },
  {
   "cell_type": "code",
   "execution_count": null,
   "id": "502bfaf1",
   "metadata": {},
   "outputs": [],
   "source": [
    "accuracy_df_train = pd.DataFrame([global_l, local_l, final_l])\n",
    "accuracy_df_train = accuracy_df_train.T\n",
    "accuracy_df_train.columns = [\"Global\", \"Local\", \"Global+Local\"]\n",
    "accuracy_df_train.index = [\"KNN\", \"SVM(RBF Kernel)\", \"Logistic\", \"Random Forest\"]"
   ]
  },
  {
   "cell_type": "code",
   "execution_count": null,
   "id": "9ad5fcb7",
   "metadata": {},
   "outputs": [],
   "source": [
    "accuracy_df_train"
   ]
  },
  {
   "cell_type": "code",
   "execution_count": 267,
   "id": "2036bf6b",
   "metadata": {},
   "outputs": [],
   "source": [
    "global_l = [knn_accuracy_global, accuracy_rbf_global, logistic_acc_global, rf_accuracy_global]\n",
    "local_l = [knn_accuracy_local, accuracy_rbf_local, logistic_acc_local, rf_accuracy_local]\n",
    "final_l = [knn_accuracy_final, accuracy_rbf_final, logistic_acc_final, rf_accuracy_final]"
   ]
  },
  {
   "cell_type": "code",
   "execution_count": 268,
   "id": "7209fd70",
   "metadata": {},
   "outputs": [],
   "source": [
    "accuracy_df = pd.DataFrame([global_l, local_l, final_l])\n",
    "accuracy_df = accuracy_df.T\n",
    "accuracy_df.columns = [\"Global\", \"Local\", \"Global+Local\"]\n",
    "accuracy_df.index = [\"KNN\", \"SVM(RBF Kernel)\", \"Logistic\", \"Random Forest\"]"
   ]
  },
  {
   "cell_type": "code",
   "execution_count": 269,
   "id": "80f60e0f",
   "metadata": {},
   "outputs": [
    {
     "data": {
      "text/html": [
       "<div>\n",
       "<style scoped>\n",
       "    .dataframe tbody tr th:only-of-type {\n",
       "        vertical-align: middle;\n",
       "    }\n",
       "\n",
       "    .dataframe tbody tr th {\n",
       "        vertical-align: top;\n",
       "    }\n",
       "\n",
       "    .dataframe thead th {\n",
       "        text-align: right;\n",
       "    }\n",
       "</style>\n",
       "<table border=\"1\" class=\"dataframe\">\n",
       "  <thead>\n",
       "    <tr style=\"text-align: right;\">\n",
       "      <th></th>\n",
       "      <th>Global</th>\n",
       "      <th>Local</th>\n",
       "      <th>Global+Local</th>\n",
       "    </tr>\n",
       "  </thead>\n",
       "  <tbody>\n",
       "    <tr>\n",
       "      <th>KNN</th>\n",
       "      <td>0.259125</td>\n",
       "      <td>0.338813</td>\n",
       "      <td>0.335748</td>\n",
       "    </tr>\n",
       "    <tr>\n",
       "      <th>SVM(RBF Kernel)</th>\n",
       "      <td>0.255921</td>\n",
       "      <td>0.313179</td>\n",
       "      <td>0.298690</td>\n",
       "    </tr>\n",
       "    <tr>\n",
       "      <th>Logistic</th>\n",
       "      <td>0.257453</td>\n",
       "      <td>0.309557</td>\n",
       "      <td>0.317498</td>\n",
       "    </tr>\n",
       "    <tr>\n",
       "      <th>Random Forest</th>\n",
       "      <td>0.349122</td>\n",
       "      <td>0.423656</td>\n",
       "      <td>0.425188</td>\n",
       "    </tr>\n",
       "  </tbody>\n",
       "</table>\n",
       "</div>"
      ],
      "text/plain": [
       "                   Global     Local  Global+Local\n",
       "KNN              0.259125  0.338813      0.335748\n",
       "SVM(RBF Kernel)  0.255921  0.313179      0.298690\n",
       "Logistic         0.257453  0.309557      0.317498\n",
       "Random Forest    0.349122  0.423656      0.425188"
      ]
     },
     "execution_count": 269,
     "metadata": {},
     "output_type": "execute_result"
    }
   ],
   "source": [
    "accuracy_df"
   ]
  },
  {
   "cell_type": "markdown",
   "id": "8e053989",
   "metadata": {},
   "source": [
    "### For normalized histogram:"
   ]
  },
  {
   "cell_type": "code",
   "execution_count": null,
   "id": "8d467a59",
   "metadata": {},
   "outputs": [],
   "source": [
    "global_l_norm_train = [knn_accuracy_global_norm_train, accuracy_pol_1_global_norm_train, logistic_acc_global_norm_train, rf_accuracy_global_norm_train]\n",
    "local_l_norm_train = [knn_accuracy_local_norm_train, accuracy_pol_3_local_norm_train, logistic_acc_local_norm_train, rf_accuracy_local_norm_train]\n",
    "final_l_norm_train = [knn_accuracy_final_norm_train, accuracy_pol_3_final_norm_train, logistic_acc_final_norm_train, rf_accuracy_final_norm_train]"
   ]
  },
  {
   "cell_type": "code",
   "execution_count": null,
   "id": "d02a2f48",
   "metadata": {},
   "outputs": [],
   "source": [
    "accuracy_df_norm_train = pd.DataFrame([global_l_norm_train, local_l_norm_train, final_l_norm_train])\n",
    "accuracy_df_norm_train = accuracy_df_norm_train.T\n",
    "accuracy_df_norm_train.columns = [\"Global_Norm\", \"Local_Norm\", \"Global_Norm + Local_Norm\"]\n",
    "accuracy_df_norm_train.index = [\"KNN\", \"SVM\", \"Logistic\", \"Random Forest\"]"
   ]
  },
  {
   "cell_type": "code",
   "execution_count": null,
   "id": "4e1324d0",
   "metadata": {},
   "outputs": [],
   "source": [
    "accuracy_df_norm_train"
   ]
  },
  {
   "cell_type": "code",
   "execution_count": 270,
   "id": "42a74c8d",
   "metadata": {},
   "outputs": [],
   "source": [
    "global_l_norm = [knn_accuracy_global_norm, accuracy_pol_1_global_norm, logistic_acc_global_norm, rf_accuracy_global_norm]\n",
    "local_l_norm = [knn_accuracy_local_norm, accuracy_pol_3_local_norm, logistic_acc_local_norm, rf_accuracy_local_norm]\n",
    "final_l_norm = [knn_accuracy_final_norm, accuracy_pol_3_final_norm, logistic_acc_final_norm, rf_accuracy_final_norm]"
   ]
  },
  {
   "cell_type": "code",
   "execution_count": 271,
   "id": "454c485f",
   "metadata": {},
   "outputs": [],
   "source": [
    "accuracy_df_norm = pd.DataFrame([global_l_norm, local_l_norm, final_l_norm])\n",
    "accuracy_df_norm = accuracy_df_norm.T\n",
    "accuracy_df_norm.columns = [\"Global_Norm\", \"Local_Norm\", \"Global_Norm + Local_Norm\"]\n",
    "accuracy_df_norm.index = [\"KNN\", \"SVM\", \"Logistic\", \"Random Forest\"]"
   ]
  },
  {
   "cell_type": "code",
   "execution_count": 272,
   "id": "0bad853a",
   "metadata": {},
   "outputs": [
    {
     "data": {
      "text/html": [
       "<div>\n",
       "<style scoped>\n",
       "    .dataframe tbody tr th:only-of-type {\n",
       "        vertical-align: middle;\n",
       "    }\n",
       "\n",
       "    .dataframe tbody tr th {\n",
       "        vertical-align: top;\n",
       "    }\n",
       "\n",
       "    .dataframe thead th {\n",
       "        text-align: right;\n",
       "    }\n",
       "</style>\n",
       "<table border=\"1\" class=\"dataframe\">\n",
       "  <thead>\n",
       "    <tr style=\"text-align: right;\">\n",
       "      <th></th>\n",
       "      <th>Global_Norm</th>\n",
       "      <th>Local_Norm</th>\n",
       "      <th>Global_Norm + Local_Norm</th>\n",
       "    </tr>\n",
       "  </thead>\n",
       "  <tbody>\n",
       "    <tr>\n",
       "      <th>KNN</th>\n",
       "      <td>0.148509</td>\n",
       "      <td>0.148370</td>\n",
       "      <td>0.140568</td>\n",
       "    </tr>\n",
       "    <tr>\n",
       "      <th>SVM</th>\n",
       "      <td>0.247144</td>\n",
       "      <td>0.242129</td>\n",
       "      <td>0.223043</td>\n",
       "    </tr>\n",
       "    <tr>\n",
       "      <th>Logistic</th>\n",
       "      <td>0.247144</td>\n",
       "      <td>0.247144</td>\n",
       "      <td>0.247144</td>\n",
       "    </tr>\n",
       "    <tr>\n",
       "      <th>Random Forest</th>\n",
       "      <td>0.141126</td>\n",
       "      <td>0.155893</td>\n",
       "      <td>0.157425</td>\n",
       "    </tr>\n",
       "  </tbody>\n",
       "</table>\n",
       "</div>"
      ],
      "text/plain": [
       "               Global_Norm  Local_Norm  Global_Norm + Local_Norm\n",
       "KNN               0.148509    0.148370                  0.140568\n",
       "SVM               0.247144    0.242129                  0.223043\n",
       "Logistic          0.247144    0.247144                  0.247144\n",
       "Random Forest     0.141126    0.155893                  0.157425"
      ]
     },
     "execution_count": 272,
     "metadata": {},
     "output_type": "execute_result"
    }
   ],
   "source": [
    "accuracy_df_norm"
   ]
  },
  {
   "cell_type": "code",
   "execution_count": null,
   "id": "8e1fcddc",
   "metadata": {},
   "outputs": [],
   "source": []
  }
 ],
 "metadata": {
  "kernelspec": {
   "display_name": "Python 3",
   "language": "python",
   "name": "python3"
  },
  "language_info": {
   "codemirror_mode": {
    "name": "ipython",
    "version": 3
   },
   "file_extension": ".py",
   "mimetype": "text/x-python",
   "name": "python",
   "nbconvert_exporter": "python",
   "pygments_lexer": "ipython3",
   "version": "3.8.8"
  }
 },
 "nbformat": 4,
 "nbformat_minor": 5
}
